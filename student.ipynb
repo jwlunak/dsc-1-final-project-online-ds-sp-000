{
 "cells": [
  {
   "cell_type": "markdown",
   "metadata": {},
   "source": [
    "## Final Project Submission\n",
    "\n",
    "Please fill out:\n",
    "* Student name: Jordan Lunak\n",
    "* Student pace: self paced\n",
    "* Scheduled project review date/time: Feb 26th, 11:30am Central\n",
    "* Instructor name: Eli Thomas\n",
    "* Blog post URL: https://datalearningblog.science.blog/2019/02/24/data-cleaning/\n"
   ]
  },
  {
   "cell_type": "markdown",
   "metadata": {},
   "source": [
    "## Overview\n",
    "The following multiple regression problem is to identify the key factors in predicting a home price in King's County. The dataset contains features and prices of current homes and from that data, future home prices can be predicted given their features. The goal is to find the key features responsible for setting the home prices.\n",
    "\n",
    "The approach for analysis will follow the OSEMN model. After obtaining the data, that data will be scrubbed by making sure features are coded in correct type and null values are removed. The data will be explored by looking at scatter plots and histograms. It will be important to check for outliers and normality of data. Some features will need to be transformed and scaled in order to get the data ready for modeling. Features will be selected, and a model will be built. Predictive nature of the model will be checked using train test split and cross validation. Based on the model summary, the data can be interpreted to determine the most important features when it comes to predicting the price of a home."
   ]
  },
  {
   "cell_type": "markdown",
   "metadata": {},
   "source": [
    "### Import necessary libraries"
   ]
  },
  {
   "cell_type": "code",
   "execution_count": 1,
   "metadata": {},
   "outputs": [],
   "source": [
    "import pandas as pd\n",
    "import numpy as np\n",
    "import matplotlib.pyplot as plt\n",
    "%matplotlib inline\n",
    "import seaborn as sns\n",
    "import statsmodels.api as sm\n",
    "from statsmodels.formula.api import ols\n",
    "from sklearn.feature_selection import RFE\n",
    "from sklearn.linear_model import LinearRegression"
   ]
  },
  {
   "cell_type": "code",
   "execution_count": 2,
   "metadata": {},
   "outputs": [
    {
     "data": {
      "text/html": [
       "<div>\n",
       "<style scoped>\n",
       "    .dataframe tbody tr th:only-of-type {\n",
       "        vertical-align: middle;\n",
       "    }\n",
       "\n",
       "    .dataframe tbody tr th {\n",
       "        vertical-align: top;\n",
       "    }\n",
       "\n",
       "    .dataframe thead th {\n",
       "        text-align: right;\n",
       "    }\n",
       "</style>\n",
       "<table border=\"1\" class=\"dataframe\">\n",
       "  <thead>\n",
       "    <tr style=\"text-align: right;\">\n",
       "      <th></th>\n",
       "      <th>id</th>\n",
       "      <th>date</th>\n",
       "      <th>price</th>\n",
       "      <th>bedrooms</th>\n",
       "      <th>bathrooms</th>\n",
       "      <th>sqft_living</th>\n",
       "      <th>sqft_lot</th>\n",
       "      <th>floors</th>\n",
       "      <th>waterfront</th>\n",
       "      <th>view</th>\n",
       "      <th>...</th>\n",
       "      <th>grade</th>\n",
       "      <th>sqft_above</th>\n",
       "      <th>sqft_basement</th>\n",
       "      <th>yr_built</th>\n",
       "      <th>yr_renovated</th>\n",
       "      <th>zipcode</th>\n",
       "      <th>lat</th>\n",
       "      <th>long</th>\n",
       "      <th>sqft_living15</th>\n",
       "      <th>sqft_lot15</th>\n",
       "    </tr>\n",
       "  </thead>\n",
       "  <tbody>\n",
       "    <tr>\n",
       "      <th>0</th>\n",
       "      <td>7129300520</td>\n",
       "      <td>10/13/2014</td>\n",
       "      <td>221900.0</td>\n",
       "      <td>3</td>\n",
       "      <td>1.00</td>\n",
       "      <td>1180</td>\n",
       "      <td>5650</td>\n",
       "      <td>1.0</td>\n",
       "      <td>NaN</td>\n",
       "      <td>0.0</td>\n",
       "      <td>...</td>\n",
       "      <td>7</td>\n",
       "      <td>1180</td>\n",
       "      <td>0.0</td>\n",
       "      <td>1955</td>\n",
       "      <td>0.0</td>\n",
       "      <td>98178</td>\n",
       "      <td>47.5112</td>\n",
       "      <td>-122.257</td>\n",
       "      <td>1340</td>\n",
       "      <td>5650</td>\n",
       "    </tr>\n",
       "    <tr>\n",
       "      <th>1</th>\n",
       "      <td>6414100192</td>\n",
       "      <td>12/9/2014</td>\n",
       "      <td>538000.0</td>\n",
       "      <td>3</td>\n",
       "      <td>2.25</td>\n",
       "      <td>2570</td>\n",
       "      <td>7242</td>\n",
       "      <td>2.0</td>\n",
       "      <td>0.0</td>\n",
       "      <td>0.0</td>\n",
       "      <td>...</td>\n",
       "      <td>7</td>\n",
       "      <td>2170</td>\n",
       "      <td>400.0</td>\n",
       "      <td>1951</td>\n",
       "      <td>1991.0</td>\n",
       "      <td>98125</td>\n",
       "      <td>47.7210</td>\n",
       "      <td>-122.319</td>\n",
       "      <td>1690</td>\n",
       "      <td>7639</td>\n",
       "    </tr>\n",
       "    <tr>\n",
       "      <th>2</th>\n",
       "      <td>5631500400</td>\n",
       "      <td>2/25/2015</td>\n",
       "      <td>180000.0</td>\n",
       "      <td>2</td>\n",
       "      <td>1.00</td>\n",
       "      <td>770</td>\n",
       "      <td>10000</td>\n",
       "      <td>1.0</td>\n",
       "      <td>0.0</td>\n",
       "      <td>0.0</td>\n",
       "      <td>...</td>\n",
       "      <td>6</td>\n",
       "      <td>770</td>\n",
       "      <td>0.0</td>\n",
       "      <td>1933</td>\n",
       "      <td>NaN</td>\n",
       "      <td>98028</td>\n",
       "      <td>47.7379</td>\n",
       "      <td>-122.233</td>\n",
       "      <td>2720</td>\n",
       "      <td>8062</td>\n",
       "    </tr>\n",
       "    <tr>\n",
       "      <th>3</th>\n",
       "      <td>2487200875</td>\n",
       "      <td>12/9/2014</td>\n",
       "      <td>604000.0</td>\n",
       "      <td>4</td>\n",
       "      <td>3.00</td>\n",
       "      <td>1960</td>\n",
       "      <td>5000</td>\n",
       "      <td>1.0</td>\n",
       "      <td>0.0</td>\n",
       "      <td>0.0</td>\n",
       "      <td>...</td>\n",
       "      <td>7</td>\n",
       "      <td>1050</td>\n",
       "      <td>910.0</td>\n",
       "      <td>1965</td>\n",
       "      <td>0.0</td>\n",
       "      <td>98136</td>\n",
       "      <td>47.5208</td>\n",
       "      <td>-122.393</td>\n",
       "      <td>1360</td>\n",
       "      <td>5000</td>\n",
       "    </tr>\n",
       "    <tr>\n",
       "      <th>4</th>\n",
       "      <td>1954400510</td>\n",
       "      <td>2/18/2015</td>\n",
       "      <td>510000.0</td>\n",
       "      <td>3</td>\n",
       "      <td>2.00</td>\n",
       "      <td>1680</td>\n",
       "      <td>8080</td>\n",
       "      <td>1.0</td>\n",
       "      <td>0.0</td>\n",
       "      <td>0.0</td>\n",
       "      <td>...</td>\n",
       "      <td>8</td>\n",
       "      <td>1680</td>\n",
       "      <td>0.0</td>\n",
       "      <td>1987</td>\n",
       "      <td>0.0</td>\n",
       "      <td>98074</td>\n",
       "      <td>47.6168</td>\n",
       "      <td>-122.045</td>\n",
       "      <td>1800</td>\n",
       "      <td>7503</td>\n",
       "    </tr>\n",
       "  </tbody>\n",
       "</table>\n",
       "<p>5 rows × 21 columns</p>\n",
       "</div>"
      ],
      "text/plain": [
       "           id        date     price  bedrooms  bathrooms  sqft_living  \\\n",
       "0  7129300520  10/13/2014  221900.0         3       1.00         1180   \n",
       "1  6414100192   12/9/2014  538000.0         3       2.25         2570   \n",
       "2  5631500400   2/25/2015  180000.0         2       1.00          770   \n",
       "3  2487200875   12/9/2014  604000.0         4       3.00         1960   \n",
       "4  1954400510   2/18/2015  510000.0         3       2.00         1680   \n",
       "\n",
       "   sqft_lot  floors  waterfront  view     ...      grade  sqft_above  \\\n",
       "0      5650     1.0         NaN   0.0     ...          7        1180   \n",
       "1      7242     2.0         0.0   0.0     ...          7        2170   \n",
       "2     10000     1.0         0.0   0.0     ...          6         770   \n",
       "3      5000     1.0         0.0   0.0     ...          7        1050   \n",
       "4      8080     1.0         0.0   0.0     ...          8        1680   \n",
       "\n",
       "   sqft_basement yr_built  yr_renovated  zipcode      lat     long  \\\n",
       "0            0.0     1955           0.0    98178  47.5112 -122.257   \n",
       "1          400.0     1951        1991.0    98125  47.7210 -122.319   \n",
       "2            0.0     1933           NaN    98028  47.7379 -122.233   \n",
       "3          910.0     1965           0.0    98136  47.5208 -122.393   \n",
       "4            0.0     1987           0.0    98074  47.6168 -122.045   \n",
       "\n",
       "   sqft_living15  sqft_lot15  \n",
       "0           1340        5650  \n",
       "1           1690        7639  \n",
       "2           2720        8062  \n",
       "3           1360        5000  \n",
       "4           1800        7503  \n",
       "\n",
       "[5 rows x 21 columns]"
      ]
     },
     "execution_count": 2,
     "metadata": {},
     "output_type": "execute_result"
    }
   ],
   "source": [
    "#import data file and view contents\n",
    "df = pd.read_csv('kc_house_data.csv')\n",
    "df.head()"
   ]
  },
  {
   "cell_type": "markdown",
   "metadata": {},
   "source": [
    "### Checking dataframe types\n",
    "  - Make sure types are coded correctly\n",
    "  - Check for placeholder values"
   ]
  },
  {
   "cell_type": "code",
   "execution_count": 3,
   "metadata": {},
   "outputs": [
    {
     "name": "stdout",
     "output_type": "stream",
     "text": [
      "<class 'pandas.core.frame.DataFrame'>\n",
      "RangeIndex: 21597 entries, 0 to 21596\n",
      "Data columns (total 21 columns):\n",
      "id               21597 non-null int64\n",
      "date             21597 non-null object\n",
      "price            21597 non-null float64\n",
      "bedrooms         21597 non-null int64\n",
      "bathrooms        21597 non-null float64\n",
      "sqft_living      21597 non-null int64\n",
      "sqft_lot         21597 non-null int64\n",
      "floors           21597 non-null float64\n",
      "waterfront       19221 non-null float64\n",
      "view             21534 non-null float64\n",
      "condition        21597 non-null int64\n",
      "grade            21597 non-null int64\n",
      "sqft_above       21597 non-null int64\n",
      "sqft_basement    21597 non-null object\n",
      "yr_built         21597 non-null int64\n",
      "yr_renovated     17755 non-null float64\n",
      "zipcode          21597 non-null int64\n",
      "lat              21597 non-null float64\n",
      "long             21597 non-null float64\n",
      "sqft_living15    21597 non-null int64\n",
      "sqft_lot15       21597 non-null int64\n",
      "dtypes: float64(8), int64(11), object(2)\n",
      "memory usage: 3.5+ MB\n"
     ]
    }
   ],
   "source": [
    "df.info()"
   ]
  },
  {
   "cell_type": "markdown",
   "metadata": {},
   "source": [
    "Zipcode is coded as integer, but has no quantitative value. I would like to change that to a 'string'.\n",
    "Waterfront is coded as a float, but is only using 1 or 0 which is categorical. I will also change that to a 'string'.\n",
    "Squarefoot basement is coded as string, but should have quantitative value. It may contain a non-numerical placeholder value."
   ]
  },
  {
   "cell_type": "code",
   "execution_count": 4,
   "metadata": {},
   "outputs": [
    {
     "data": {
      "text/plain": [
       "70"
      ]
     },
     "execution_count": 4,
     "metadata": {},
     "output_type": "execute_result"
    }
   ],
   "source": [
    "df.zipcode.nunique()"
   ]
  },
  {
   "cell_type": "code",
   "execution_count": 5,
   "metadata": {},
   "outputs": [
    {
     "data": {
      "text/plain": [
       "98103    602\n",
       "98038    589\n",
       "98115    583\n",
       "98052    574\n",
       "98117    553\n",
       "98042    547\n",
       "98034    545\n",
       "98118    507\n",
       "98023    499\n",
       "98006    498\n",
       "98133    493\n",
       "98059    468\n",
       "98058    455\n",
       "98155    446\n",
       "98074    441\n",
       "98033    432\n",
       "98027    412\n",
       "98125    409\n",
       "98056    406\n",
       "98053    403\n",
       "98001    361\n",
       "98075    359\n",
       "98126    354\n",
       "98092    351\n",
       "98144    343\n",
       "98106    335\n",
       "98116    330\n",
       "98029    321\n",
       "98199    317\n",
       "98004    317\n",
       "        ... \n",
       "98112    269\n",
       "98168    269\n",
       "98055    268\n",
       "98107    266\n",
       "98136    263\n",
       "98178    262\n",
       "98030    256\n",
       "98177    255\n",
       "98166    254\n",
       "98022    233\n",
       "98105    229\n",
       "98045    220\n",
       "98002    199\n",
       "98077    198\n",
       "98011    195\n",
       "98019    190\n",
       "98108    186\n",
       "98119    184\n",
       "98005    168\n",
       "98007    141\n",
       "98188    136\n",
       "98032    125\n",
       "98014    124\n",
       "98070    117\n",
       "98109    109\n",
       "98102    104\n",
       "98010    100\n",
       "98024     80\n",
       "98148     57\n",
       "98039     50\n",
       "Name: zipcode, Length: 70, dtype: int64"
      ]
     },
     "execution_count": 5,
     "metadata": {},
     "output_type": "execute_result"
    }
   ],
   "source": [
    "df.zipcode.value_counts()"
   ]
  },
  {
   "cell_type": "code",
   "execution_count": 6,
   "metadata": {},
   "outputs": [],
   "source": [
    "df['zipcode'] = df.zipcode.astype(str)"
   ]
  },
  {
   "cell_type": "code",
   "execution_count": 7,
   "metadata": {},
   "outputs": [],
   "source": [
    "#Waterfront is categorical variable which should be converted to type string\n",
    "df['waterfront'] = df['waterfront'].astype(\"str\")"
   ]
  },
  {
   "cell_type": "code",
   "execution_count": 8,
   "metadata": {},
   "outputs": [
    {
     "name": "stdout",
     "output_type": "stream",
     "text": [
      "<class 'pandas.core.frame.DataFrame'>\n",
      "RangeIndex: 21597 entries, 0 to 21596\n",
      "Data columns (total 21 columns):\n",
      "id               21597 non-null int64\n",
      "date             21597 non-null object\n",
      "price            21597 non-null float64\n",
      "bedrooms         21597 non-null int64\n",
      "bathrooms        21597 non-null float64\n",
      "sqft_living      21597 non-null int64\n",
      "sqft_lot         21597 non-null int64\n",
      "floors           21597 non-null float64\n",
      "waterfront       21597 non-null object\n",
      "view             21534 non-null float64\n",
      "condition        21597 non-null int64\n",
      "grade            21597 non-null int64\n",
      "sqft_above       21597 non-null int64\n",
      "sqft_basement    21597 non-null object\n",
      "yr_built         21597 non-null int64\n",
      "yr_renovated     17755 non-null float64\n",
      "zipcode          21597 non-null object\n",
      "lat              21597 non-null float64\n",
      "long             21597 non-null float64\n",
      "sqft_living15    21597 non-null int64\n",
      "sqft_lot15       21597 non-null int64\n",
      "dtypes: float64(7), int64(10), object(4)\n",
      "memory usage: 3.5+ MB\n"
     ]
    }
   ],
   "source": [
    "df.info()"
   ]
  },
  {
   "cell_type": "code",
   "execution_count": 9,
   "metadata": {},
   "outputs": [
    {
     "data": {
      "text/plain": [
       "array(['0.0', '400.0', '910.0', '1530.0', '?', '730.0', '1700.0', '300.0',\n",
       "       '970.0', '760.0', '720.0', '700.0', '820.0', '780.0', '790.0',\n",
       "       '330.0', '1620.0', '360.0', '588.0', '1510.0', '410.0', '990.0',\n",
       "       '600.0', '560.0', '550.0', '1000.0', '1600.0', '500.0', '1040.0',\n",
       "       '880.0', '1010.0', '240.0', '265.0', '290.0', '800.0', '540.0',\n",
       "       '710.0', '840.0', '380.0', '770.0', '480.0', '570.0', '1490.0',\n",
       "       '620.0', '1250.0', '1270.0', '120.0', '650.0', '180.0', '1130.0',\n",
       "       '450.0', '1640.0', '1460.0', '1020.0', '1030.0', '750.0', '640.0',\n",
       "       '1070.0', '490.0', '1310.0', '630.0', '2000.0', '390.0', '430.0',\n",
       "       '850.0', '210.0', '1430.0', '1950.0', '440.0', '220.0', '1160.0',\n",
       "       '860.0', '580.0', '2060.0', '1820.0', '1180.0', '200.0', '1150.0',\n",
       "       '1200.0', '680.0', '530.0', '1450.0', '1170.0', '1080.0', '960.0',\n",
       "       '280.0', '870.0', '1100.0', '460.0', '1400.0', '660.0', '1220.0',\n",
       "       '900.0', '420.0', '1580.0', '1380.0', '475.0', '690.0', '270.0',\n",
       "       '350.0', '935.0', '1370.0', '980.0', '1470.0', '160.0', '950.0',\n",
       "       '50.0', '740.0', '1780.0', '1900.0', '340.0', '470.0', '370.0',\n",
       "       '140.0', '1760.0', '130.0', '520.0', '890.0', '1110.0', '150.0',\n",
       "       '1720.0', '810.0', '190.0', '1290.0', '670.0', '1800.0', '1120.0',\n",
       "       '1810.0', '60.0', '1050.0', '940.0', '310.0', '930.0', '1390.0',\n",
       "       '610.0', '1830.0', '1300.0', '510.0', '1330.0', '1590.0', '920.0',\n",
       "       '1320.0', '1420.0', '1240.0', '1960.0', '1560.0', '2020.0',\n",
       "       '1190.0', '2110.0', '1280.0', '250.0', '2390.0', '1230.0', '170.0',\n",
       "       '830.0', '1260.0', '1410.0', '1340.0', '590.0', '1500.0', '1140.0',\n",
       "       '260.0', '100.0', '320.0', '1480.0', '1060.0', '1284.0', '1670.0',\n",
       "       '1350.0', '2570.0', '1090.0', '110.0', '2500.0', '90.0', '1940.0',\n",
       "       '1550.0', '2350.0', '2490.0', '1481.0', '1360.0', '1135.0',\n",
       "       '1520.0', '1850.0', '1660.0', '2130.0', '2600.0', '1690.0',\n",
       "       '243.0', '1210.0', '1024.0', '1798.0', '1610.0', '1440.0',\n",
       "       '1570.0', '1650.0', '704.0', '1910.0', '1630.0', '2360.0',\n",
       "       '1852.0', '2090.0', '2400.0', '1790.0', '2150.0', '230.0', '70.0',\n",
       "       '1680.0', '2100.0', '3000.0', '1870.0', '1710.0', '2030.0',\n",
       "       '875.0', '1540.0', '2850.0', '2170.0', '506.0', '906.0', '145.0',\n",
       "       '2040.0', '784.0', '1750.0', '374.0', '518.0', '2720.0', '2730.0',\n",
       "       '1840.0', '3480.0', '2160.0', '1920.0', '2330.0', '1860.0',\n",
       "       '2050.0', '4820.0', '1913.0', '80.0', '2010.0', '3260.0', '2200.0',\n",
       "       '415.0', '1730.0', '652.0', '2196.0', '1930.0', '515.0', '40.0',\n",
       "       '2080.0', '2580.0', '1548.0', '1740.0', '235.0', '861.0', '1890.0',\n",
       "       '2220.0', '792.0', '2070.0', '4130.0', '2250.0', '2240.0',\n",
       "       '1990.0', '768.0', '2550.0', '435.0', '1008.0', '2300.0', '2610.0',\n",
       "       '666.0', '3500.0', '172.0', '1816.0', '2190.0', '1245.0', '1525.0',\n",
       "       '1880.0', '862.0', '946.0', '1281.0', '414.0', '2180.0', '276.0',\n",
       "       '1248.0', '602.0', '516.0', '176.0', '225.0', '1275.0', '266.0',\n",
       "       '283.0', '65.0', '2310.0', '10.0', '1770.0', '2120.0', '295.0',\n",
       "       '207.0', '915.0', '556.0', '417.0', '143.0', '508.0', '2810.0',\n",
       "       '20.0', '274.0', '248.0'], dtype=object)"
      ]
     },
     "execution_count": 9,
     "metadata": {},
     "output_type": "execute_result"
    }
   ],
   "source": [
    "#sqft_basement is coded as object\n",
    "df.sqft_basement.unique()"
   ]
  },
  {
   "cell_type": "code",
   "execution_count": 10,
   "metadata": {},
   "outputs": [
    {
     "data": {
      "text/plain": [
       "0.0       12826\n",
       "?           454\n",
       "600.0       217\n",
       "500.0       209\n",
       "700.0       208\n",
       "800.0       201\n",
       "400.0       184\n",
       "1000.0      148\n",
       "300.0       142\n",
       "900.0       142\n",
       "200.0       105\n",
       "750.0       104\n",
       "450.0       103\n",
       "480.0       103\n",
       "530.0       103\n",
       "720.0        98\n",
       "620.0        90\n",
       "580.0        84\n",
       "840.0        83\n",
       "420.0        81\n",
       "860.0        79\n",
       "670.0        78\n",
       "1100.0       78\n",
       "780.0        76\n",
       "550.0        76\n",
       "650.0        75\n",
       "240.0        74\n",
       "680.0        73\n",
       "380.0        73\n",
       "850.0        72\n",
       "          ...  \n",
       "508.0         1\n",
       "1880.0        1\n",
       "1135.0        1\n",
       "2570.0        1\n",
       "417.0         1\n",
       "1930.0        1\n",
       "1816.0        1\n",
       "1481.0        1\n",
       "2250.0        1\n",
       "65.0          1\n",
       "1548.0        1\n",
       "1913.0        1\n",
       "704.0         1\n",
       "875.0         1\n",
       "2500.0        1\n",
       "283.0         1\n",
       "2730.0        1\n",
       "2850.0        1\n",
       "2130.0        1\n",
       "2190.0        1\n",
       "475.0         1\n",
       "915.0         1\n",
       "792.0         1\n",
       "768.0         1\n",
       "2810.0        1\n",
       "4820.0        1\n",
       "2050.0        1\n",
       "2610.0        1\n",
       "1281.0        1\n",
       "295.0         1\n",
       "Name: sqft_basement, Length: 304, dtype: int64"
      ]
     },
     "execution_count": 10,
     "metadata": {},
     "output_type": "execute_result"
    }
   ],
   "source": [
    "df.sqft_basement.value_counts()"
   ]
  },
  {
   "cell_type": "code",
   "execution_count": 11,
   "metadata": {},
   "outputs": [
    {
     "data": {
      "text/plain": [
       "0.021021438162707785"
      ]
     },
     "execution_count": 11,
     "metadata": {},
     "output_type": "execute_result"
    }
   ],
   "source": [
    "#checking percentage of ? values in sqft_basement\n",
    "454/21597"
   ]
  },
  {
   "cell_type": "code",
   "execution_count": 12,
   "metadata": {},
   "outputs": [
    {
     "data": {
      "text/plain": [
       "454"
      ]
     },
     "execution_count": 12,
     "metadata": {},
     "output_type": "execute_result"
    }
   ],
   "source": [
    "#2% of data as ? values for basement, which is a small set of data. I will drop the rows with ? values to remove the null values.\n",
    "len(df.loc[df['sqft_basement']=='?'])"
   ]
  },
  {
   "cell_type": "code",
   "execution_count": 13,
   "metadata": {},
   "outputs": [],
   "source": [
    "df = df[df[\"sqft_basement\"] != '?']"
   ]
  },
  {
   "cell_type": "code",
   "execution_count": 14,
   "metadata": {},
   "outputs": [
    {
     "data": {
      "text/plain": [
       "0"
      ]
     },
     "execution_count": 14,
     "metadata": {},
     "output_type": "execute_result"
    }
   ],
   "source": [
    "#Checking to make sure '?' is gone\n",
    "len(df.loc[df['sqft_basement']=='?'])"
   ]
  },
  {
   "cell_type": "code",
   "execution_count": 15,
   "metadata": {},
   "outputs": [],
   "source": [
    "df['sqft_basement'] = df.sqft_basement.astype(float)"
   ]
  },
  {
   "cell_type": "code",
   "execution_count": 16,
   "metadata": {},
   "outputs": [
    {
     "name": "stdout",
     "output_type": "stream",
     "text": [
      "<class 'pandas.core.frame.DataFrame'>\n",
      "Int64Index: 21143 entries, 0 to 21596\n",
      "Data columns (total 21 columns):\n",
      "id               21143 non-null int64\n",
      "date             21143 non-null object\n",
      "price            21143 non-null float64\n",
      "bedrooms         21143 non-null int64\n",
      "bathrooms        21143 non-null float64\n",
      "sqft_living      21143 non-null int64\n",
      "sqft_lot         21143 non-null int64\n",
      "floors           21143 non-null float64\n",
      "waterfront       21143 non-null object\n",
      "view             21082 non-null float64\n",
      "condition        21143 non-null int64\n",
      "grade            21143 non-null int64\n",
      "sqft_above       21143 non-null int64\n",
      "sqft_basement    21143 non-null float64\n",
      "yr_built         21143 non-null int64\n",
      "yr_renovated     17389 non-null float64\n",
      "zipcode          21143 non-null object\n",
      "lat              21143 non-null float64\n",
      "long             21143 non-null float64\n",
      "sqft_living15    21143 non-null int64\n",
      "sqft_lot15       21143 non-null int64\n",
      "dtypes: float64(8), int64(10), object(3)\n",
      "memory usage: 3.5+ MB\n"
     ]
    }
   ],
   "source": [
    "#Check to make sure data is stored correctly now\n",
    "df.info()"
   ]
  },
  {
   "cell_type": "markdown",
   "metadata": {},
   "source": [
    "### Find out more about Dependent Variable - Price"
   ]
  },
  {
   "cell_type": "markdown",
   "metadata": {},
   "source": [
    "It is important to explore the dependent variable to check for normality, skew, outliers, etc. Since our main question revolves around the dependent variable, we need to make sure it is clean."
   ]
  },
  {
   "cell_type": "code",
   "execution_count": 17,
   "metadata": {},
   "outputs": [
    {
     "data": {
      "text/plain": [
       "count    2.114300e+04\n",
       "mean     5.405107e+05\n",
       "std      3.680751e+05\n",
       "min      7.800000e+04\n",
       "25%      3.220000e+05\n",
       "50%      4.500000e+05\n",
       "75%      6.450000e+05\n",
       "max      7.700000e+06\n",
       "Name: price, dtype: float64"
      ]
     },
     "execution_count": 17,
     "metadata": {},
     "output_type": "execute_result"
    }
   ],
   "source": [
    "df.price.describe()"
   ]
  },
  {
   "cell_type": "code",
   "execution_count": 18,
   "metadata": {},
   "outputs": [],
   "source": [
    "# Price values range from $78,000 to $7,700,000 with a mean of $540,510 and median of $450,000.\n",
    "# 75th percentile is $645,000 which shows the max may be an outlier bringing the mean value up."
   ]
  },
  {
   "cell_type": "code",
   "execution_count": 19,
   "metadata": {},
   "outputs": [
    {
     "data": {
      "image/png": "[encoded data removed]",
      "text/plain": [
       "<Figure size 1080x432 with 1 Axes>"
      ]
     },
     "metadata": {
      "needs_background": "light"
     },
     "output_type": "display_data"
    }
   ],
   "source": [
    "df.price.hist(bins = 50, figsize = [15,6])\n",
    "plt.xlabel('Price')\n",
    "plt.ylabel('Count')\n",
    "plt.title('Histogram for Price')\n",
    "plt.show()"
   ]
  },
  {
   "cell_type": "markdown",
   "metadata": {},
   "source": [
    "Histogram shows price data has positive skew. Outliers are present. Mean is greater than median due to high number of outliers. The skew will affect our dataset so it must be normalized during the data cleaning step."
   ]
  },
  {
   "cell_type": "code",
   "execution_count": 20,
   "metadata": {},
   "outputs": [
    {
     "data": {
      "text/plain": [
       "100"
      ]
     },
     "execution_count": 20,
     "metadata": {},
     "output_type": "execute_result"
    }
   ],
   "source": [
    "len(df.loc[df.price >= 2500000])"
   ]
  },
  {
   "cell_type": "code",
   "execution_count": 21,
   "metadata": {},
   "outputs": [
    {
     "name": "stdout",
     "output_type": "stream",
     "text": [
      "Skewness: 4.035775\n",
      "Kurtosis: 34.751188\n"
     ]
    }
   ],
   "source": [
    "print(\"Skewness: %f\" % df['price'].skew())\n",
    "print(\"Kurtosis: %f\" % df['price'].kurt())"
   ]
  },
  {
   "cell_type": "code",
   "execution_count": 22,
   "metadata": {},
   "outputs": [],
   "source": [
    "#Skewness is high meaning data for price is highly skewed\n",
    "#Kurtosis is also high meaning data is leptokurtic, or 'skinny'. \n",
    "#The majority of data is in the peak with a small number of outliers"
   ]
  },
  {
   "cell_type": "code",
   "execution_count": 23,
   "metadata": {},
   "outputs": [
    {
     "data": {
      "image/png": "[encoded data removed]",
      "text/plain": [
       "<Figure size 432x288 with 1 Axes>"
      ]
     },
     "metadata": {
      "needs_background": "light"
     },
     "output_type": "display_data"
    }
   ],
   "source": [
    "plt.boxplot(df.price)\n",
    "plt.show()"
   ]
  },
  {
   "cell_type": "code",
   "execution_count": 24,
   "metadata": {},
   "outputs": [],
   "source": [
    "#Price data will need to be transformed due to high degree of skew. Will perform in later section."
   ]
  },
  {
   "cell_type": "markdown",
   "metadata": {},
   "source": [
    "### Check for null values"
   ]
  },
  {
   "cell_type": "code",
   "execution_count": 25,
   "metadata": {},
   "outputs": [
    {
     "data": {
      "text/plain": [
       "id                  0\n",
       "date                0\n",
       "price               0\n",
       "bedrooms            0\n",
       "bathrooms           0\n",
       "sqft_living         0\n",
       "sqft_lot            0\n",
       "floors              0\n",
       "waterfront          0\n",
       "view               61\n",
       "condition           0\n",
       "grade               0\n",
       "sqft_above          0\n",
       "sqft_basement       0\n",
       "yr_built            0\n",
       "yr_renovated     3754\n",
       "zipcode             0\n",
       "lat                 0\n",
       "long                0\n",
       "sqft_living15       0\n",
       "sqft_lot15          0\n",
       "dtype: int64"
      ]
     },
     "execution_count": 25,
     "metadata": {},
     "output_type": "execute_result"
    }
   ],
   "source": [
    "df.isna().sum()"
   ]
  },
  {
   "cell_type": "code",
   "execution_count": 26,
   "metadata": {},
   "outputs": [],
   "source": [
    "#View and yr_renovated have null values."
   ]
  },
  {
   "cell_type": "code",
   "execution_count": 27,
   "metadata": {},
   "outputs": [
    {
     "data": {
      "text/plain": [
       "array(['nan', '0.0', '1.0'], dtype=object)"
      ]
     },
     "execution_count": 27,
     "metadata": {},
     "output_type": "execute_result"
    }
   ],
   "source": [
    "#Waterfront is now coded as an object, but viewing unique values, 'nan' is present.\n",
    "df.waterfront.unique()"
   ]
  },
  {
   "cell_type": "code",
   "execution_count": 28,
   "metadata": {},
   "outputs": [
    {
     "data": {
      "text/plain": [
       "0"
      ]
     },
     "execution_count": 28,
     "metadata": {},
     "output_type": "execute_result"
    }
   ],
   "source": [
    "#Doesn't show nan values due to waterfront coded as object\n",
    "df.waterfront.isna().sum()"
   ]
  },
  {
   "cell_type": "code",
   "execution_count": 30,
   "metadata": {},
   "outputs": [
    {
     "data": {
      "text/plain": [
       "(18804, 21)"
      ]
     },
     "execution_count": 30,
     "metadata": {},
     "output_type": "execute_result"
    }
   ],
   "source": [
    "#Remove the rows with nan values\n",
    "df = df[df.waterfront != 'nan']\n",
    "df.shape"
   ]
  },
  {
   "cell_type": "code",
   "execution_count": 115,
   "metadata": {},
   "outputs": [
    {
     "data": {
      "text/plain": [
       "2339"
      ]
     },
     "execution_count": 115,
     "metadata": {},
     "output_type": "execute_result"
    }
   ],
   "source": [
    "#original length of waterfront minus existing length \n",
    "21143 - 18804"
   ]
  },
  {
   "cell_type": "code",
   "execution_count": 29,
   "metadata": {},
   "outputs": [
    {
     "data": {
      "text/plain": [
       "0.11062763089438585"
      ]
     },
     "execution_count": 29,
     "metadata": {},
     "output_type": "execute_result"
    }
   ],
   "source": [
    "2339/len(df)"
   ]
  },
  {
   "cell_type": "code",
   "execution_count": null,
   "metadata": {},
   "outputs": [],
   "source": [
    "# 2339 nan values removed from waterfront which is 11% of total data"
   ]
  },
  {
   "cell_type": "code",
   "execution_count": 31,
   "metadata": {},
   "outputs": [
    {
     "data": {
      "text/plain": [
       "id                  0\n",
       "date                0\n",
       "price               0\n",
       "bedrooms            0\n",
       "bathrooms           0\n",
       "sqft_living         0\n",
       "sqft_lot            0\n",
       "floors              0\n",
       "waterfront          0\n",
       "view               55\n",
       "condition           0\n",
       "grade               0\n",
       "sqft_above          0\n",
       "sqft_basement       0\n",
       "yr_built            0\n",
       "yr_renovated     3330\n",
       "zipcode             0\n",
       "lat                 0\n",
       "long                0\n",
       "sqft_living15       0\n",
       "sqft_lot15          0\n",
       "dtype: int64"
      ]
     },
     "execution_count": 31,
     "metadata": {},
     "output_type": "execute_result"
    }
   ],
   "source": [
    "df.isna().sum()"
   ]
  },
  {
   "cell_type": "code",
   "execution_count": 32,
   "metadata": {},
   "outputs": [
    {
     "data": {
      "text/plain": [
       "array([ 0., nan,  3.,  4.,  2.,  1.])"
      ]
     },
     "execution_count": 32,
     "metadata": {},
     "output_type": "execute_result"
    }
   ],
   "source": [
    "#55 null values in view\n",
    "df.view.unique()"
   ]
  },
  {
   "cell_type": "code",
   "execution_count": 33,
   "metadata": {},
   "outputs": [
    {
     "data": {
      "text/plain": [
       "0.0029249095937034673"
      ]
     },
     "execution_count": 33,
     "metadata": {},
     "output_type": "execute_result"
    }
   ],
   "source": [
    "55/len(df)"
   ]
  },
  {
   "cell_type": "code",
   "execution_count": 34,
   "metadata": {},
   "outputs": [
    {
     "data": {
      "text/plain": [
       "(18749, 21)"
      ]
     },
     "execution_count": 34,
     "metadata": {},
     "output_type": "execute_result"
    }
   ],
   "source": [
    "#0.3% of data is NaN, remove rows\n",
    "df = df[df.view == df.view]\n",
    "df.shape"
   ]
  },
  {
   "cell_type": "code",
   "execution_count": 35,
   "metadata": {},
   "outputs": [
    {
     "data": {
      "text/plain": [
       "array([1991.,   nan,    0., 2002., 2010., 1992., 2013., 1994., 1978.,\n",
       "       2005., 2003., 1984., 1954., 2014., 2011., 1983., 1990., 1988.,\n",
       "       1977., 1981., 1995., 2000., 1999., 1998., 1970., 1989., 2004.,\n",
       "       1986., 2007., 1987., 2006., 1985., 1980., 1971., 1945., 1979.,\n",
       "       1997., 1950., 1969., 1948., 2009., 2015., 2008., 2012., 1968.,\n",
       "       1963., 1951., 1962., 2001., 1953., 1993., 1955., 1996., 1982.,\n",
       "       1956., 1940., 1976., 1975., 1964., 1973., 1957., 1959., 1960.,\n",
       "       1965., 1967., 1934., 1972., 1944., 1958., 1974.])"
      ]
     },
     "execution_count": 35,
     "metadata": {},
     "output_type": "execute_result"
    }
   ],
   "source": [
    "#yr_renovated has 3330 Nan values\n",
    "df.yr_renovated.unique()"
   ]
  },
  {
   "cell_type": "code",
   "execution_count": 36,
   "metadata": {},
   "outputs": [
    {
     "data": {
      "text/plain": [
       "0.0       14797\n",
       "2014.0       61\n",
       "2013.0       29\n",
       "2005.0       27\n",
       "2000.0       25\n",
       "2003.0       24\n",
       "2007.0       24\n",
       "1990.0       22\n",
       "2009.0       19\n",
       "2006.0       18\n",
       "2004.0       17\n",
       "1989.0       15\n",
       "2008.0       15\n",
       "2002.0       15\n",
       "1998.0       14\n",
       "1999.0       13\n",
       "1987.0       13\n",
       "2010.0       13\n",
       "2015.0       13\n",
       "1984.0       13\n",
       "1992.0       12\n",
       "1994.0       12\n",
       "1997.0       12\n",
       "1983.0       11\n",
       "1985.0       11\n",
       "1986.0       11\n",
       "1991.0       11\n",
       "2001.0       11\n",
       "1988.0       10\n",
       "1993.0       10\n",
       "          ...  \n",
       "1975.0        5\n",
       "1964.0        5\n",
       "1973.0        4\n",
       "1969.0        4\n",
       "1968.0        4\n",
       "1965.0        3\n",
       "1956.0        3\n",
       "1963.0        3\n",
       "1981.0        3\n",
       "1960.0        3\n",
       "1958.0        3\n",
       "1978.0        3\n",
       "1972.0        3\n",
       "1940.0        2\n",
       "1957.0        2\n",
       "1955.0        2\n",
       "1951.0        1\n",
       "1962.0        1\n",
       "1959.0        1\n",
       "1971.0        1\n",
       "1944.0        1\n",
       "1950.0        1\n",
       "1953.0        1\n",
       "1967.0        1\n",
       "1934.0        1\n",
       "1976.0        1\n",
       "1948.0        1\n",
       "1974.0        1\n",
       "1945.0        1\n",
       "1954.0        1\n",
       "Name: yr_renovated, Length: 69, dtype: int64"
      ]
     },
     "execution_count": 36,
     "metadata": {},
     "output_type": "execute_result"
    }
   ],
   "source": [
    "df.yr_renovated.value_counts()"
   ]
  },
  {
   "cell_type": "code",
   "execution_count": 37,
   "metadata": {},
   "outputs": [
    {
     "data": {
      "text/plain": [
       "0.9668248973278575"
      ]
     },
     "execution_count": 37,
     "metadata": {},
     "output_type": "execute_result"
    }
   ],
   "source": [
    "#3330 Nan values and 14797 0.0 values in year renovated column\n",
    "(3330 + 14797)/len(df)"
   ]
  },
  {
   "cell_type": "code",
   "execution_count": 38,
   "metadata": {},
   "outputs": [],
   "source": [
    "#96.7% of the data in the year renovated column is either 0 or nan. I will drop the column from the dataframe.\n",
    "df = df.drop(['yr_renovated'], axis = 1)"
   ]
  },
  {
   "cell_type": "code",
   "execution_count": 39,
   "metadata": {},
   "outputs": [
    {
     "data": {
      "text/plain": [
       "id               0\n",
       "date             0\n",
       "price            0\n",
       "bedrooms         0\n",
       "bathrooms        0\n",
       "sqft_living      0\n",
       "sqft_lot         0\n",
       "floors           0\n",
       "waterfront       0\n",
       "view             0\n",
       "condition        0\n",
       "grade            0\n",
       "sqft_above       0\n",
       "sqft_basement    0\n",
       "yr_built         0\n",
       "zipcode          0\n",
       "lat              0\n",
       "long             0\n",
       "sqft_living15    0\n",
       "sqft_lot15       0\n",
       "dtype: int64"
      ]
     },
     "execution_count": 39,
     "metadata": {},
     "output_type": "execute_result"
    }
   ],
   "source": [
    "df.isna().sum()"
   ]
  },
  {
   "cell_type": "code",
   "execution_count": 40,
   "metadata": {},
   "outputs": [
    {
     "data": {
      "text/plain": [
       "(18749, 20)"
      ]
     },
     "execution_count": 40,
     "metadata": {},
     "output_type": "execute_result"
    }
   ],
   "source": [
    "df.shape"
   ]
  },
  {
   "cell_type": "code",
   "execution_count": 41,
   "metadata": {},
   "outputs": [
    {
     "data": {
      "text/plain": [
       "0.8681298328471547"
      ]
     },
     "execution_count": 41,
     "metadata": {},
     "output_type": "execute_result"
    }
   ],
   "source": [
    "#Total number of rows was decreased from 21597 to 18749 which is 86.8% of original dataset.\n",
    "18749/21597"
   ]
  },
  {
   "cell_type": "code",
   "execution_count": 42,
   "metadata": {},
   "outputs": [],
   "source": [
    "#Null values have been removed!"
   ]
  },
  {
   "cell_type": "markdown",
   "metadata": {},
   "source": [
    "### Exploratory Data Analysis"
   ]
  },
  {
   "cell_type": "code",
   "execution_count": 43,
   "metadata": {},
   "outputs": [
    {
     "data": {
      "text/html": [
       "<div>\n",
       "<style scoped>\n",
       "    .dataframe tbody tr th:only-of-type {\n",
       "        vertical-align: middle;\n",
       "    }\n",
       "\n",
       "    .dataframe tbody tr th {\n",
       "        vertical-align: top;\n",
       "    }\n",
       "\n",
       "    .dataframe thead th {\n",
       "        text-align: right;\n",
       "    }\n",
       "</style>\n",
       "<table border=\"1\" class=\"dataframe\">\n",
       "  <thead>\n",
       "    <tr style=\"text-align: right;\">\n",
       "      <th></th>\n",
       "      <th>id</th>\n",
       "      <th>date</th>\n",
       "      <th>price</th>\n",
       "      <th>bedrooms</th>\n",
       "      <th>bathrooms</th>\n",
       "      <th>sqft_living</th>\n",
       "      <th>sqft_lot</th>\n",
       "      <th>floors</th>\n",
       "      <th>waterfront</th>\n",
       "      <th>view</th>\n",
       "      <th>condition</th>\n",
       "      <th>grade</th>\n",
       "      <th>sqft_above</th>\n",
       "      <th>sqft_basement</th>\n",
       "      <th>yr_built</th>\n",
       "      <th>zipcode</th>\n",
       "      <th>lat</th>\n",
       "      <th>long</th>\n",
       "      <th>sqft_living15</th>\n",
       "      <th>sqft_lot15</th>\n",
       "    </tr>\n",
       "  </thead>\n",
       "  <tbody>\n",
       "    <tr>\n",
       "      <th>1</th>\n",
       "      <td>6414100192</td>\n",
       "      <td>12/9/2014</td>\n",
       "      <td>538000.0</td>\n",
       "      <td>3</td>\n",
       "      <td>2.25</td>\n",
       "      <td>2570</td>\n",
       "      <td>7242</td>\n",
       "      <td>2.0</td>\n",
       "      <td>0.0</td>\n",
       "      <td>0.0</td>\n",
       "      <td>3</td>\n",
       "      <td>7</td>\n",
       "      <td>2170</td>\n",
       "      <td>400.0</td>\n",
       "      <td>1951</td>\n",
       "      <td>98125</td>\n",
       "      <td>47.7210</td>\n",
       "      <td>-122.319</td>\n",
       "      <td>1690</td>\n",
       "      <td>7639</td>\n",
       "    </tr>\n",
       "    <tr>\n",
       "      <th>2</th>\n",
       "      <td>5631500400</td>\n",
       "      <td>2/25/2015</td>\n",
       "      <td>180000.0</td>\n",
       "      <td>2</td>\n",
       "      <td>1.00</td>\n",
       "      <td>770</td>\n",
       "      <td>10000</td>\n",
       "      <td>1.0</td>\n",
       "      <td>0.0</td>\n",
       "      <td>0.0</td>\n",
       "      <td>3</td>\n",
       "      <td>6</td>\n",
       "      <td>770</td>\n",
       "      <td>0.0</td>\n",
       "      <td>1933</td>\n",
       "      <td>98028</td>\n",
       "      <td>47.7379</td>\n",
       "      <td>-122.233</td>\n",
       "      <td>2720</td>\n",
       "      <td>8062</td>\n",
       "    </tr>\n",
       "    <tr>\n",
       "      <th>3</th>\n",
       "      <td>2487200875</td>\n",
       "      <td>12/9/2014</td>\n",
       "      <td>604000.0</td>\n",
       "      <td>4</td>\n",
       "      <td>3.00</td>\n",
       "      <td>1960</td>\n",
       "      <td>5000</td>\n",
       "      <td>1.0</td>\n",
       "      <td>0.0</td>\n",
       "      <td>0.0</td>\n",
       "      <td>5</td>\n",
       "      <td>7</td>\n",
       "      <td>1050</td>\n",
       "      <td>910.0</td>\n",
       "      <td>1965</td>\n",
       "      <td>98136</td>\n",
       "      <td>47.5208</td>\n",
       "      <td>-122.393</td>\n",
       "      <td>1360</td>\n",
       "      <td>5000</td>\n",
       "    </tr>\n",
       "    <tr>\n",
       "      <th>4</th>\n",
       "      <td>1954400510</td>\n",
       "      <td>2/18/2015</td>\n",
       "      <td>510000.0</td>\n",
       "      <td>3</td>\n",
       "      <td>2.00</td>\n",
       "      <td>1680</td>\n",
       "      <td>8080</td>\n",
       "      <td>1.0</td>\n",
       "      <td>0.0</td>\n",
       "      <td>0.0</td>\n",
       "      <td>3</td>\n",
       "      <td>8</td>\n",
       "      <td>1680</td>\n",
       "      <td>0.0</td>\n",
       "      <td>1987</td>\n",
       "      <td>98074</td>\n",
       "      <td>47.6168</td>\n",
       "      <td>-122.045</td>\n",
       "      <td>1800</td>\n",
       "      <td>7503</td>\n",
       "    </tr>\n",
       "    <tr>\n",
       "      <th>5</th>\n",
       "      <td>7237550310</td>\n",
       "      <td>5/12/2014</td>\n",
       "      <td>1230000.0</td>\n",
       "      <td>4</td>\n",
       "      <td>4.50</td>\n",
       "      <td>5420</td>\n",
       "      <td>101930</td>\n",
       "      <td>1.0</td>\n",
       "      <td>0.0</td>\n",
       "      <td>0.0</td>\n",
       "      <td>3</td>\n",
       "      <td>11</td>\n",
       "      <td>3890</td>\n",
       "      <td>1530.0</td>\n",
       "      <td>2001</td>\n",
       "      <td>98053</td>\n",
       "      <td>47.6561</td>\n",
       "      <td>-122.005</td>\n",
       "      <td>4760</td>\n",
       "      <td>101930</td>\n",
       "    </tr>\n",
       "  </tbody>\n",
       "</table>\n",
       "</div>"
      ],
      "text/plain": [
       "           id       date      price  bedrooms  bathrooms  sqft_living  \\\n",
       "1  6414100192  12/9/2014   538000.0         3       2.25         2570   \n",
       "2  5631500400  2/25/2015   180000.0         2       1.00          770   \n",
       "3  2487200875  12/9/2014   604000.0         4       3.00         1960   \n",
       "4  1954400510  2/18/2015   510000.0         3       2.00         1680   \n",
       "5  7237550310  5/12/2014  1230000.0         4       4.50         5420   \n",
       "\n",
       "   sqft_lot  floors waterfront  view  condition  grade  sqft_above  \\\n",
       "1      7242     2.0        0.0   0.0          3      7        2170   \n",
       "2     10000     1.0        0.0   0.0          3      6         770   \n",
       "3      5000     1.0        0.0   0.0          5      7        1050   \n",
       "4      8080     1.0        0.0   0.0          3      8        1680   \n",
       "5    101930     1.0        0.0   0.0          3     11        3890   \n",
       "\n",
       "   sqft_basement  yr_built zipcode      lat     long  sqft_living15  \\\n",
       "1          400.0      1951   98125  47.7210 -122.319           1690   \n",
       "2            0.0      1933   98028  47.7379 -122.233           2720   \n",
       "3          910.0      1965   98136  47.5208 -122.393           1360   \n",
       "4            0.0      1987   98074  47.6168 -122.045           1800   \n",
       "5         1530.0      2001   98053  47.6561 -122.005           4760   \n",
       "\n",
       "   sqft_lot15  \n",
       "1        7639  \n",
       "2        8062  \n",
       "3        5000  \n",
       "4        7503  \n",
       "5      101930  "
      ]
     },
     "execution_count": 43,
     "metadata": {},
     "output_type": "execute_result"
    }
   ],
   "source": [
    "df.head()"
   ]
  },
  {
   "cell_type": "code",
   "execution_count": 44,
   "metadata": {},
   "outputs": [],
   "source": [
    "#To clean up data, I am going to drop columns that are unnecessary for our question: id, lat, long and date at this time\n",
    "df.drop(['id','lat','long','date'],axis = 1, inplace= True)"
   ]
  },
  {
   "cell_type": "code",
   "execution_count": 45,
   "metadata": {},
   "outputs": [
    {
     "data": {
      "text/html": [
       "<div>\n",
       "<style scoped>\n",
       "    .dataframe tbody tr th:only-of-type {\n",
       "        vertical-align: middle;\n",
       "    }\n",
       "\n",
       "    .dataframe tbody tr th {\n",
       "        vertical-align: top;\n",
       "    }\n",
       "\n",
       "    .dataframe thead th {\n",
       "        text-align: right;\n",
       "    }\n",
       "</style>\n",
       "<table border=\"1\" class=\"dataframe\">\n",
       "  <thead>\n",
       "    <tr style=\"text-align: right;\">\n",
       "      <th></th>\n",
       "      <th>price</th>\n",
       "      <th>bedrooms</th>\n",
       "      <th>bathrooms</th>\n",
       "      <th>sqft_living</th>\n",
       "      <th>sqft_lot</th>\n",
       "      <th>floors</th>\n",
       "      <th>waterfront</th>\n",
       "      <th>view</th>\n",
       "      <th>condition</th>\n",
       "      <th>grade</th>\n",
       "      <th>sqft_above</th>\n",
       "      <th>sqft_basement</th>\n",
       "      <th>yr_built</th>\n",
       "      <th>zipcode</th>\n",
       "      <th>sqft_living15</th>\n",
       "      <th>sqft_lot15</th>\n",
       "    </tr>\n",
       "  </thead>\n",
       "  <tbody>\n",
       "    <tr>\n",
       "      <th>1</th>\n",
       "      <td>538000.0</td>\n",
       "      <td>3</td>\n",
       "      <td>2.25</td>\n",
       "      <td>2570</td>\n",
       "      <td>7242</td>\n",
       "      <td>2.0</td>\n",
       "      <td>0.0</td>\n",
       "      <td>0.0</td>\n",
       "      <td>3</td>\n",
       "      <td>7</td>\n",
       "      <td>2170</td>\n",
       "      <td>400.0</td>\n",
       "      <td>1951</td>\n",
       "      <td>98125</td>\n",
       "      <td>1690</td>\n",
       "      <td>7639</td>\n",
       "    </tr>\n",
       "    <tr>\n",
       "      <th>2</th>\n",
       "      <td>180000.0</td>\n",
       "      <td>2</td>\n",
       "      <td>1.00</td>\n",
       "      <td>770</td>\n",
       "      <td>10000</td>\n",
       "      <td>1.0</td>\n",
       "      <td>0.0</td>\n",
       "      <td>0.0</td>\n",
       "      <td>3</td>\n",
       "      <td>6</td>\n",
       "      <td>770</td>\n",
       "      <td>0.0</td>\n",
       "      <td>1933</td>\n",
       "      <td>98028</td>\n",
       "      <td>2720</td>\n",
       "      <td>8062</td>\n",
       "    </tr>\n",
       "    <tr>\n",
       "      <th>3</th>\n",
       "      <td>604000.0</td>\n",
       "      <td>4</td>\n",
       "      <td>3.00</td>\n",
       "      <td>1960</td>\n",
       "      <td>5000</td>\n",
       "      <td>1.0</td>\n",
       "      <td>0.0</td>\n",
       "      <td>0.0</td>\n",
       "      <td>5</td>\n",
       "      <td>7</td>\n",
       "      <td>1050</td>\n",
       "      <td>910.0</td>\n",
       "      <td>1965</td>\n",
       "      <td>98136</td>\n",
       "      <td>1360</td>\n",
       "      <td>5000</td>\n",
       "    </tr>\n",
       "    <tr>\n",
       "      <th>4</th>\n",
       "      <td>510000.0</td>\n",
       "      <td>3</td>\n",
       "      <td>2.00</td>\n",
       "      <td>1680</td>\n",
       "      <td>8080</td>\n",
       "      <td>1.0</td>\n",
       "      <td>0.0</td>\n",
       "      <td>0.0</td>\n",
       "      <td>3</td>\n",
       "      <td>8</td>\n",
       "      <td>1680</td>\n",
       "      <td>0.0</td>\n",
       "      <td>1987</td>\n",
       "      <td>98074</td>\n",
       "      <td>1800</td>\n",
       "      <td>7503</td>\n",
       "    </tr>\n",
       "    <tr>\n",
       "      <th>5</th>\n",
       "      <td>1230000.0</td>\n",
       "      <td>4</td>\n",
       "      <td>4.50</td>\n",
       "      <td>5420</td>\n",
       "      <td>101930</td>\n",
       "      <td>1.0</td>\n",
       "      <td>0.0</td>\n",
       "      <td>0.0</td>\n",
       "      <td>3</td>\n",
       "      <td>11</td>\n",
       "      <td>3890</td>\n",
       "      <td>1530.0</td>\n",
       "      <td>2001</td>\n",
       "      <td>98053</td>\n",
       "      <td>4760</td>\n",
       "      <td>101930</td>\n",
       "    </tr>\n",
       "  </tbody>\n",
       "</table>\n",
       "</div>"
      ],
      "text/plain": [
       "       price  bedrooms  bathrooms  sqft_living  sqft_lot  floors waterfront  \\\n",
       "1   538000.0         3       2.25         2570      7242     2.0        0.0   \n",
       "2   180000.0         2       1.00          770     10000     1.0        0.0   \n",
       "3   604000.0         4       3.00         1960      5000     1.0        0.0   \n",
       "4   510000.0         3       2.00         1680      8080     1.0        0.0   \n",
       "5  1230000.0         4       4.50         5420    101930     1.0        0.0   \n",
       "\n",
       "   view  condition  grade  sqft_above  sqft_basement  yr_built zipcode  \\\n",
       "1   0.0          3      7        2170          400.0      1951   98125   \n",
       "2   0.0          3      6         770            0.0      1933   98028   \n",
       "3   0.0          5      7        1050          910.0      1965   98136   \n",
       "4   0.0          3      8        1680            0.0      1987   98074   \n",
       "5   0.0          3     11        3890         1530.0      2001   98053   \n",
       "\n",
       "   sqft_living15  sqft_lot15  \n",
       "1           1690        7639  \n",
       "2           2720        8062  \n",
       "3           1360        5000  \n",
       "4           1800        7503  \n",
       "5           4760      101930  "
      ]
     },
     "execution_count": 45,
     "metadata": {},
     "output_type": "execute_result"
    }
   ],
   "source": [
    "df.head()"
   ]
  },
  {
   "cell_type": "markdown",
   "metadata": {},
   "source": [
    "### Questions about Data\n",
    "  - Does number of bedrooms and bathrooms have affect on Price?\n",
    "  - Does the grade that the county gives the listing correlate with the Price?\n",
    "  - Does location (zipcode) increase Price of home?"
   ]
  },
  {
   "cell_type": "code",
   "execution_count": 46,
   "metadata": {},
   "outputs": [
    {
     "data": {
      "image/png": "[encoded data removed]",
      "text/plain": [
       "<Figure size 432x288 with 1 Axes>"
      ]
     },
     "metadata": {
      "needs_background": "light"
     },
     "output_type": "display_data"
    },
    {
     "data": {
      "image/png": "[encoded data removed]",
      "text/plain": [
       "<Figure size 432x288 with 1 Axes>"
      ]
     },
     "metadata": {
      "needs_background": "light"
     },
     "output_type": "display_data"
    },
    {
     "data": {
      "image/png": "[encoded data removed]",
      "text/plain": [
       "<Figure size 432x288 with 1 Axes>"
      ]
     },
     "metadata": {
      "needs_background": "light"
     },
     "output_type": "display_data"
    },
    {
     "data": {
      "image/png": "[encoded data removed]",
      "text/plain": [
       "<Figure size 432x288 with 1 Axes>"
      ]
     },
     "metadata": {
      "needs_background": "light"
     },
     "output_type": "display_data"
    },
    {
     "data": {
      "image/png": "[encoded data removed]",
      "text/plain": [
       "<Figure size 432x288 with 1 Axes>"
      ]
     },
     "metadata": {
      "needs_background": "light"
     },
     "output_type": "display_data"
    },
    {
     "data": {
      "image/png": "[encoded data removed]",
      "text/plain": [
       "<Figure size 432x288 with 1 Axes>"
      ]
     },
     "metadata": {
      "needs_background": "light"
     },
     "output_type": "display_data"
    },
    {
     "data": {
      "image/png": "[encoded data removed]",
      "text/plain": [
       "<Figure size 432x288 with 1 Axes>"
      ]
     },
     "metadata": {
      "needs_background": "light"
     },
     "output_type": "display_data"
    },
    {
     "data": {
      "image/png": "[encoded data removed]",
      "text/plain": [
       "<Figure size 432x288 with 1 Axes>"
      ]
     },
     "metadata": {
      "needs_background": "light"
     },
     "output_type": "display_data"
    },
    {
     "data": {
      "image/png": "[encoded data removed]",
      "text/plain": [
       "<Figure size 432x288 with 1 Axes>"
      ]
     },
     "metadata": {
      "needs_background": "light"
     },
     "output_type": "display_data"
    },
    {
     "data": {
      "image/png": "[encoded data removed]",
      "text/plain": [
       "<Figure size 432x288 with 1 Axes>"
      ]
     },
     "metadata": {
      "needs_background": "light"
     },
     "output_type": "display_data"
    },
    {
     "data": {
      "image/png": "[encoded data removed]",
      "text/plain": [
       "<Figure size 432x288 with 1 Axes>"
      ]
     },
     "metadata": {
      "needs_background": "light"
     },
     "output_type": "display_data"
    },
    {
     "data": {
      "image/png": "[encoded data removed]",
      "text/plain": [
       "<Figure size 432x288 with 1 Axes>"
      ]
     },
     "metadata": {
      "needs_background": "light"
     },
     "output_type": "display_data"
    },
    {
     "data": {
      "image/png": "[encoded data removed]",
      "text/plain": [
       "<Figure size 432x288 with 1 Axes>"
      ]
     },
     "metadata": {
      "needs_background": "light"
     },
     "output_type": "display_data"
    },
    {
     "data": {
      "image/png": "[encoded data removed]",
      "text/plain": [
       "<Figure size 432x288 with 1 Axes>"
      ]
     },
     "metadata": {
      "needs_background": "light"
     },
     "output_type": "display_data"
    },
    {
     "data": {
      "image/png": "[encoded data removed]",
      "text/plain": [
       "<Figure size 432x288 with 1 Axes>"
      ]
     },
     "metadata": {
      "needs_background": "light"
     },
     "output_type": "display_data"
    }
   ],
   "source": [
    "for column in ['bedrooms', 'bathrooms', 'sqft_living', 'sqft_lot', 'floors',\n",
    "       'waterfront', 'view', 'condition', 'grade', 'sqft_above',\n",
    "       'sqft_basement', 'yr_built', 'zipcode', 'sqft_living15', 'sqft_lot15']:\n",
    "    plt.scatter(df[column],df['price'], alpha = 0.5)\n",
    "    plt.xlabel(column)\n",
    "    plt.ylabel(\"Price of Home\")\n",
    "    plt.show()"
   ]
  },
  {
   "cell_type": "markdown",
   "metadata": {},
   "source": [
    "Initial observations of data from scatter plots comparing each column to price.\n",
    " - Bedrooms has positive skew and outlier present\n",
    " - Bathrooms look to have positive linear correlation to price\n",
    " - Sq_ft living and sq_ft living of 15 nearest properties also have positive linear correlation to price\n",
    " - Sq_ft lot and sq_ft lot of 15 nearest properties do not have an obvious relationship with price. Multiple near zero values exist - likely from condos or apartments.\n",
    " - Floors and view appear categorical, but may have slight quantitative relationship with price.\n",
    " - Waterfront is a categorical variable which will be converted to dummy variable\n",
    " - Condition of home has slight positive correlation with price.\n",
    " - Grade shows positive correlation\n",
    " - Sq_ft above shows positive linear correlation to price\n",
    " - Sq_ft basement and yr_built does not seem to have much correlation to price.\n",
    " - Zipcode does not have quantitative meaning so should be thought of as categorical "
   ]
  },
  {
   "cell_type": "code",
   "execution_count": 47,
   "metadata": {},
   "outputs": [
    {
     "data": {
      "image/png": "[encoded data removed]",
      "text/plain": [
       "<Figure size 864x864 with 16 Axes>"
      ]
     },
     "metadata": {
      "needs_background": "light"
     },
     "output_type": "display_data"
    }
   ],
   "source": [
    "df.hist(figsize = [12,12])\n",
    "plt.show()"
   ]
  },
  {
   "cell_type": "markdown",
   "metadata": {},
   "source": [
    "Most of the features have positive skew, most normal histograms appear to be bathrooms and grade. Outlier was noticed in scatterplot for bedrooms which is giving histogram positive skew"
   ]
  },
  {
   "cell_type": "code",
   "execution_count": 48,
   "metadata": {},
   "outputs": [
    {
     "data": {
      "image/png": "[encoded data removed]",
      "text/plain": [
       "<Figure size 432x288 with 1 Axes>"
      ]
     },
     "metadata": {
      "needs_background": "light"
     },
     "output_type": "display_data"
    }
   ],
   "source": [
    "df.bedrooms.hist()\n",
    "plt.xlabel('bedrooms')\n",
    "plt.ylabel('frequency')\n",
    "plt.show()"
   ]
  },
  {
   "cell_type": "code",
   "execution_count": 50,
   "metadata": {},
   "outputs": [
    {
     "data": {
      "text/html": [
       "<div>\n",
       "<style scoped>\n",
       "    .dataframe tbody tr th:only-of-type {\n",
       "        vertical-align: middle;\n",
       "    }\n",
       "\n",
       "    .dataframe tbody tr th {\n",
       "        vertical-align: top;\n",
       "    }\n",
       "\n",
       "    .dataframe thead th {\n",
       "        text-align: right;\n",
       "    }\n",
       "</style>\n",
       "<table border=\"1\" class=\"dataframe\">\n",
       "  <thead>\n",
       "    <tr style=\"text-align: right;\">\n",
       "      <th></th>\n",
       "      <th>price</th>\n",
       "      <th>bedrooms</th>\n",
       "      <th>bathrooms</th>\n",
       "      <th>sqft_living</th>\n",
       "      <th>sqft_lot</th>\n",
       "      <th>floors</th>\n",
       "      <th>view</th>\n",
       "      <th>condition</th>\n",
       "      <th>grade</th>\n",
       "      <th>sqft_above</th>\n",
       "      <th>sqft_basement</th>\n",
       "      <th>yr_built</th>\n",
       "      <th>sqft_living15</th>\n",
       "      <th>sqft_lot15</th>\n",
       "    </tr>\n",
       "  </thead>\n",
       "  <tbody>\n",
       "    <tr>\n",
       "      <th>count</th>\n",
       "      <td>1.874900e+04</td>\n",
       "      <td>18749.000000</td>\n",
       "      <td>18749.000000</td>\n",
       "      <td>18749.000000</td>\n",
       "      <td>1.874900e+04</td>\n",
       "      <td>18749.000000</td>\n",
       "      <td>18749.000000</td>\n",
       "      <td>18749.000000</td>\n",
       "      <td>18749.000000</td>\n",
       "      <td>18749.000000</td>\n",
       "      <td>18749.000000</td>\n",
       "      <td>18749.000000</td>\n",
       "      <td>18749.000000</td>\n",
       "      <td>18749.000000</td>\n",
       "    </tr>\n",
       "    <tr>\n",
       "      <th>mean</th>\n",
       "      <td>5.416223e+05</td>\n",
       "      <td>3.374207</td>\n",
       "      <td>2.117446</td>\n",
       "      <td>2082.701264</td>\n",
       "      <td>1.508526e+04</td>\n",
       "      <td>1.494666</td>\n",
       "      <td>0.230626</td>\n",
       "      <td>3.410049</td>\n",
       "      <td>7.661209</td>\n",
       "      <td>1792.025975</td>\n",
       "      <td>290.675289</td>\n",
       "      <td>1971.065764</td>\n",
       "      <td>1987.864419</td>\n",
       "      <td>12778.960745</td>\n",
       "    </tr>\n",
       "    <tr>\n",
       "      <th>std</th>\n",
       "      <td>3.716492e+05</td>\n",
       "      <td>0.927399</td>\n",
       "      <td>0.769283</td>\n",
       "      <td>922.410644</td>\n",
       "      <td>4.097762e+04</td>\n",
       "      <td>0.539928</td>\n",
       "      <td>0.763219</td>\n",
       "      <td>0.650349</td>\n",
       "      <td>1.176951</td>\n",
       "      <td>832.398189</td>\n",
       "      <td>442.216056</td>\n",
       "      <td>29.324703</td>\n",
       "      <td>685.188038</td>\n",
       "      <td>27427.877265</td>\n",
       "    </tr>\n",
       "    <tr>\n",
       "      <th>min</th>\n",
       "      <td>7.800000e+04</td>\n",
       "      <td>1.000000</td>\n",
       "      <td>0.500000</td>\n",
       "      <td>370.000000</td>\n",
       "      <td>5.200000e+02</td>\n",
       "      <td>1.000000</td>\n",
       "      <td>0.000000</td>\n",
       "      <td>1.000000</td>\n",
       "      <td>3.000000</td>\n",
       "      <td>370.000000</td>\n",
       "      <td>0.000000</td>\n",
       "      <td>1900.000000</td>\n",
       "      <td>399.000000</td>\n",
       "      <td>651.000000</td>\n",
       "    </tr>\n",
       "    <tr>\n",
       "      <th>25%</th>\n",
       "      <td>3.215000e+05</td>\n",
       "      <td>3.000000</td>\n",
       "      <td>1.750000</td>\n",
       "      <td>1430.000000</td>\n",
       "      <td>5.043000e+03</td>\n",
       "      <td>1.000000</td>\n",
       "      <td>0.000000</td>\n",
       "      <td>3.000000</td>\n",
       "      <td>7.000000</td>\n",
       "      <td>1200.000000</td>\n",
       "      <td>0.000000</td>\n",
       "      <td>1952.000000</td>\n",
       "      <td>1490.000000</td>\n",
       "      <td>5100.000000</td>\n",
       "    </tr>\n",
       "    <tr>\n",
       "      <th>50%</th>\n",
       "      <td>4.500000e+05</td>\n",
       "      <td>3.000000</td>\n",
       "      <td>2.250000</td>\n",
       "      <td>1920.000000</td>\n",
       "      <td>7.630000e+03</td>\n",
       "      <td>1.500000</td>\n",
       "      <td>0.000000</td>\n",
       "      <td>3.000000</td>\n",
       "      <td>7.000000</td>\n",
       "      <td>1560.000000</td>\n",
       "      <td>0.000000</td>\n",
       "      <td>1975.000000</td>\n",
       "      <td>1840.000000</td>\n",
       "      <td>7628.000000</td>\n",
       "    </tr>\n",
       "    <tr>\n",
       "      <th>75%</th>\n",
       "      <td>6.435000e+05</td>\n",
       "      <td>4.000000</td>\n",
       "      <td>2.500000</td>\n",
       "      <td>2550.000000</td>\n",
       "      <td>1.072300e+04</td>\n",
       "      <td>2.000000</td>\n",
       "      <td>0.000000</td>\n",
       "      <td>4.000000</td>\n",
       "      <td>8.000000</td>\n",
       "      <td>2220.000000</td>\n",
       "      <td>560.000000</td>\n",
       "      <td>1997.000000</td>\n",
       "      <td>2360.000000</td>\n",
       "      <td>10100.000000</td>\n",
       "    </tr>\n",
       "    <tr>\n",
       "      <th>max</th>\n",
       "      <td>7.700000e+06</td>\n",
       "      <td>33.000000</td>\n",
       "      <td>8.000000</td>\n",
       "      <td>13540.000000</td>\n",
       "      <td>1.651359e+06</td>\n",
       "      <td>3.500000</td>\n",
       "      <td>4.000000</td>\n",
       "      <td>5.000000</td>\n",
       "      <td>13.000000</td>\n",
       "      <td>9410.000000</td>\n",
       "      <td>4820.000000</td>\n",
       "      <td>2015.000000</td>\n",
       "      <td>6210.000000</td>\n",
       "      <td>871200.000000</td>\n",
       "    </tr>\n",
       "  </tbody>\n",
       "</table>\n",
       "</div>"
      ],
      "text/plain": [
       "              price      bedrooms     bathrooms   sqft_living      sqft_lot  \\\n",
       "count  1.874900e+04  18749.000000  18749.000000  18749.000000  1.874900e+04   \n",
       "mean   5.416223e+05      3.374207      2.117446   2082.701264  1.508526e+04   \n",
       "std    3.716492e+05      0.927399      0.769283    922.410644  4.097762e+04   \n",
       "min    7.800000e+04      1.000000      0.500000    370.000000  5.200000e+02   \n",
       "25%    3.215000e+05      3.000000      1.750000   1430.000000  5.043000e+03   \n",
       "50%    4.500000e+05      3.000000      2.250000   1920.000000  7.630000e+03   \n",
       "75%    6.435000e+05      4.000000      2.500000   2550.000000  1.072300e+04   \n",
       "max    7.700000e+06     33.000000      8.000000  13540.000000  1.651359e+06   \n",
       "\n",
       "             floors          view     condition         grade    sqft_above  \\\n",
       "count  18749.000000  18749.000000  18749.000000  18749.000000  18749.000000   \n",
       "mean       1.494666      0.230626      3.410049      7.661209   1792.025975   \n",
       "std        0.539928      0.763219      0.650349      1.176951    832.398189   \n",
       "min        1.000000      0.000000      1.000000      3.000000    370.000000   \n",
       "25%        1.000000      0.000000      3.000000      7.000000   1200.000000   \n",
       "50%        1.500000      0.000000      3.000000      7.000000   1560.000000   \n",
       "75%        2.000000      0.000000      4.000000      8.000000   2220.000000   \n",
       "max        3.500000      4.000000      5.000000     13.000000   9410.000000   \n",
       "\n",
       "       sqft_basement      yr_built  sqft_living15     sqft_lot15  \n",
       "count   18749.000000  18749.000000   18749.000000   18749.000000  \n",
       "mean      290.675289   1971.065764    1987.864419   12778.960745  \n",
       "std       442.216056     29.324703     685.188038   27427.877265  \n",
       "min         0.000000   1900.000000     399.000000     651.000000  \n",
       "25%         0.000000   1952.000000    1490.000000    5100.000000  \n",
       "50%         0.000000   1975.000000    1840.000000    7628.000000  \n",
       "75%       560.000000   1997.000000    2360.000000   10100.000000  \n",
       "max      4820.000000   2015.000000    6210.000000  871200.000000  "
      ]
     },
     "execution_count": 50,
     "metadata": {},
     "output_type": "execute_result"
    }
   ],
   "source": [
    "df.describe()"
   ]
  },
  {
   "cell_type": "code",
   "execution_count": 51,
   "metadata": {},
   "outputs": [
    {
     "data": {
      "text/plain": [
       "array([ 3,  2,  4,  5,  1,  6,  7,  8,  9, 11, 10, 33], dtype=int64)"
      ]
     },
     "execution_count": 51,
     "metadata": {},
     "output_type": "execute_result"
    }
   ],
   "source": [
    "df['bedrooms'].unique()"
   ]
  },
  {
   "cell_type": "code",
   "execution_count": 52,
   "metadata": {},
   "outputs": [],
   "source": [
    "#Outlier in bedrooms of 33 - Need to drop row\n",
    "df = df[df['bedrooms'] < 32]"
   ]
  },
  {
   "cell_type": "code",
   "execution_count": 53,
   "metadata": {},
   "outputs": [
    {
     "data": {
      "text/plain": [
       "array([ 3,  2,  4,  5,  1,  6,  7,  8,  9, 11, 10], dtype=int64)"
      ]
     },
     "execution_count": 53,
     "metadata": {},
     "output_type": "execute_result"
    }
   ],
   "source": [
    "df['bedrooms'].unique()"
   ]
  },
  {
   "cell_type": "code",
   "execution_count": 54,
   "metadata": {},
   "outputs": [
    {
     "data": {
      "text/html": [
       "<div>\n",
       "<style scoped>\n",
       "    .dataframe tbody tr th:only-of-type {\n",
       "        vertical-align: middle;\n",
       "    }\n",
       "\n",
       "    .dataframe tbody tr th {\n",
       "        vertical-align: top;\n",
       "    }\n",
       "\n",
       "    .dataframe thead th {\n",
       "        text-align: right;\n",
       "    }\n",
       "</style>\n",
       "<table border=\"1\" class=\"dataframe\">\n",
       "  <thead>\n",
       "    <tr style=\"text-align: right;\">\n",
       "      <th></th>\n",
       "      <th>price</th>\n",
       "      <th>bedrooms</th>\n",
       "      <th>bathrooms</th>\n",
       "      <th>sqft_living</th>\n",
       "      <th>sqft_lot</th>\n",
       "      <th>floors</th>\n",
       "      <th>view</th>\n",
       "      <th>condition</th>\n",
       "      <th>grade</th>\n",
       "      <th>sqft_above</th>\n",
       "      <th>sqft_basement</th>\n",
       "      <th>yr_built</th>\n",
       "      <th>sqft_living15</th>\n",
       "      <th>sqft_lot15</th>\n",
       "    </tr>\n",
       "  </thead>\n",
       "  <tbody>\n",
       "    <tr>\n",
       "      <th>count</th>\n",
       "      <td>1.874800e+04</td>\n",
       "      <td>18748.000000</td>\n",
       "      <td>18748.000000</td>\n",
       "      <td>18748.000000</td>\n",
       "      <td>1.874800e+04</td>\n",
       "      <td>18748.000000</td>\n",
       "      <td>18748.000000</td>\n",
       "      <td>18748.000000</td>\n",
       "      <td>18748.000000</td>\n",
       "      <td>18748.000000</td>\n",
       "      <td>18748.000000</td>\n",
       "      <td>18748.000000</td>\n",
       "      <td>18748.000000</td>\n",
       "      <td>18748.000000</td>\n",
       "    </tr>\n",
       "    <tr>\n",
       "      <th>mean</th>\n",
       "      <td>5.416170e+05</td>\n",
       "      <td>3.372626</td>\n",
       "      <td>2.117466</td>\n",
       "      <td>2082.725944</td>\n",
       "      <td>1.508574e+04</td>\n",
       "      <td>1.494693</td>\n",
       "      <td>0.230638</td>\n",
       "      <td>3.409964</td>\n",
       "      <td>7.661244</td>\n",
       "      <td>1792.066087</td>\n",
       "      <td>290.659857</td>\n",
       "      <td>1971.067047</td>\n",
       "      <td>1987.899509</td>\n",
       "      <td>12779.391668</td>\n",
       "    </tr>\n",
       "    <tr>\n",
       "      <th>std</th>\n",
       "      <td>3.716584e+05</td>\n",
       "      <td>0.901828</td>\n",
       "      <td>0.769299</td>\n",
       "      <td>922.429055</td>\n",
       "      <td>4.097866e+04</td>\n",
       "      <td>0.539931</td>\n",
       "      <td>0.763238</td>\n",
       "      <td>0.650263</td>\n",
       "      <td>1.176973</td>\n",
       "      <td>832.402268</td>\n",
       "      <td>442.222801</td>\n",
       "      <td>29.324959</td>\n",
       "      <td>685.189465</td>\n",
       "      <td>27428.545312</td>\n",
       "    </tr>\n",
       "    <tr>\n",
       "      <th>min</th>\n",
       "      <td>7.800000e+04</td>\n",
       "      <td>1.000000</td>\n",
       "      <td>0.500000</td>\n",
       "      <td>370.000000</td>\n",
       "      <td>5.200000e+02</td>\n",
       "      <td>1.000000</td>\n",
       "      <td>0.000000</td>\n",
       "      <td>1.000000</td>\n",
       "      <td>3.000000</td>\n",
       "      <td>370.000000</td>\n",
       "      <td>0.000000</td>\n",
       "      <td>1900.000000</td>\n",
       "      <td>399.000000</td>\n",
       "      <td>651.000000</td>\n",
       "    </tr>\n",
       "    <tr>\n",
       "      <th>25%</th>\n",
       "      <td>3.215000e+05</td>\n",
       "      <td>3.000000</td>\n",
       "      <td>1.750000</td>\n",
       "      <td>1430.000000</td>\n",
       "      <td>5.043000e+03</td>\n",
       "      <td>1.000000</td>\n",
       "      <td>0.000000</td>\n",
       "      <td>3.000000</td>\n",
       "      <td>7.000000</td>\n",
       "      <td>1200.000000</td>\n",
       "      <td>0.000000</td>\n",
       "      <td>1952.000000</td>\n",
       "      <td>1490.000000</td>\n",
       "      <td>5100.000000</td>\n",
       "    </tr>\n",
       "    <tr>\n",
       "      <th>50%</th>\n",
       "      <td>4.500000e+05</td>\n",
       "      <td>3.000000</td>\n",
       "      <td>2.250000</td>\n",
       "      <td>1920.000000</td>\n",
       "      <td>7.630000e+03</td>\n",
       "      <td>1.500000</td>\n",
       "      <td>0.000000</td>\n",
       "      <td>3.000000</td>\n",
       "      <td>7.000000</td>\n",
       "      <td>1560.000000</td>\n",
       "      <td>0.000000</td>\n",
       "      <td>1975.000000</td>\n",
       "      <td>1840.000000</td>\n",
       "      <td>7628.000000</td>\n",
       "    </tr>\n",
       "    <tr>\n",
       "      <th>75%</th>\n",
       "      <td>6.435000e+05</td>\n",
       "      <td>4.000000</td>\n",
       "      <td>2.500000</td>\n",
       "      <td>2550.000000</td>\n",
       "      <td>1.072300e+04</td>\n",
       "      <td>2.000000</td>\n",
       "      <td>0.000000</td>\n",
       "      <td>4.000000</td>\n",
       "      <td>8.000000</td>\n",
       "      <td>2220.000000</td>\n",
       "      <td>560.000000</td>\n",
       "      <td>1997.000000</td>\n",
       "      <td>2360.000000</td>\n",
       "      <td>10100.250000</td>\n",
       "    </tr>\n",
       "    <tr>\n",
       "      <th>max</th>\n",
       "      <td>7.700000e+06</td>\n",
       "      <td>11.000000</td>\n",
       "      <td>8.000000</td>\n",
       "      <td>13540.000000</td>\n",
       "      <td>1.651359e+06</td>\n",
       "      <td>3.500000</td>\n",
       "      <td>4.000000</td>\n",
       "      <td>5.000000</td>\n",
       "      <td>13.000000</td>\n",
       "      <td>9410.000000</td>\n",
       "      <td>4820.000000</td>\n",
       "      <td>2015.000000</td>\n",
       "      <td>6210.000000</td>\n",
       "      <td>871200.000000</td>\n",
       "    </tr>\n",
       "  </tbody>\n",
       "</table>\n",
       "</div>"
      ],
      "text/plain": [
       "              price      bedrooms     bathrooms   sqft_living      sqft_lot  \\\n",
       "count  1.874800e+04  18748.000000  18748.000000  18748.000000  1.874800e+04   \n",
       "mean   5.416170e+05      3.372626      2.117466   2082.725944  1.508574e+04   \n",
       "std    3.716584e+05      0.901828      0.769299    922.429055  4.097866e+04   \n",
       "min    7.800000e+04      1.000000      0.500000    370.000000  5.200000e+02   \n",
       "25%    3.215000e+05      3.000000      1.750000   1430.000000  5.043000e+03   \n",
       "50%    4.500000e+05      3.000000      2.250000   1920.000000  7.630000e+03   \n",
       "75%    6.435000e+05      4.000000      2.500000   2550.000000  1.072300e+04   \n",
       "max    7.700000e+06     11.000000      8.000000  13540.000000  1.651359e+06   \n",
       "\n",
       "             floors          view     condition         grade    sqft_above  \\\n",
       "count  18748.000000  18748.000000  18748.000000  18748.000000  18748.000000   \n",
       "mean       1.494693      0.230638      3.409964      7.661244   1792.066087   \n",
       "std        0.539931      0.763238      0.650263      1.176973    832.402268   \n",
       "min        1.000000      0.000000      1.000000      3.000000    370.000000   \n",
       "25%        1.000000      0.000000      3.000000      7.000000   1200.000000   \n",
       "50%        1.500000      0.000000      3.000000      7.000000   1560.000000   \n",
       "75%        2.000000      0.000000      4.000000      8.000000   2220.000000   \n",
       "max        3.500000      4.000000      5.000000     13.000000   9410.000000   \n",
       "\n",
       "       sqft_basement      yr_built  sqft_living15     sqft_lot15  \n",
       "count   18748.000000  18748.000000   18748.000000   18748.000000  \n",
       "mean      290.659857   1971.067047    1987.899509   12779.391668  \n",
       "std       442.222801     29.324959     685.189465   27428.545312  \n",
       "min         0.000000   1900.000000     399.000000     651.000000  \n",
       "25%         0.000000   1952.000000    1490.000000    5100.000000  \n",
       "50%         0.000000   1975.000000    1840.000000    7628.000000  \n",
       "75%       560.000000   1997.000000    2360.000000   10100.250000  \n",
       "max      4820.000000   2015.000000    6210.000000  871200.000000  "
      ]
     },
     "execution_count": 54,
     "metadata": {},
     "output_type": "execute_result"
    }
   ],
   "source": [
    "df.describe()"
   ]
  },
  {
   "cell_type": "code",
   "execution_count": 55,
   "metadata": {},
   "outputs": [
    {
     "data": {
      "text/plain": [
       "2.50    4715\n",
       "1.00    3318\n",
       "1.75    2657\n",
       "2.25    1750\n",
       "2.00    1679\n",
       "1.50    1258\n",
       "2.75    1014\n",
       "3.00     644\n",
       "3.50     643\n",
       "3.25     505\n",
       "3.75     133\n",
       "4.00     120\n",
       "4.50      89\n",
       "4.25      72\n",
       "0.75      65\n",
       "4.75      22\n",
       "5.00      16\n",
       "5.25      11\n",
       "5.50       9\n",
       "1.25       8\n",
       "6.00       5\n",
       "5.75       3\n",
       "0.50       3\n",
       "8.00       2\n",
       "6.25       2\n",
       "6.75       2\n",
       "7.75       1\n",
       "6.50       1\n",
       "7.50       1\n",
       "Name: bathrooms, dtype: int64"
      ]
     },
     "execution_count": 55,
     "metadata": {},
     "output_type": "execute_result"
    }
   ],
   "source": [
    "# Checking for other outliers\n",
    "df['bathrooms'].value_counts()"
   ]
  },
  {
   "cell_type": "code",
   "execution_count": 56,
   "metadata": {},
   "outputs": [
    {
     "data": {
      "text/plain": [
       "array([0., 3., 4., 2., 1.])"
      ]
     },
     "execution_count": 56,
     "metadata": {},
     "output_type": "execute_result"
    }
   ],
   "source": [
    "df['view'].unique()"
   ]
  },
  {
   "cell_type": "code",
   "execution_count": 57,
   "metadata": {},
   "outputs": [
    {
     "data": {
      "text/plain": [
       "0.0    16940\n",
       "2.0      809\n",
       "3.0      426\n",
       "1.0      288\n",
       "4.0      285\n",
       "Name: view, dtype: int64"
      ]
     },
     "execution_count": 57,
     "metadata": {},
     "output_type": "execute_result"
    }
   ],
   "source": [
    "df['view'].value_counts()"
   ]
  },
  {
   "cell_type": "code",
   "execution_count": 58,
   "metadata": {},
   "outputs": [
    {
     "data": {
      "image/png": "[encoded data removed]",
      "text/plain": [
       "<Figure size 432x288 with 1 Axes>"
      ]
     },
     "metadata": {
      "needs_background": "light"
     },
     "output_type": "display_data"
    }
   ],
   "source": [
    "#Looking at histogram again after removal of outlier in bedrooms\n",
    "df.bedrooms.hist()\n",
    "plt.xlabel('bedrooms')\n",
    "plt.ylabel('frequency')\n",
    "plt.show()"
   ]
  },
  {
   "cell_type": "code",
   "execution_count": 59,
   "metadata": {},
   "outputs": [
    {
     "data": {
      "text/html": [
       "<div>\n",
       "<style scoped>\n",
       "    .dataframe tbody tr th:only-of-type {\n",
       "        vertical-align: middle;\n",
       "    }\n",
       "\n",
       "    .dataframe tbody tr th {\n",
       "        vertical-align: top;\n",
       "    }\n",
       "\n",
       "    .dataframe thead th {\n",
       "        text-align: right;\n",
       "    }\n",
       "</style>\n",
       "<table border=\"1\" class=\"dataframe\">\n",
       "  <thead>\n",
       "    <tr style=\"text-align: right;\">\n",
       "      <th></th>\n",
       "      <th>price</th>\n",
       "      <th>bedrooms</th>\n",
       "      <th>bathrooms</th>\n",
       "      <th>sqft_living</th>\n",
       "      <th>sqft_lot</th>\n",
       "      <th>floors</th>\n",
       "      <th>view</th>\n",
       "      <th>condition</th>\n",
       "      <th>grade</th>\n",
       "      <th>sqft_above</th>\n",
       "      <th>sqft_basement</th>\n",
       "      <th>yr_built</th>\n",
       "      <th>sqft_living15</th>\n",
       "      <th>sqft_lot15</th>\n",
       "    </tr>\n",
       "  </thead>\n",
       "  <tbody>\n",
       "    <tr>\n",
       "      <th>price</th>\n",
       "      <td>1.000000</td>\n",
       "      <td>0.317474</td>\n",
       "      <td>0.526309</td>\n",
       "      <td>0.704962</td>\n",
       "      <td>0.087598</td>\n",
       "      <td>0.258978</td>\n",
       "      <td>0.397249</td>\n",
       "      <td>0.036829</td>\n",
       "      <td>0.667690</td>\n",
       "      <td>0.609667</td>\n",
       "      <td>0.322890</td>\n",
       "      <td>0.054433</td>\n",
       "      <td>0.583710</td>\n",
       "      <td>0.082495</td>\n",
       "    </tr>\n",
       "    <tr>\n",
       "      <th>bedrooms</th>\n",
       "      <td>0.317474</td>\n",
       "      <td>1.000000</td>\n",
       "      <td>0.530968</td>\n",
       "      <td>0.594668</td>\n",
       "      <td>0.030876</td>\n",
       "      <td>0.189637</td>\n",
       "      <td>0.088328</td>\n",
       "      <td>0.020648</td>\n",
       "      <td>0.370858</td>\n",
       "      <td>0.495079</td>\n",
       "      <td>0.308519</td>\n",
       "      <td>0.164442</td>\n",
       "      <td>0.403970</td>\n",
       "      <td>0.029128</td>\n",
       "    </tr>\n",
       "    <tr>\n",
       "      <th>bathrooms</th>\n",
       "      <td>0.526309</td>\n",
       "      <td>0.530968</td>\n",
       "      <td>1.000000</td>\n",
       "      <td>0.755334</td>\n",
       "      <td>0.085595</td>\n",
       "      <td>0.507880</td>\n",
       "      <td>0.188152</td>\n",
       "      <td>-0.128021</td>\n",
       "      <td>0.667155</td>\n",
       "      <td>0.687339</td>\n",
       "      <td>0.281756</td>\n",
       "      <td>0.508606</td>\n",
       "      <td>0.569427</td>\n",
       "      <td>0.087285</td>\n",
       "    </tr>\n",
       "    <tr>\n",
       "      <th>sqft_living</th>\n",
       "      <td>0.704962</td>\n",
       "      <td>0.594668</td>\n",
       "      <td>0.755334</td>\n",
       "      <td>1.000000</td>\n",
       "      <td>0.173273</td>\n",
       "      <td>0.358067</td>\n",
       "      <td>0.287561</td>\n",
       "      <td>-0.059391</td>\n",
       "      <td>0.764120</td>\n",
       "      <td>0.877932</td>\n",
       "      <td>0.433349</td>\n",
       "      <td>0.318867</td>\n",
       "      <td>0.755537</td>\n",
       "      <td>0.183620</td>\n",
       "    </tr>\n",
       "    <tr>\n",
       "      <th>sqft_lot</th>\n",
       "      <td>0.087598</td>\n",
       "      <td>0.030876</td>\n",
       "      <td>0.085595</td>\n",
       "      <td>0.173273</td>\n",
       "      <td>1.000000</td>\n",
       "      <td>-0.007359</td>\n",
       "      <td>0.071049</td>\n",
       "      <td>-0.015140</td>\n",
       "      <td>0.115286</td>\n",
       "      <td>0.184406</td>\n",
       "      <td>0.014317</td>\n",
       "      <td>0.055958</td>\n",
       "      <td>0.144972</td>\n",
       "      <td>0.719966</td>\n",
       "    </tr>\n",
       "    <tr>\n",
       "      <th>floors</th>\n",
       "      <td>0.258978</td>\n",
       "      <td>0.189637</td>\n",
       "      <td>0.507880</td>\n",
       "      <td>0.358067</td>\n",
       "      <td>-0.007359</td>\n",
       "      <td>1.000000</td>\n",
       "      <td>0.029117</td>\n",
       "      <td>-0.262945</td>\n",
       "      <td>0.459171</td>\n",
       "      <td>0.525510</td>\n",
       "      <td>-0.242285</td>\n",
       "      <td>0.490887</td>\n",
       "      <td>0.280496</td>\n",
       "      <td>-0.011400</td>\n",
       "    </tr>\n",
       "    <tr>\n",
       "      <th>view</th>\n",
       "      <td>0.397249</td>\n",
       "      <td>0.088328</td>\n",
       "      <td>0.188152</td>\n",
       "      <td>0.287561</td>\n",
       "      <td>0.071049</td>\n",
       "      <td>0.029117</td>\n",
       "      <td>1.000000</td>\n",
       "      <td>0.046679</td>\n",
       "      <td>0.249622</td>\n",
       "      <td>0.170041</td>\n",
       "      <td>0.279751</td>\n",
       "      <td>-0.054834</td>\n",
       "      <td>0.278395</td>\n",
       "      <td>0.071079</td>\n",
       "    </tr>\n",
       "    <tr>\n",
       "      <th>condition</th>\n",
       "      <td>0.036829</td>\n",
       "      <td>0.020648</td>\n",
       "      <td>-0.128021</td>\n",
       "      <td>-0.059391</td>\n",
       "      <td>-0.015140</td>\n",
       "      <td>-0.262945</td>\n",
       "      <td>0.046679</td>\n",
       "      <td>1.000000</td>\n",
       "      <td>-0.146107</td>\n",
       "      <td>-0.155828</td>\n",
       "      <td>0.169434</td>\n",
       "      <td>-0.362013</td>\n",
       "      <td>-0.092752</td>\n",
       "      <td>-0.006935</td>\n",
       "    </tr>\n",
       "    <tr>\n",
       "      <th>grade</th>\n",
       "      <td>0.667690</td>\n",
       "      <td>0.370858</td>\n",
       "      <td>0.667155</td>\n",
       "      <td>0.764120</td>\n",
       "      <td>0.115286</td>\n",
       "      <td>0.459171</td>\n",
       "      <td>0.249622</td>\n",
       "      <td>-0.146107</td>\n",
       "      <td>1.000000</td>\n",
       "      <td>0.757846</td>\n",
       "      <td>0.167367</td>\n",
       "      <td>0.446886</td>\n",
       "      <td>0.713503</td>\n",
       "      <td>0.122138</td>\n",
       "    </tr>\n",
       "    <tr>\n",
       "      <th>sqft_above</th>\n",
       "      <td>0.609667</td>\n",
       "      <td>0.495079</td>\n",
       "      <td>0.687339</td>\n",
       "      <td>0.877932</td>\n",
       "      <td>0.184406</td>\n",
       "      <td>0.525510</td>\n",
       "      <td>0.170041</td>\n",
       "      <td>-0.155828</td>\n",
       "      <td>0.757846</td>\n",
       "      <td>1.000000</td>\n",
       "      <td>-0.051044</td>\n",
       "      <td>0.422892</td>\n",
       "      <td>0.731994</td>\n",
       "      <td>0.193685</td>\n",
       "    </tr>\n",
       "    <tr>\n",
       "      <th>sqft_basement</th>\n",
       "      <td>0.322890</td>\n",
       "      <td>0.308519</td>\n",
       "      <td>0.281756</td>\n",
       "      <td>0.433349</td>\n",
       "      <td>0.014317</td>\n",
       "      <td>-0.242285</td>\n",
       "      <td>0.279751</td>\n",
       "      <td>0.169434</td>\n",
       "      <td>0.167367</td>\n",
       "      <td>-0.051044</td>\n",
       "      <td>1.000000</td>\n",
       "      <td>-0.130894</td>\n",
       "      <td>0.198127</td>\n",
       "      <td>0.018436</td>\n",
       "    </tr>\n",
       "    <tr>\n",
       "      <th>yr_built</th>\n",
       "      <td>0.054433</td>\n",
       "      <td>0.164442</td>\n",
       "      <td>0.508606</td>\n",
       "      <td>0.318867</td>\n",
       "      <td>0.055958</td>\n",
       "      <td>0.490887</td>\n",
       "      <td>-0.054834</td>\n",
       "      <td>-0.362013</td>\n",
       "      <td>0.446886</td>\n",
       "      <td>0.422892</td>\n",
       "      <td>-0.130894</td>\n",
       "      <td>1.000000</td>\n",
       "      <td>0.324443</td>\n",
       "      <td>0.071549</td>\n",
       "    </tr>\n",
       "    <tr>\n",
       "      <th>sqft_living15</th>\n",
       "      <td>0.583710</td>\n",
       "      <td>0.403970</td>\n",
       "      <td>0.569427</td>\n",
       "      <td>0.755537</td>\n",
       "      <td>0.144972</td>\n",
       "      <td>0.280496</td>\n",
       "      <td>0.278395</td>\n",
       "      <td>-0.092752</td>\n",
       "      <td>0.713503</td>\n",
       "      <td>0.731994</td>\n",
       "      <td>0.198127</td>\n",
       "      <td>0.324443</td>\n",
       "      <td>1.000000</td>\n",
       "      <td>0.183703</td>\n",
       "    </tr>\n",
       "    <tr>\n",
       "      <th>sqft_lot15</th>\n",
       "      <td>0.082495</td>\n",
       "      <td>0.029128</td>\n",
       "      <td>0.087285</td>\n",
       "      <td>0.183620</td>\n",
       "      <td>0.719966</td>\n",
       "      <td>-0.011400</td>\n",
       "      <td>0.071079</td>\n",
       "      <td>-0.006935</td>\n",
       "      <td>0.122138</td>\n",
       "      <td>0.193685</td>\n",
       "      <td>0.018436</td>\n",
       "      <td>0.071549</td>\n",
       "      <td>0.183703</td>\n",
       "      <td>1.000000</td>\n",
       "    </tr>\n",
       "  </tbody>\n",
       "</table>\n",
       "</div>"
      ],
      "text/plain": [
       "                  price  bedrooms  bathrooms  sqft_living  sqft_lot    floors  \\\n",
       "price          1.000000  0.317474   0.526309     0.704962  0.087598  0.258978   \n",
       "bedrooms       0.317474  1.000000   0.530968     0.594668  0.030876  0.189637   \n",
       "bathrooms      0.526309  0.530968   1.000000     0.755334  0.085595  0.507880   \n",
       "sqft_living    0.704962  0.594668   0.755334     1.000000  0.173273  0.358067   \n",
       "sqft_lot       0.087598  0.030876   0.085595     0.173273  1.000000 -0.007359   \n",
       "floors         0.258978  0.189637   0.507880     0.358067 -0.007359  1.000000   \n",
       "view           0.397249  0.088328   0.188152     0.287561  0.071049  0.029117   \n",
       "condition      0.036829  0.020648  -0.128021    -0.059391 -0.015140 -0.262945   \n",
       "grade          0.667690  0.370858   0.667155     0.764120  0.115286  0.459171   \n",
       "sqft_above     0.609667  0.495079   0.687339     0.877932  0.184406  0.525510   \n",
       "sqft_basement  0.322890  0.308519   0.281756     0.433349  0.014317 -0.242285   \n",
       "yr_built       0.054433  0.164442   0.508606     0.318867  0.055958  0.490887   \n",
       "sqft_living15  0.583710  0.403970   0.569427     0.755537  0.144972  0.280496   \n",
       "sqft_lot15     0.082495  0.029128   0.087285     0.183620  0.719966 -0.011400   \n",
       "\n",
       "                   view  condition     grade  sqft_above  sqft_basement  \\\n",
       "price          0.397249   0.036829  0.667690    0.609667       0.322890   \n",
       "bedrooms       0.088328   0.020648  0.370858    0.495079       0.308519   \n",
       "bathrooms      0.188152  -0.128021  0.667155    0.687339       0.281756   \n",
       "sqft_living    0.287561  -0.059391  0.764120    0.877932       0.433349   \n",
       "sqft_lot       0.071049  -0.015140  0.115286    0.184406       0.014317   \n",
       "floors         0.029117  -0.262945  0.459171    0.525510      -0.242285   \n",
       "view           1.000000   0.046679  0.249622    0.170041       0.279751   \n",
       "condition      0.046679   1.000000 -0.146107   -0.155828       0.169434   \n",
       "grade          0.249622  -0.146107  1.000000    0.757846       0.167367   \n",
       "sqft_above     0.170041  -0.155828  0.757846    1.000000      -0.051044   \n",
       "sqft_basement  0.279751   0.169434  0.167367   -0.051044       1.000000   \n",
       "yr_built      -0.054834  -0.362013  0.446886    0.422892      -0.130894   \n",
       "sqft_living15  0.278395  -0.092752  0.713503    0.731994       0.198127   \n",
       "sqft_lot15     0.071079  -0.006935  0.122138    0.193685       0.018436   \n",
       "\n",
       "               yr_built  sqft_living15  sqft_lot15  \n",
       "price          0.054433       0.583710    0.082495  \n",
       "bedrooms       0.164442       0.403970    0.029128  \n",
       "bathrooms      0.508606       0.569427    0.087285  \n",
       "sqft_living    0.318867       0.755537    0.183620  \n",
       "sqft_lot       0.055958       0.144972    0.719966  \n",
       "floors         0.490887       0.280496   -0.011400  \n",
       "view          -0.054834       0.278395    0.071079  \n",
       "condition     -0.362013      -0.092752   -0.006935  \n",
       "grade          0.446886       0.713503    0.122138  \n",
       "sqft_above     0.422892       0.731994    0.193685  \n",
       "sqft_basement -0.130894       0.198127    0.018436  \n",
       "yr_built       1.000000       0.324443    0.071549  \n",
       "sqft_living15  0.324443       1.000000    0.183703  \n",
       "sqft_lot15     0.071549       0.183703    1.000000  "
      ]
     },
     "execution_count": 59,
     "metadata": {},
     "output_type": "execute_result"
    }
   ],
   "source": [
    "#checking for multicollinearity\n",
    "df.corr()"
   ]
  },
  {
   "cell_type": "code",
   "execution_count": 60,
   "metadata": {},
   "outputs": [
    {
     "data": {
      "image/png": "[encoded data removed]",
      "text/plain": [
       "<Figure size 432x288 with 2 Axes>"
      ]
     },
     "metadata": {
      "needs_background": "light"
     },
     "output_type": "display_data"
    }
   ],
   "source": [
    "sns.heatmap(df.corr(), center=0);"
   ]
  },
  {
   "cell_type": "markdown",
   "metadata": {},
   "source": [
    "Based on heatmap and corrlelation chart, none of the predictors appear to have multicollinearity (corr > 0.75) with price\n",
    "Most correlation with price is sqft_living, grade, sqft_above, sqft_living15 and bathrooms. This was also seen on scatter plots."
   ]
  },
  {
   "cell_type": "markdown",
   "metadata": {},
   "source": [
    "### Feature Scaling and Normalization"
   ]
  },
  {
   "cell_type": "code",
   "execution_count": 61,
   "metadata": {},
   "outputs": [
    {
     "data": {
      "image/png": "[encoded data removed]",
      "text/plain": [
       "<Figure size 720x720 with 16 Axes>"
      ]
     },
     "metadata": {
      "needs_background": "light"
     },
     "output_type": "display_data"
    }
   ],
   "source": [
    "#checking histograms again to look at skewness\n",
    "df.hist(figsize = [10,10])\n",
    "plt.show()"
   ]
  },
  {
   "cell_type": "code",
   "execution_count": 62,
   "metadata": {},
   "outputs": [
    {
     "data": {
      "image/png": "[encoded data removed]",
      "text/plain": [
       "<Figure size 576x576 with 6 Axes>"
      ]
     },
     "metadata": {
      "needs_background": "light"
     },
     "output_type": "display_data"
    }
   ],
   "source": [
    "#Performing log transformations on predictors with most skew\n",
    "data_log = pd.DataFrame([])\n",
    "data_log[\"logprice\"] = np.log(df['price'])\n",
    "data_log[\"logsqftabove\"] = np.log(df[\"sqft_above\"])\n",
    "data_log[\"logsqftliving\"] = np.log(df[\"sqft_living\"])\n",
    "data_log[\"logsqftliving15\"] = np.log(df[\"sqft_living15\"])\n",
    "data_log[\"logsqftlot\"] = np.log(df[\"sqft_lot\"])\n",
    "data_log[\"logsqftlot15\"] = np.log(df[\"sqft_lot15\"])\n",
    "data_log.hist(figsize  = [8,8]);"
   ]
  },
  {
   "cell_type": "markdown",
   "metadata": {},
   "source": [
    "Viewing the histograms of the log transformed variables improved normality of features. Sqft_basement was not log transformed due to zeros."
   ]
  },
  {
   "cell_type": "code",
   "execution_count": 63,
   "metadata": {},
   "outputs": [],
   "source": [
    "df_total = pd.concat([df, data_log],axis = 1)"
   ]
  },
  {
   "cell_type": "code",
   "execution_count": 64,
   "metadata": {},
   "outputs": [
    {
     "data": {
      "text/plain": [
       "Index(['price', 'bedrooms', 'bathrooms', 'sqft_living', 'sqft_lot', 'floors',\n",
       "       'waterfront', 'view', 'condition', 'grade', 'sqft_above',\n",
       "       'sqft_basement', 'yr_built', 'zipcode', 'sqft_living15', 'sqft_lot15',\n",
       "       'logprice', 'logsqftabove', 'logsqftliving', 'logsqftliving15',\n",
       "       'logsqftlot', 'logsqftlot15'],\n",
       "      dtype='object')"
      ]
     },
     "execution_count": 64,
     "metadata": {},
     "output_type": "execute_result"
    }
   ],
   "source": [
    "df_total.columns"
   ]
  },
  {
   "cell_type": "code",
   "execution_count": 65,
   "metadata": {},
   "outputs": [
    {
     "data": {
      "text/html": [
       "<div>\n",
       "<style scoped>\n",
       "    .dataframe tbody tr th:only-of-type {\n",
       "        vertical-align: middle;\n",
       "    }\n",
       "\n",
       "    .dataframe tbody tr th {\n",
       "        vertical-align: top;\n",
       "    }\n",
       "\n",
       "    .dataframe thead th {\n",
       "        text-align: right;\n",
       "    }\n",
       "</style>\n",
       "<table border=\"1\" class=\"dataframe\">\n",
       "  <thead>\n",
       "    <tr style=\"text-align: right;\">\n",
       "      <th></th>\n",
       "      <th>price</th>\n",
       "      <th>bedrooms</th>\n",
       "      <th>bathrooms</th>\n",
       "      <th>sqft_living</th>\n",
       "      <th>sqft_lot</th>\n",
       "      <th>floors</th>\n",
       "      <th>waterfront</th>\n",
       "      <th>view</th>\n",
       "      <th>condition</th>\n",
       "      <th>grade</th>\n",
       "      <th>...</th>\n",
       "      <th>yr_built</th>\n",
       "      <th>zipcode</th>\n",
       "      <th>sqft_living15</th>\n",
       "      <th>sqft_lot15</th>\n",
       "      <th>logprice</th>\n",
       "      <th>logsqftabove</th>\n",
       "      <th>logsqftliving</th>\n",
       "      <th>logsqftliving15</th>\n",
       "      <th>logsqftlot</th>\n",
       "      <th>logsqftlot15</th>\n",
       "    </tr>\n",
       "  </thead>\n",
       "  <tbody>\n",
       "    <tr>\n",
       "      <th>1</th>\n",
       "      <td>538000.0</td>\n",
       "      <td>3</td>\n",
       "      <td>2.25</td>\n",
       "      <td>2570</td>\n",
       "      <td>7242</td>\n",
       "      <td>2.0</td>\n",
       "      <td>0.0</td>\n",
       "      <td>0.0</td>\n",
       "      <td>3</td>\n",
       "      <td>7</td>\n",
       "      <td>...</td>\n",
       "      <td>1951</td>\n",
       "      <td>98125</td>\n",
       "      <td>1690</td>\n",
       "      <td>7639</td>\n",
       "      <td>13.195614</td>\n",
       "      <td>7.682482</td>\n",
       "      <td>7.851661</td>\n",
       "      <td>7.432484</td>\n",
       "      <td>8.887653</td>\n",
       "      <td>8.941022</td>\n",
       "    </tr>\n",
       "    <tr>\n",
       "      <th>2</th>\n",
       "      <td>180000.0</td>\n",
       "      <td>2</td>\n",
       "      <td>1.00</td>\n",
       "      <td>770</td>\n",
       "      <td>10000</td>\n",
       "      <td>1.0</td>\n",
       "      <td>0.0</td>\n",
       "      <td>0.0</td>\n",
       "      <td>3</td>\n",
       "      <td>6</td>\n",
       "      <td>...</td>\n",
       "      <td>1933</td>\n",
       "      <td>98028</td>\n",
       "      <td>2720</td>\n",
       "      <td>8062</td>\n",
       "      <td>12.100712</td>\n",
       "      <td>6.646391</td>\n",
       "      <td>6.646391</td>\n",
       "      <td>7.908387</td>\n",
       "      <td>9.210340</td>\n",
       "      <td>8.994917</td>\n",
       "    </tr>\n",
       "    <tr>\n",
       "      <th>3</th>\n",
       "      <td>604000.0</td>\n",
       "      <td>4</td>\n",
       "      <td>3.00</td>\n",
       "      <td>1960</td>\n",
       "      <td>5000</td>\n",
       "      <td>1.0</td>\n",
       "      <td>0.0</td>\n",
       "      <td>0.0</td>\n",
       "      <td>5</td>\n",
       "      <td>7</td>\n",
       "      <td>...</td>\n",
       "      <td>1965</td>\n",
       "      <td>98136</td>\n",
       "      <td>1360</td>\n",
       "      <td>5000</td>\n",
       "      <td>13.311329</td>\n",
       "      <td>6.956545</td>\n",
       "      <td>7.580700</td>\n",
       "      <td>7.215240</td>\n",
       "      <td>8.517193</td>\n",
       "      <td>8.517193</td>\n",
       "    </tr>\n",
       "    <tr>\n",
       "      <th>4</th>\n",
       "      <td>510000.0</td>\n",
       "      <td>3</td>\n",
       "      <td>2.00</td>\n",
       "      <td>1680</td>\n",
       "      <td>8080</td>\n",
       "      <td>1.0</td>\n",
       "      <td>0.0</td>\n",
       "      <td>0.0</td>\n",
       "      <td>3</td>\n",
       "      <td>8</td>\n",
       "      <td>...</td>\n",
       "      <td>1987</td>\n",
       "      <td>98074</td>\n",
       "      <td>1800</td>\n",
       "      <td>7503</td>\n",
       "      <td>13.142166</td>\n",
       "      <td>7.426549</td>\n",
       "      <td>7.426549</td>\n",
       "      <td>7.495542</td>\n",
       "      <td>8.997147</td>\n",
       "      <td>8.923058</td>\n",
       "    </tr>\n",
       "    <tr>\n",
       "      <th>5</th>\n",
       "      <td>1230000.0</td>\n",
       "      <td>4</td>\n",
       "      <td>4.50</td>\n",
       "      <td>5420</td>\n",
       "      <td>101930</td>\n",
       "      <td>1.0</td>\n",
       "      <td>0.0</td>\n",
       "      <td>0.0</td>\n",
       "      <td>3</td>\n",
       "      <td>11</td>\n",
       "      <td>...</td>\n",
       "      <td>2001</td>\n",
       "      <td>98053</td>\n",
       "      <td>4760</td>\n",
       "      <td>101930</td>\n",
       "      <td>14.022525</td>\n",
       "      <td>8.266164</td>\n",
       "      <td>8.597851</td>\n",
       "      <td>8.468003</td>\n",
       "      <td>11.532042</td>\n",
       "      <td>11.532042</td>\n",
       "    </tr>\n",
       "  </tbody>\n",
       "</table>\n",
       "<p>5 rows × 22 columns</p>\n",
       "</div>"
      ],
      "text/plain": [
       "       price  bedrooms  bathrooms  sqft_living  sqft_lot  floors waterfront  \\\n",
       "1   538000.0         3       2.25         2570      7242     2.0        0.0   \n",
       "2   180000.0         2       1.00          770     10000     1.0        0.0   \n",
       "3   604000.0         4       3.00         1960      5000     1.0        0.0   \n",
       "4   510000.0         3       2.00         1680      8080     1.0        0.0   \n",
       "5  1230000.0         4       4.50         5420    101930     1.0        0.0   \n",
       "\n",
       "   view  condition  grade      ...       yr_built  zipcode  sqft_living15  \\\n",
       "1   0.0          3      7      ...           1951    98125           1690   \n",
       "2   0.0          3      6      ...           1933    98028           2720   \n",
       "3   0.0          5      7      ...           1965    98136           1360   \n",
       "4   0.0          3      8      ...           1987    98074           1800   \n",
       "5   0.0          3     11      ...           2001    98053           4760   \n",
       "\n",
       "  sqft_lot15   logprice  logsqftabove  logsqftliving  logsqftliving15  \\\n",
       "1       7639  13.195614      7.682482       7.851661         7.432484   \n",
       "2       8062  12.100712      6.646391       6.646391         7.908387   \n",
       "3       5000  13.311329      6.956545       7.580700         7.215240   \n",
       "4       7503  13.142166      7.426549       7.426549         7.495542   \n",
       "5     101930  14.022525      8.266164       8.597851         8.468003   \n",
       "\n",
       "   logsqftlot  logsqftlot15  \n",
       "1    8.887653      8.941022  \n",
       "2    9.210340      8.994917  \n",
       "3    8.517193      8.517193  \n",
       "4    8.997147      8.923058  \n",
       "5   11.532042     11.532042  \n",
       "\n",
       "[5 rows x 22 columns]"
      ]
     },
     "execution_count": 65,
     "metadata": {},
     "output_type": "execute_result"
    }
   ],
   "source": [
    "df_total.head()"
   ]
  },
  {
   "cell_type": "code",
   "execution_count": 66,
   "metadata": {},
   "outputs": [],
   "source": [
    "#drop non-transformed variables\n",
    "df_total = df_total.drop(['sqft_living15', 'sqft_lot15', 'sqft_living', 'sqft_lot','sqft_above', 'price'],axis = 1)"
   ]
  },
  {
   "cell_type": "code",
   "execution_count": 67,
   "metadata": {},
   "outputs": [
    {
     "data": {
      "text/plain": [
       "Index(['bedrooms', 'bathrooms', 'floors', 'waterfront', 'view', 'condition',\n",
       "       'grade', 'sqft_basement', 'yr_built', 'zipcode', 'logprice',\n",
       "       'logsqftabove', 'logsqftliving', 'logsqftliving15', 'logsqftlot',\n",
       "       'logsqftlot15'],\n",
       "      dtype='object')"
      ]
     },
     "execution_count": 67,
     "metadata": {},
     "output_type": "execute_result"
    }
   ],
   "source": [
    "df_total.columns"
   ]
  },
  {
   "cell_type": "code",
   "execution_count": 68,
   "metadata": {},
   "outputs": [
    {
     "name": "stdout",
     "output_type": "stream",
     "text": [
      "<class 'pandas.core.frame.DataFrame'>\n",
      "Int64Index: 18748 entries, 1 to 21596\n",
      "Data columns (total 16 columns):\n",
      "bedrooms           18748 non-null int64\n",
      "bathrooms          18748 non-null float64\n",
      "floors             18748 non-null float64\n",
      "waterfront         18748 non-null object\n",
      "view               18748 non-null float64\n",
      "condition          18748 non-null int64\n",
      "grade              18748 non-null int64\n",
      "sqft_basement      18748 non-null float64\n",
      "yr_built           18748 non-null int64\n",
      "zipcode            18748 non-null object\n",
      "logprice           18748 non-null float64\n",
      "logsqftabove       18748 non-null float64\n",
      "logsqftliving      18748 non-null float64\n",
      "logsqftliving15    18748 non-null float64\n",
      "logsqftlot         18748 non-null float64\n",
      "logsqftlot15       18748 non-null float64\n",
      "dtypes: float64(10), int64(4), object(2)\n",
      "memory usage: 2.4+ MB\n"
     ]
    }
   ],
   "source": [
    "df_total.info()"
   ]
  },
  {
   "cell_type": "code",
   "execution_count": 69,
   "metadata": {},
   "outputs": [
    {
     "data": {
      "text/plain": [
       "logprice           1.000000\n",
       "grade              0.704557\n",
       "logsqftliving      0.674714\n",
       "logsqftliving15    0.605177\n",
       "logsqftabove       0.588293\n",
       "bathrooms          0.551485\n",
       "bedrooms           0.352325\n",
       "view               0.346698\n",
       "floors             0.314043\n",
       "sqft_basement      0.313946\n",
       "logsqftlot         0.138116\n",
       "logsqftlot15       0.123951\n",
       "yr_built           0.082768\n",
       "condition          0.037639\n",
       "Name: logprice, dtype: float64"
      ]
     },
     "execution_count": 69,
     "metadata": {},
     "output_type": "execute_result"
    }
   ],
   "source": [
    "df_total.corr()['logprice'].sort_values(ascending=False)"
   ]
  },
  {
   "cell_type": "markdown",
   "metadata": {},
   "source": [
    "After log transformation, the top correlated features are the same as predicted based on the scatter plots. Multicollinearity is still not present after log transformation. Correlation all under 0.75."
   ]
  },
  {
   "cell_type": "markdown",
   "metadata": {},
   "source": [
    "### Deciding on categorical variables\n",
    "  - Waterfront is categorical due to 1 meaning waterfront and 0 being non waterfront. Numbers don't mean anything based on values.\n",
    "  - Zipcode is also categorical. Although it is numbers, it doesn't mean anything quantitatively.\n",
    "  - A number of variables have scatter plots demonstrating categorical in nature, but the values still mean something quantitatively. For example: Bedrooms, bathrooms, grade, view, floors, year built and condition\n",
    "  - At this time I will convert waterfront and zipcode to categorical"
   ]
  },
  {
   "cell_type": "code",
   "execution_count": 70,
   "metadata": {
    "scrolled": true
   },
   "outputs": [
    {
     "data": {
      "text/html": [
       "<div>\n",
       "<style scoped>\n",
       "    .dataframe tbody tr th:only-of-type {\n",
       "        vertical-align: middle;\n",
       "    }\n",
       "\n",
       "    .dataframe tbody tr th {\n",
       "        vertical-align: top;\n",
       "    }\n",
       "\n",
       "    .dataframe thead th {\n",
       "        text-align: right;\n",
       "    }\n",
       "</style>\n",
       "<table border=\"1\" class=\"dataframe\">\n",
       "  <thead>\n",
       "    <tr style=\"text-align: right;\">\n",
       "      <th></th>\n",
       "      <th>bedrooms</th>\n",
       "      <th>bathrooms</th>\n",
       "      <th>floors</th>\n",
       "      <th>waterfront</th>\n",
       "      <th>view</th>\n",
       "      <th>condition</th>\n",
       "      <th>grade</th>\n",
       "      <th>sqft_basement</th>\n",
       "      <th>yr_built</th>\n",
       "      <th>zipcode</th>\n",
       "      <th>...</th>\n",
       "      <th>zipcode_98146</th>\n",
       "      <th>zipcode_98148</th>\n",
       "      <th>zipcode_98155</th>\n",
       "      <th>zipcode_98166</th>\n",
       "      <th>zipcode_98168</th>\n",
       "      <th>zipcode_98177</th>\n",
       "      <th>zipcode_98178</th>\n",
       "      <th>zipcode_98188</th>\n",
       "      <th>zipcode_98198</th>\n",
       "      <th>zipcode_98199</th>\n",
       "    </tr>\n",
       "  </thead>\n",
       "  <tbody>\n",
       "    <tr>\n",
       "      <th>1</th>\n",
       "      <td>3</td>\n",
       "      <td>2.25</td>\n",
       "      <td>2.0</td>\n",
       "      <td>0.0</td>\n",
       "      <td>0.0</td>\n",
       "      <td>3</td>\n",
       "      <td>7</td>\n",
       "      <td>400.0</td>\n",
       "      <td>1951</td>\n",
       "      <td>98125</td>\n",
       "      <td>...</td>\n",
       "      <td>0</td>\n",
       "      <td>0</td>\n",
       "      <td>0</td>\n",
       "      <td>0</td>\n",
       "      <td>0</td>\n",
       "      <td>0</td>\n",
       "      <td>0</td>\n",
       "      <td>0</td>\n",
       "      <td>0</td>\n",
       "      <td>0</td>\n",
       "    </tr>\n",
       "    <tr>\n",
       "      <th>2</th>\n",
       "      <td>2</td>\n",
       "      <td>1.00</td>\n",
       "      <td>1.0</td>\n",
       "      <td>0.0</td>\n",
       "      <td>0.0</td>\n",
       "      <td>3</td>\n",
       "      <td>6</td>\n",
       "      <td>0.0</td>\n",
       "      <td>1933</td>\n",
       "      <td>98028</td>\n",
       "      <td>...</td>\n",
       "      <td>0</td>\n",
       "      <td>0</td>\n",
       "      <td>0</td>\n",
       "      <td>0</td>\n",
       "      <td>0</td>\n",
       "      <td>0</td>\n",
       "      <td>0</td>\n",
       "      <td>0</td>\n",
       "      <td>0</td>\n",
       "      <td>0</td>\n",
       "    </tr>\n",
       "    <tr>\n",
       "      <th>3</th>\n",
       "      <td>4</td>\n",
       "      <td>3.00</td>\n",
       "      <td>1.0</td>\n",
       "      <td>0.0</td>\n",
       "      <td>0.0</td>\n",
       "      <td>5</td>\n",
       "      <td>7</td>\n",
       "      <td>910.0</td>\n",
       "      <td>1965</td>\n",
       "      <td>98136</td>\n",
       "      <td>...</td>\n",
       "      <td>0</td>\n",
       "      <td>0</td>\n",
       "      <td>0</td>\n",
       "      <td>0</td>\n",
       "      <td>0</td>\n",
       "      <td>0</td>\n",
       "      <td>0</td>\n",
       "      <td>0</td>\n",
       "      <td>0</td>\n",
       "      <td>0</td>\n",
       "    </tr>\n",
       "    <tr>\n",
       "      <th>4</th>\n",
       "      <td>3</td>\n",
       "      <td>2.00</td>\n",
       "      <td>1.0</td>\n",
       "      <td>0.0</td>\n",
       "      <td>0.0</td>\n",
       "      <td>3</td>\n",
       "      <td>8</td>\n",
       "      <td>0.0</td>\n",
       "      <td>1987</td>\n",
       "      <td>98074</td>\n",
       "      <td>...</td>\n",
       "      <td>0</td>\n",
       "      <td>0</td>\n",
       "      <td>0</td>\n",
       "      <td>0</td>\n",
       "      <td>0</td>\n",
       "      <td>0</td>\n",
       "      <td>0</td>\n",
       "      <td>0</td>\n",
       "      <td>0</td>\n",
       "      <td>0</td>\n",
       "    </tr>\n",
       "    <tr>\n",
       "      <th>5</th>\n",
       "      <td>4</td>\n",
       "      <td>4.50</td>\n",
       "      <td>1.0</td>\n",
       "      <td>0.0</td>\n",
       "      <td>0.0</td>\n",
       "      <td>3</td>\n",
       "      <td>11</td>\n",
       "      <td>1530.0</td>\n",
       "      <td>2001</td>\n",
       "      <td>98053</td>\n",
       "      <td>...</td>\n",
       "      <td>0</td>\n",
       "      <td>0</td>\n",
       "      <td>0</td>\n",
       "      <td>0</td>\n",
       "      <td>0</td>\n",
       "      <td>0</td>\n",
       "      <td>0</td>\n",
       "      <td>0</td>\n",
       "      <td>0</td>\n",
       "      <td>0</td>\n",
       "    </tr>\n",
       "  </tbody>\n",
       "</table>\n",
       "<p>5 rows × 86 columns</p>\n",
       "</div>"
      ],
      "text/plain": [
       "   bedrooms  bathrooms  floors waterfront  view  condition  grade  \\\n",
       "1         3       2.25     2.0        0.0   0.0          3      7   \n",
       "2         2       1.00     1.0        0.0   0.0          3      6   \n",
       "3         4       3.00     1.0        0.0   0.0          5      7   \n",
       "4         3       2.00     1.0        0.0   0.0          3      8   \n",
       "5         4       4.50     1.0        0.0   0.0          3     11   \n",
       "\n",
       "   sqft_basement  yr_built zipcode      ...        zipcode_98146  \\\n",
       "1          400.0      1951   98125      ...                    0   \n",
       "2            0.0      1933   98028      ...                    0   \n",
       "3          910.0      1965   98136      ...                    0   \n",
       "4            0.0      1987   98074      ...                    0   \n",
       "5         1530.0      2001   98053      ...                    0   \n",
       "\n",
       "   zipcode_98148  zipcode_98155  zipcode_98166  zipcode_98168  zipcode_98177  \\\n",
       "1              0              0              0              0              0   \n",
       "2              0              0              0              0              0   \n",
       "3              0              0              0              0              0   \n",
       "4              0              0              0              0              0   \n",
       "5              0              0              0              0              0   \n",
       "\n",
       "   zipcode_98178  zipcode_98188  zipcode_98198  zipcode_98199  \n",
       "1              0              0              0              0  \n",
       "2              0              0              0              0  \n",
       "3              0              0              0              0  \n",
       "4              0              0              0              0  \n",
       "5              0              0              0              0  \n",
       "\n",
       "[5 rows x 86 columns]"
      ]
     },
     "execution_count": 70,
     "metadata": {},
     "output_type": "execute_result"
    }
   ],
   "source": [
    "waterfront_dummies = pd.get_dummies(df[\"waterfront\"], prefix=\"waterfront\",drop_first=True)\n",
    "zipcode_dummies = pd.get_dummies(df['zipcode'], prefix = 'zipcode',drop_first=True)\n",
    "df_final = pd.concat([df_total, waterfront_dummies, zipcode_dummies], axis = 1)\n",
    "df_final.head()"
   ]
  },
  {
   "cell_type": "code",
   "execution_count": 71,
   "metadata": {},
   "outputs": [],
   "source": [
    "df_final = df_final.drop(['waterfront', 'zipcode'],axis = 1)"
   ]
  },
  {
   "cell_type": "code",
   "execution_count": 72,
   "metadata": {},
   "outputs": [
    {
     "data": {
      "text/plain": [
       "Index(['bedrooms', 'bathrooms', 'floors', 'view', 'condition', 'grade',\n",
       "       'sqft_basement', 'yr_built', 'logprice', 'logsqftabove',\n",
       "       'logsqftliving', 'logsqftliving15', 'logsqftlot', 'logsqftlot15',\n",
       "       'waterfront_1.0', 'zipcode_98002', 'zipcode_98003', 'zipcode_98004',\n",
       "       'zipcode_98005', 'zipcode_98006', 'zipcode_98007', 'zipcode_98008',\n",
       "       'zipcode_98010', 'zipcode_98011', 'zipcode_98014', 'zipcode_98019',\n",
       "       'zipcode_98022', 'zipcode_98023', 'zipcode_98024', 'zipcode_98027',\n",
       "       'zipcode_98028', 'zipcode_98029', 'zipcode_98030', 'zipcode_98031',\n",
       "       'zipcode_98032', 'zipcode_98033', 'zipcode_98034', 'zipcode_98038',\n",
       "       'zipcode_98039', 'zipcode_98040', 'zipcode_98042', 'zipcode_98045',\n",
       "       'zipcode_98052', 'zipcode_98053', 'zipcode_98055', 'zipcode_98056',\n",
       "       'zipcode_98058', 'zipcode_98059', 'zipcode_98065', 'zipcode_98070',\n",
       "       'zipcode_98072', 'zipcode_98074', 'zipcode_98075', 'zipcode_98077',\n",
       "       'zipcode_98092', 'zipcode_98102', 'zipcode_98103', 'zipcode_98105',\n",
       "       'zipcode_98106', 'zipcode_98107', 'zipcode_98108', 'zipcode_98109',\n",
       "       'zipcode_98112', 'zipcode_98115', 'zipcode_98116', 'zipcode_98117',\n",
       "       'zipcode_98118', 'zipcode_98119', 'zipcode_98122', 'zipcode_98125',\n",
       "       'zipcode_98126', 'zipcode_98133', 'zipcode_98136', 'zipcode_98144',\n",
       "       'zipcode_98146', 'zipcode_98148', 'zipcode_98155', 'zipcode_98166',\n",
       "       'zipcode_98168', 'zipcode_98177', 'zipcode_98178', 'zipcode_98188',\n",
       "       'zipcode_98198', 'zipcode_98199'],\n",
       "      dtype='object')"
      ]
     },
     "execution_count": 72,
     "metadata": {},
     "output_type": "execute_result"
    }
   ],
   "source": [
    "df_final.columns"
   ]
  },
  {
   "cell_type": "markdown",
   "metadata": {},
   "source": [
    "### Min Max Scaling\n",
    " - Features must be scaled in order to bring them to the same units to compare them to eachother."
   ]
  },
  {
   "cell_type": "code",
   "execution_count": 73,
   "metadata": {},
   "outputs": [],
   "source": [
    "price = df_final['logprice']\n",
    "bedroom = df_final['bedrooms']\n",
    "bathroom = df_final['bathrooms']\n",
    "floor = df_final['floors']\n",
    "view = df_final['view']\n",
    "condition = df_final['condition']\n",
    "grade = df_final['grade']\n",
    "basement = df_final['sqft_basement']\n",
    "year = df_final['yr_built']\n",
    "above = df_final['logsqftabove']\n",
    "living = df_final['logsqftliving']\n",
    "living15 = df_final['logsqftliving15']\n",
    "lot = df_final['logsqftlot']\n",
    "lot15 = df_final['logsqftlot15']\n",
    "\n",
    "# minmax scaling\n",
    "df_final['logprice'] = (price-min(price))/(max(price)-min(price))\n",
    "df_final['bedrooms'] = (bedroom-min(bedroom))/(max(bedroom)-min(bedroom))\n",
    "df_final['bathrooms'] = (bathroom-min(bathroom))/(max(bathroom)-min(bathroom))\n",
    "df_final['floors'] = (floor-min(floor))/(max(floor)-min(floor))\n",
    "df_final['view'] = (view-min(view))/(max(view)-min(view))\n",
    "df_final['condition'] = (condition-min(condition))/(max(condition)-min(condition))\n",
    "df_final['grade'] = (grade-min(grade))/(max(grade)-min(grade))\n",
    "df_final['sqft_basement'] = (basement-min(basement))/(max(basement)-min(basement))\n",
    "df_final['yr_built'] = (year-min(year))/(max(year)-min(year))\n",
    "df_final['logsqftabove'] = (above-min(above))/(max(above)-min(above))\n",
    "df_final['logsqftliving'] = (living-min(living))/(max(living)-min(living))\n",
    "df_final['logsqftliving15'] = (living15-min(living15))/(max(living15)-min(living15))\n",
    "df_final['logsqftlot']= (lot-min(lot))/(max(lot)-min(lot))\n",
    "df_final['logsqftlot15'] = (lot15-min(lot15))/(max(lot15)-min(lot15))"
   ]
  },
  {
   "cell_type": "code",
   "execution_count": 74,
   "metadata": {},
   "outputs": [
    {
     "data": {
      "text/html": [
       "<div>\n",
       "<style scoped>\n",
       "    .dataframe tbody tr th:only-of-type {\n",
       "        vertical-align: middle;\n",
       "    }\n",
       "\n",
       "    .dataframe tbody tr th {\n",
       "        vertical-align: top;\n",
       "    }\n",
       "\n",
       "    .dataframe thead th {\n",
       "        text-align: right;\n",
       "    }\n",
       "</style>\n",
       "<table border=\"1\" class=\"dataframe\">\n",
       "  <thead>\n",
       "    <tr style=\"text-align: right;\">\n",
       "      <th></th>\n",
       "      <th>bedrooms</th>\n",
       "      <th>bathrooms</th>\n",
       "      <th>floors</th>\n",
       "      <th>view</th>\n",
       "      <th>condition</th>\n",
       "      <th>grade</th>\n",
       "      <th>sqft_basement</th>\n",
       "      <th>yr_built</th>\n",
       "      <th>logprice</th>\n",
       "      <th>logsqftabove</th>\n",
       "      <th>...</th>\n",
       "      <th>zipcode_98146</th>\n",
       "      <th>zipcode_98148</th>\n",
       "      <th>zipcode_98155</th>\n",
       "      <th>zipcode_98166</th>\n",
       "      <th>zipcode_98168</th>\n",
       "      <th>zipcode_98177</th>\n",
       "      <th>zipcode_98178</th>\n",
       "      <th>zipcode_98188</th>\n",
       "      <th>zipcode_98198</th>\n",
       "      <th>zipcode_98199</th>\n",
       "    </tr>\n",
       "  </thead>\n",
       "  <tbody>\n",
       "    <tr>\n",
       "      <th>1</th>\n",
       "      <td>0.2</td>\n",
       "      <td>0.233333</td>\n",
       "      <td>0.4</td>\n",
       "      <td>0.0</td>\n",
       "      <td>0.5</td>\n",
       "      <td>0.4</td>\n",
       "      <td>0.082988</td>\n",
       "      <td>0.443478</td>\n",
       "      <td>0.420522</td>\n",
       "      <td>0.546652</td>\n",
       "      <td>...</td>\n",
       "      <td>0</td>\n",
       "      <td>0</td>\n",
       "      <td>0</td>\n",
       "      <td>0</td>\n",
       "      <td>0</td>\n",
       "      <td>0</td>\n",
       "      <td>0</td>\n",
       "      <td>0</td>\n",
       "      <td>0</td>\n",
       "      <td>0</td>\n",
       "    </tr>\n",
       "    <tr>\n",
       "      <th>2</th>\n",
       "      <td>0.1</td>\n",
       "      <td>0.066667</td>\n",
       "      <td>0.0</td>\n",
       "      <td>0.0</td>\n",
       "      <td>0.5</td>\n",
       "      <td>0.3</td>\n",
       "      <td>0.000000</td>\n",
       "      <td>0.286957</td>\n",
       "      <td>0.182099</td>\n",
       "      <td>0.226478</td>\n",
       "      <td>...</td>\n",
       "      <td>0</td>\n",
       "      <td>0</td>\n",
       "      <td>0</td>\n",
       "      <td>0</td>\n",
       "      <td>0</td>\n",
       "      <td>0</td>\n",
       "      <td>0</td>\n",
       "      <td>0</td>\n",
       "      <td>0</td>\n",
       "      <td>0</td>\n",
       "    </tr>\n",
       "    <tr>\n",
       "      <th>3</th>\n",
       "      <td>0.3</td>\n",
       "      <td>0.333333</td>\n",
       "      <td>0.0</td>\n",
       "      <td>0.0</td>\n",
       "      <td>1.0</td>\n",
       "      <td>0.4</td>\n",
       "      <td>0.188797</td>\n",
       "      <td>0.565217</td>\n",
       "      <td>0.445720</td>\n",
       "      <td>0.322322</td>\n",
       "      <td>...</td>\n",
       "      <td>0</td>\n",
       "      <td>0</td>\n",
       "      <td>0</td>\n",
       "      <td>0</td>\n",
       "      <td>0</td>\n",
       "      <td>0</td>\n",
       "      <td>0</td>\n",
       "      <td>0</td>\n",
       "      <td>0</td>\n",
       "      <td>0</td>\n",
       "    </tr>\n",
       "    <tr>\n",
       "      <th>4</th>\n",
       "      <td>0.2</td>\n",
       "      <td>0.200000</td>\n",
       "      <td>0.0</td>\n",
       "      <td>0.0</td>\n",
       "      <td>0.5</td>\n",
       "      <td>0.5</td>\n",
       "      <td>0.000000</td>\n",
       "      <td>0.756522</td>\n",
       "      <td>0.408883</td>\n",
       "      <td>0.467563</td>\n",
       "      <td>...</td>\n",
       "      <td>0</td>\n",
       "      <td>0</td>\n",
       "      <td>0</td>\n",
       "      <td>0</td>\n",
       "      <td>0</td>\n",
       "      <td>0</td>\n",
       "      <td>0</td>\n",
       "      <td>0</td>\n",
       "      <td>0</td>\n",
       "      <td>0</td>\n",
       "    </tr>\n",
       "    <tr>\n",
       "      <th>5</th>\n",
       "      <td>0.3</td>\n",
       "      <td>0.533333</td>\n",
       "      <td>0.0</td>\n",
       "      <td>0.0</td>\n",
       "      <td>0.5</td>\n",
       "      <td>0.8</td>\n",
       "      <td>0.317427</td>\n",
       "      <td>0.878261</td>\n",
       "      <td>0.600588</td>\n",
       "      <td>0.727022</td>\n",
       "      <td>...</td>\n",
       "      <td>0</td>\n",
       "      <td>0</td>\n",
       "      <td>0</td>\n",
       "      <td>0</td>\n",
       "      <td>0</td>\n",
       "      <td>0</td>\n",
       "      <td>0</td>\n",
       "      <td>0</td>\n",
       "      <td>0</td>\n",
       "      <td>0</td>\n",
       "    </tr>\n",
       "  </tbody>\n",
       "</table>\n",
       "<p>5 rows × 84 columns</p>\n",
       "</div>"
      ],
      "text/plain": [
       "   bedrooms  bathrooms  floors  view  condition  grade  sqft_basement  \\\n",
       "1       0.2   0.233333     0.4   0.0        0.5    0.4       0.082988   \n",
       "2       0.1   0.066667     0.0   0.0        0.5    0.3       0.000000   \n",
       "3       0.3   0.333333     0.0   0.0        1.0    0.4       0.188797   \n",
       "4       0.2   0.200000     0.0   0.0        0.5    0.5       0.000000   \n",
       "5       0.3   0.533333     0.0   0.0        0.5    0.8       0.317427   \n",
       "\n",
       "   yr_built  logprice  logsqftabove      ...        zipcode_98146  \\\n",
       "1  0.443478  0.420522      0.546652      ...                    0   \n",
       "2  0.286957  0.182099      0.226478      ...                    0   \n",
       "3  0.565217  0.445720      0.322322      ...                    0   \n",
       "4  0.756522  0.408883      0.467563      ...                    0   \n",
       "5  0.878261  0.600588      0.727022      ...                    0   \n",
       "\n",
       "   zipcode_98148  zipcode_98155  zipcode_98166  zipcode_98168  zipcode_98177  \\\n",
       "1              0              0              0              0              0   \n",
       "2              0              0              0              0              0   \n",
       "3              0              0              0              0              0   \n",
       "4              0              0              0              0              0   \n",
       "5              0              0              0              0              0   \n",
       "\n",
       "   zipcode_98178  zipcode_98188  zipcode_98198  zipcode_98199  \n",
       "1              0              0              0              0  \n",
       "2              0              0              0              0  \n",
       "3              0              0              0              0  \n",
       "4              0              0              0              0  \n",
       "5              0              0              0              0  \n",
       "\n",
       "[5 rows x 84 columns]"
      ]
     },
     "execution_count": 74,
     "metadata": {},
     "output_type": "execute_result"
    }
   ],
   "source": [
    "df_final.head()"
   ]
  },
  {
   "cell_type": "markdown",
   "metadata": {},
   "source": [
    "### Ordinary Least Squares Model"
   ]
  },
  {
   "cell_type": "code",
   "execution_count": 75,
   "metadata": {},
   "outputs": [
    {
     "data": {
      "text/html": [
       "<table class=\"simpletable\">\n",
       "<caption>OLS Regression Results</caption>\n",
       "<tr>\n",
       "  <th>Dep. Variable:</th>        <td>logprice</td>     <th>  R-squared:         </th>  <td>   0.883</td> \n",
       "</tr>\n",
       "<tr>\n",
       "  <th>Model:</th>                   <td>OLS</td>       <th>  Adj. R-squared:    </th>  <td>   0.883</td> \n",
       "</tr>\n",
       "<tr>\n",
       "  <th>Method:</th>             <td>Least Squares</td>  <th>  F-statistic:       </th>  <td>   1704.</td> \n",
       "</tr>\n",
       "<tr>\n",
       "  <th>Date:</th>             <td>Tue, 26 Feb 2019</td> <th>  Prob (F-statistic):</th>   <td>  0.00</td>  \n",
       "</tr>\n",
       "<tr>\n",
       "  <th>Time:</th>                 <td>08:35:56</td>     <th>  Log-Likelihood:    </th>  <td>  34120.</td> \n",
       "</tr>\n",
       "<tr>\n",
       "  <th>No. Observations:</th>      <td> 18748</td>      <th>  AIC:               </th> <td>-6.807e+04</td>\n",
       "</tr>\n",
       "<tr>\n",
       "  <th>Df Residuals:</th>          <td> 18664</td>      <th>  BIC:               </th> <td>-6.741e+04</td>\n",
       "</tr>\n",
       "<tr>\n",
       "  <th>Df Model:</th>              <td>    83</td>      <th>                     </th>      <td> </td>    \n",
       "</tr>\n",
       "<tr>\n",
       "  <th>Covariance Type:</th>      <td>nonrobust</td>    <th>                     </th>      <td> </td>    \n",
       "</tr>\n",
       "</table>\n",
       "<table class=\"simpletable\">\n",
       "<tr>\n",
       "         <td></td>            <th>coef</th>     <th>std err</th>      <th>t</th>      <th>P>|t|</th>  <th>[0.025</th>    <th>0.975]</th>  \n",
       "</tr>\n",
       "<tr>\n",
       "  <th>const</th>           <td>   -0.0725</td> <td>    0.004</td> <td>  -20.285</td> <td> 0.000</td> <td>   -0.079</td> <td>   -0.065</td>\n",
       "</tr>\n",
       "<tr>\n",
       "  <th>bedrooms</th>        <td>   -0.0357</td> <td>    0.004</td> <td>   -8.104</td> <td> 0.000</td> <td>   -0.044</td> <td>   -0.027</td>\n",
       "</tr>\n",
       "<tr>\n",
       "  <th>bathrooms</th>       <td>    0.0710</td> <td>    0.005</td> <td>   13.874</td> <td> 0.000</td> <td>    0.061</td> <td>    0.081</td>\n",
       "</tr>\n",
       "<tr>\n",
       "  <th>floors</th>          <td>   -0.0105</td> <td>    0.002</td> <td>   -4.799</td> <td> 0.000</td> <td>   -0.015</td> <td>   -0.006</td>\n",
       "</tr>\n",
       "<tr>\n",
       "  <th>view</th>            <td>    0.0520</td> <td>    0.002</td> <td>   27.955</td> <td> 0.000</td> <td>    0.048</td> <td>    0.056</td>\n",
       "</tr>\n",
       "<tr>\n",
       "  <th>condition</th>       <td>    0.0428</td> <td>    0.002</td> <td>   21.479</td> <td> 0.000</td> <td>    0.039</td> <td>    0.047</td>\n",
       "</tr>\n",
       "<tr>\n",
       "  <th>grade</th>           <td>    0.2068</td> <td>    0.005</td> <td>   44.502</td> <td> 0.000</td> <td>    0.198</td> <td>    0.216</td>\n",
       "</tr>\n",
       "<tr>\n",
       "  <th>sqft_basement</th>   <td>    0.0118</td> <td>    0.009</td> <td>    1.279</td> <td> 0.201</td> <td>   -0.006</td> <td>    0.030</td>\n",
       "</tr>\n",
       "<tr>\n",
       "  <th>yr_built</th>        <td>   -0.0106</td> <td>    0.002</td> <td>   -5.551</td> <td> 0.000</td> <td>   -0.014</td> <td>   -0.007</td>\n",
       "</tr>\n",
       "<tr>\n",
       "  <th>logsqftabove</th>    <td>    0.1210</td> <td>    0.012</td> <td>   10.263</td> <td> 0.000</td> <td>    0.098</td> <td>    0.144</td>\n",
       "</tr>\n",
       "<tr>\n",
       "  <th>logsqftliving</th>   <td>    0.2031</td> <td>    0.014</td> <td>   14.323</td> <td> 0.000</td> <td>    0.175</td> <td>    0.231</td>\n",
       "</tr>\n",
       "<tr>\n",
       "  <th>logsqftliving15</th> <td>    0.0867</td> <td>    0.004</td> <td>   20.306</td> <td> 0.000</td> <td>    0.078</td> <td>    0.095</td>\n",
       "</tr>\n",
       "<tr>\n",
       "  <th>logsqftlot</th>      <td>    0.1208</td> <td>    0.007</td> <td>   17.768</td> <td> 0.000</td> <td>    0.108</td> <td>    0.134</td>\n",
       "</tr>\n",
       "<tr>\n",
       "  <th>logsqftlot15</th>    <td>   -0.0270</td> <td>    0.007</td> <td>   -4.045</td> <td> 0.000</td> <td>   -0.040</td> <td>   -0.014</td>\n",
       "</tr>\n",
       "<tr>\n",
       "  <th>waterfront_1.0</th>  <td>    0.1065</td> <td>    0.004</td> <td>   28.724</td> <td> 0.000</td> <td>    0.099</td> <td>    0.114</td>\n",
       "</tr>\n",
       "<tr>\n",
       "  <th>zipcode_98002</th>   <td>    0.0022</td> <td>    0.004</td> <td>    0.605</td> <td> 0.545</td> <td>   -0.005</td> <td>    0.009</td>\n",
       "</tr>\n",
       "<tr>\n",
       "  <th>zipcode_98003</th>   <td>    0.0032</td> <td>    0.003</td> <td>    0.965</td> <td> 0.334</td> <td>   -0.003</td> <td>    0.010</td>\n",
       "</tr>\n",
       "<tr>\n",
       "  <th>zipcode_98004</th>   <td>    0.2483</td> <td>    0.003</td> <td>   75.709</td> <td> 0.000</td> <td>    0.242</td> <td>    0.255</td>\n",
       "</tr>\n",
       "<tr>\n",
       "  <th>zipcode_98005</th>   <td>    0.1584</td> <td>    0.004</td> <td>   40.838</td> <td> 0.000</td> <td>    0.151</td> <td>    0.166</td>\n",
       "</tr>\n",
       "<tr>\n",
       "  <th>zipcode_98006</th>   <td>    0.1418</td> <td>    0.003</td> <td>   47.684</td> <td> 0.000</td> <td>    0.136</td> <td>    0.148</td>\n",
       "</tr>\n",
       "<tr>\n",
       "  <th>zipcode_98007</th>   <td>    0.1432</td> <td>    0.004</td> <td>   33.751</td> <td> 0.000</td> <td>    0.135</td> <td>    0.152</td>\n",
       "</tr>\n",
       "<tr>\n",
       "  <th>zipcode_98008</th>   <td>    0.1441</td> <td>    0.003</td> <td>   43.150</td> <td> 0.000</td> <td>    0.138</td> <td>    0.151</td>\n",
       "</tr>\n",
       "<tr>\n",
       "  <th>zipcode_98010</th>   <td>    0.0541</td> <td>    0.005</td> <td>   11.222</td> <td> 0.000</td> <td>    0.045</td> <td>    0.064</td>\n",
       "</tr>\n",
       "<tr>\n",
       "  <th>zipcode_98011</th>   <td>    0.0976</td> <td>    0.004</td> <td>   26.113</td> <td> 0.000</td> <td>    0.090</td> <td>    0.105</td>\n",
       "</tr>\n",
       "<tr>\n",
       "  <th>zipcode_98014</th>   <td>    0.0668</td> <td>    0.004</td> <td>   15.055</td> <td> 0.000</td> <td>    0.058</td> <td>    0.076</td>\n",
       "</tr>\n",
       "<tr>\n",
       "  <th>zipcode_98019</th>   <td>    0.0715</td> <td>    0.004</td> <td>   18.886</td> <td> 0.000</td> <td>    0.064</td> <td>    0.079</td>\n",
       "</tr>\n",
       "<tr>\n",
       "  <th>zipcode_98022</th>   <td>    0.0118</td> <td>    0.004</td> <td>    3.315</td> <td> 0.001</td> <td>    0.005</td> <td>    0.019</td>\n",
       "</tr>\n",
       "<tr>\n",
       "  <th>zipcode_98023</th>   <td>   -0.0048</td> <td>    0.003</td> <td>   -1.651</td> <td> 0.099</td> <td>   -0.011</td> <td>    0.001</td>\n",
       "</tr>\n",
       "<tr>\n",
       "  <th>zipcode_98024</th>   <td>    0.0941</td> <td>    0.005</td> <td>   18.171</td> <td> 0.000</td> <td>    0.084</td> <td>    0.104</td>\n",
       "</tr>\n",
       "<tr>\n",
       "  <th>zipcode_98027</th>   <td>    0.1123</td> <td>    0.003</td> <td>   36.777</td> <td> 0.000</td> <td>    0.106</td> <td>    0.118</td>\n",
       "</tr>\n",
       "<tr>\n",
       "  <th>zipcode_98028</th>   <td>    0.0916</td> <td>    0.003</td> <td>   27.505</td> <td> 0.000</td> <td>    0.085</td> <td>    0.098</td>\n",
       "</tr>\n",
       "<tr>\n",
       "  <th>zipcode_98029</th>   <td>    0.1330</td> <td>    0.003</td> <td>   40.875</td> <td> 0.000</td> <td>    0.127</td> <td>    0.139</td>\n",
       "</tr>\n",
       "<tr>\n",
       "  <th>zipcode_98030</th>   <td>    0.0111</td> <td>    0.003</td> <td>    3.260</td> <td> 0.001</td> <td>    0.004</td> <td>    0.018</td>\n",
       "</tr>\n",
       "<tr>\n",
       "  <th>zipcode_98031</th>   <td>    0.0173</td> <td>    0.003</td> <td>    5.135</td> <td> 0.000</td> <td>    0.011</td> <td>    0.024</td>\n",
       "</tr>\n",
       "<tr>\n",
       "  <th>zipcode_98032</th>   <td>   -0.0022</td> <td>    0.004</td> <td>   -0.517</td> <td> 0.605</td> <td>   -0.011</td> <td>    0.006</td>\n",
       "</tr>\n",
       "<tr>\n",
       "  <th>zipcode_98033</th>   <td>    0.1735</td> <td>    0.003</td> <td>   57.322</td> <td> 0.000</td> <td>    0.168</td> <td>    0.179</td>\n",
       "</tr>\n",
       "<tr>\n",
       "  <th>zipcode_98034</th>   <td>    0.1220</td> <td>    0.003</td> <td>   42.681</td> <td> 0.000</td> <td>    0.116</td> <td>    0.128</td>\n",
       "</tr>\n",
       "<tr>\n",
       "  <th>zipcode_98038</th>   <td>    0.0385</td> <td>    0.003</td> <td>   13.652</td> <td> 0.000</td> <td>    0.033</td> <td>    0.044</td>\n",
       "</tr>\n",
       "<tr>\n",
       "  <th>zipcode_98039</th>   <td>    0.2861</td> <td>    0.006</td> <td>   44.829</td> <td> 0.000</td> <td>    0.274</td> <td>    0.299</td>\n",
       "</tr>\n",
       "<tr>\n",
       "  <th>zipcode_98040</th>   <td>    0.1925</td> <td>    0.003</td> <td>   55.914</td> <td> 0.000</td> <td>    0.186</td> <td>    0.199</td>\n",
       "</tr>\n",
       "<tr>\n",
       "  <th>zipcode_98042</th>   <td>    0.0159</td> <td>    0.003</td> <td>    5.584</td> <td> 0.000</td> <td>    0.010</td> <td>    0.021</td>\n",
       "</tr>\n",
       "<tr>\n",
       "  <th>zipcode_98045</th>   <td>    0.0708</td> <td>    0.004</td> <td>   19.325</td> <td> 0.000</td> <td>    0.064</td> <td>    0.078</td>\n",
       "</tr>\n",
       "<tr>\n",
       "  <th>zipcode_98052</th>   <td>    0.1398</td> <td>    0.003</td> <td>   49.120</td> <td> 0.000</td> <td>    0.134</td> <td>    0.145</td>\n",
       "</tr>\n",
       "<tr>\n",
       "  <th>zipcode_98053</th>   <td>    0.1281</td> <td>    0.003</td> <td>   41.744</td> <td> 0.000</td> <td>    0.122</td> <td>    0.134</td>\n",
       "</tr>\n",
       "<tr>\n",
       "  <th>zipcode_98055</th>   <td>    0.0345</td> <td>    0.003</td> <td>   10.114</td> <td> 0.000</td> <td>    0.028</td> <td>    0.041</td>\n",
       "</tr>\n",
       "<tr>\n",
       "  <th>zipcode_98056</th>   <td>    0.0734</td> <td>    0.003</td> <td>   24.179</td> <td> 0.000</td> <td>    0.067</td> <td>    0.079</td>\n",
       "</tr>\n",
       "<tr>\n",
       "  <th>zipcode_98058</th>   <td>    0.0374</td> <td>    0.003</td> <td>   12.516</td> <td> 0.000</td> <td>    0.032</td> <td>    0.043</td>\n",
       "</tr>\n",
       "<tr>\n",
       "  <th>zipcode_98059</th>   <td>    0.0767</td> <td>    0.003</td> <td>   25.801</td> <td> 0.000</td> <td>    0.071</td> <td>    0.083</td>\n",
       "</tr>\n",
       "<tr>\n",
       "  <th>zipcode_98065</th>   <td>    0.0917</td> <td>    0.003</td> <td>   27.952</td> <td> 0.000</td> <td>    0.085</td> <td>    0.098</td>\n",
       "</tr>\n",
       "<tr>\n",
       "  <th>zipcode_98070</th>   <td>    0.0649</td> <td>    0.005</td> <td>   14.319</td> <td> 0.000</td> <td>    0.056</td> <td>    0.074</td>\n",
       "</tr>\n",
       "<tr>\n",
       "  <th>zipcode_98072</th>   <td>    0.1045</td> <td>    0.003</td> <td>   30.753</td> <td> 0.000</td> <td>    0.098</td> <td>    0.111</td>\n",
       "</tr>\n",
       "<tr>\n",
       "  <th>zipcode_98074</th>   <td>    0.1225</td> <td>    0.003</td> <td>   40.279</td> <td> 0.000</td> <td>    0.116</td> <td>    0.128</td>\n",
       "</tr>\n",
       "<tr>\n",
       "  <th>zipcode_98075</th>   <td>    0.1225</td> <td>    0.003</td> <td>   38.525</td> <td> 0.000</td> <td>    0.116</td> <td>    0.129</td>\n",
       "</tr>\n",
       "<tr>\n",
       "  <th>zipcode_98077</th>   <td>    0.0944</td> <td>    0.004</td> <td>   24.995</td> <td> 0.000</td> <td>    0.087</td> <td>    0.102</td>\n",
       "</tr>\n",
       "<tr>\n",
       "  <th>zipcode_98092</th>   <td>    0.0053</td> <td>    0.003</td> <td>    1.678</td> <td> 0.093</td> <td>   -0.001</td> <td>    0.012</td>\n",
       "</tr>\n",
       "<tr>\n",
       "  <th>zipcode_98102</th>   <td>    0.2204</td> <td>    0.005</td> <td>   44.886</td> <td> 0.000</td> <td>    0.211</td> <td>    0.230</td>\n",
       "</tr>\n",
       "<tr>\n",
       "  <th>zipcode_98103</th>   <td>    0.1895</td> <td>    0.003</td> <td>   64.091</td> <td> 0.000</td> <td>    0.184</td> <td>    0.195</td>\n",
       "</tr>\n",
       "<tr>\n",
       "  <th>zipcode_98105</th>   <td>    0.2138</td> <td>    0.004</td> <td>   58.655</td> <td> 0.000</td> <td>    0.207</td> <td>    0.221</td>\n",
       "</tr>\n",
       "<tr>\n",
       "  <th>zipcode_98106</th>   <td>    0.0879</td> <td>    0.003</td> <td>   27.125</td> <td> 0.000</td> <td>    0.082</td> <td>    0.094</td>\n",
       "</tr>\n",
       "<tr>\n",
       "  <th>zipcode_98107</th>   <td>    0.1956</td> <td>    0.004</td> <td>   55.598</td> <td> 0.000</td> <td>    0.189</td> <td>    0.203</td>\n",
       "</tr>\n",
       "<tr>\n",
       "  <th>zipcode_98108</th>   <td>    0.0880</td> <td>    0.004</td> <td>   22.964</td> <td> 0.000</td> <td>    0.081</td> <td>    0.096</td>\n",
       "</tr>\n",
       "<tr>\n",
       "  <th>zipcode_98109</th>   <td>    0.2231</td> <td>    0.005</td> <td>   46.599</td> <td> 0.000</td> <td>    0.214</td> <td>    0.232</td>\n",
       "</tr>\n",
       "<tr>\n",
       "  <th>zipcode_98112</th>   <td>    0.2388</td> <td>    0.004</td> <td>   67.060</td> <td> 0.000</td> <td>    0.232</td> <td>    0.246</td>\n",
       "</tr>\n",
       "<tr>\n",
       "  <th>zipcode_98115</th>   <td>    0.1863</td> <td>    0.003</td> <td>   63.759</td> <td> 0.000</td> <td>    0.181</td> <td>    0.192</td>\n",
       "</tr>\n",
       "<tr>\n",
       "  <th>zipcode_98116</th>   <td>    0.1753</td> <td>    0.003</td> <td>   52.928</td> <td> 0.000</td> <td>    0.169</td> <td>    0.182</td>\n",
       "</tr>\n",
       "<tr>\n",
       "  <th>zipcode_98117</th>   <td>    0.1867</td> <td>    0.003</td> <td>   63.162</td> <td> 0.000</td> <td>    0.181</td> <td>    0.192</td>\n",
       "</tr>\n",
       "<tr>\n",
       "  <th>zipcode_98118</th>   <td>    0.1122</td> <td>    0.003</td> <td>   37.747</td> <td> 0.000</td> <td>    0.106</td> <td>    0.118</td>\n",
       "</tr>\n",
       "<tr>\n",
       "  <th>zipcode_98119</th>   <td>    0.2258</td> <td>    0.004</td> <td>   56.458</td> <td> 0.000</td> <td>    0.218</td> <td>    0.234</td>\n",
       "</tr>\n",
       "<tr>\n",
       "  <th>zipcode_98122</th>   <td>    0.1875</td> <td>    0.003</td> <td>   53.981</td> <td> 0.000</td> <td>    0.181</td> <td>    0.194</td>\n",
       "</tr>\n",
       "<tr>\n",
       "  <th>zipcode_98125</th>   <td>    0.1291</td> <td>    0.003</td> <td>   42.120</td> <td> 0.000</td> <td>    0.123</td> <td>    0.135</td>\n",
       "</tr>\n",
       "<tr>\n",
       "  <th>zipcode_98126</th>   <td>    0.1306</td> <td>    0.003</td> <td>   40.205</td> <td> 0.000</td> <td>    0.124</td> <td>    0.137</td>\n",
       "</tr>\n",
       "<tr>\n",
       "  <th>zipcode_98133</th>   <td>    0.1070</td> <td>    0.003</td> <td>   36.139</td> <td> 0.000</td> <td>    0.101</td> <td>    0.113</td>\n",
       "</tr>\n",
       "<tr>\n",
       "  <th>zipcode_98136</th>   <td>    0.1586</td> <td>    0.004</td> <td>   45.203</td> <td> 0.000</td> <td>    0.152</td> <td>    0.165</td>\n",
       "</tr>\n",
       "<tr>\n",
       "  <th>zipcode_98144</th>   <td>    0.1570</td> <td>    0.003</td> <td>   47.556</td> <td> 0.000</td> <td>    0.151</td> <td>    0.163</td>\n",
       "</tr>\n",
       "<tr>\n",
       "  <th>zipcode_98146</th>   <td>    0.0671</td> <td>    0.003</td> <td>   20.024</td> <td> 0.000</td> <td>    0.061</td> <td>    0.074</td>\n",
       "</tr>\n",
       "<tr>\n",
       "  <th>zipcode_98148</th>   <td>    0.0398</td> <td>    0.006</td> <td>    6.642</td> <td> 0.000</td> <td>    0.028</td> <td>    0.052</td>\n",
       "</tr>\n",
       "<tr>\n",
       "  <th>zipcode_98155</th>   <td>    0.0971</td> <td>    0.003</td> <td>   32.487</td> <td> 0.000</td> <td>    0.091</td> <td>    0.103</td>\n",
       "</tr>\n",
       "<tr>\n",
       "  <th>zipcode_98166</th>   <td>    0.0687</td> <td>    0.003</td> <td>   19.639</td> <td> 0.000</td> <td>    0.062</td> <td>    0.076</td>\n",
       "</tr>\n",
       "<tr>\n",
       "  <th>zipcode_98168</th>   <td>    0.0235</td> <td>    0.003</td> <td>    6.798</td> <td> 0.000</td> <td>    0.017</td> <td>    0.030</td>\n",
       "</tr>\n",
       "<tr>\n",
       "  <th>zipcode_98177</th>   <td>    0.1328</td> <td>    0.003</td> <td>   38.578</td> <td> 0.000</td> <td>    0.126</td> <td>    0.140</td>\n",
       "</tr>\n",
       "<tr>\n",
       "  <th>zipcode_98178</th>   <td>    0.0402</td> <td>    0.003</td> <td>   11.690</td> <td> 0.000</td> <td>    0.033</td> <td>    0.047</td>\n",
       "</tr>\n",
       "<tr>\n",
       "  <th>zipcode_98188</th>   <td>    0.0236</td> <td>    0.004</td> <td>    5.514</td> <td> 0.000</td> <td>    0.015</td> <td>    0.032</td>\n",
       "</tr>\n",
       "<tr>\n",
       "  <th>zipcode_98198</th>   <td>    0.0184</td> <td>    0.003</td> <td>    5.408</td> <td> 0.000</td> <td>    0.012</td> <td>    0.025</td>\n",
       "</tr>\n",
       "<tr>\n",
       "  <th>zipcode_98199</th>   <td>    0.1954</td> <td>    0.003</td> <td>   58.279</td> <td> 0.000</td> <td>    0.189</td> <td>    0.202</td>\n",
       "</tr>\n",
       "</table>\n",
       "<table class=\"simpletable\">\n",
       "<tr>\n",
       "  <th>Omnibus:</th>       <td>1365.019</td> <th>  Durbin-Watson:     </th> <td>   1.996</td>\n",
       "</tr>\n",
       "<tr>\n",
       "  <th>Prob(Omnibus):</th>  <td> 0.000</td>  <th>  Jarque-Bera (JB):  </th> <td>6172.805</td>\n",
       "</tr>\n",
       "<tr>\n",
       "  <th>Skew:</th>           <td>-0.210</td>  <th>  Prob(JB):          </th> <td>    0.00</td>\n",
       "</tr>\n",
       "<tr>\n",
       "  <th>Kurtosis:</th>       <td> 5.779</td>  <th>  Cond. No.          </th> <td>    123.</td>\n",
       "</tr>\n",
       "</table><br/><br/>Warnings:<br/>[1] Standard Errors assume that the covariance matrix of the errors is correctly specified."
      ],
      "text/plain": [
       "<class 'statsmodels.iolib.summary.Summary'>\n",
       "\"\"\"\n",
       "                            OLS Regression Results                            \n",
       "==============================================================================\n",
       "Dep. Variable:               logprice   R-squared:                       0.883\n",
       "Model:                            OLS   Adj. R-squared:                  0.883\n",
       "Method:                 Least Squares   F-statistic:                     1704.\n",
       "Date:                Tue, 26 Feb 2019   Prob (F-statistic):               0.00\n",
       "Time:                        08:35:56   Log-Likelihood:                 34120.\n",
       "No. Observations:               18748   AIC:                        -6.807e+04\n",
       "Df Residuals:                   18664   BIC:                        -6.741e+04\n",
       "Df Model:                          83                                         \n",
       "Covariance Type:            nonrobust                                         \n",
       "===================================================================================\n",
       "                      coef    std err          t      P>|t|      [0.025      0.975]\n",
       "-----------------------------------------------------------------------------------\n",
       "const              -0.0725      0.004    -20.285      0.000      -0.079      -0.065\n",
       "bedrooms           -0.0357      0.004     -8.104      0.000      -0.044      -0.027\n",
       "bathrooms           0.0710      0.005     13.874      0.000       0.061       0.081\n",
       "floors             -0.0105      0.002     -4.799      0.000      -0.015      -0.006\n",
       "view                0.0520      0.002     27.955      0.000       0.048       0.056\n",
       "condition           0.0428      0.002     21.479      0.000       0.039       0.047\n",
       "grade               0.2068      0.005     44.502      0.000       0.198       0.216\n",
       "sqft_basement       0.0118      0.009      1.279      0.201      -0.006       0.030\n",
       "yr_built           -0.0106      0.002     -5.551      0.000      -0.014      -0.007\n",
       "logsqftabove        0.1210      0.012     10.263      0.000       0.098       0.144\n",
       "logsqftliving       0.2031      0.014     14.323      0.000       0.175       0.231\n",
       "logsqftliving15     0.0867      0.004     20.306      0.000       0.078       0.095\n",
       "logsqftlot          0.1208      0.007     17.768      0.000       0.108       0.134\n",
       "logsqftlot15       -0.0270      0.007     -4.045      0.000      -0.040      -0.014\n",
       "waterfront_1.0      0.1065      0.004     28.724      0.000       0.099       0.114\n",
       "zipcode_98002       0.0022      0.004      0.605      0.545      -0.005       0.009\n",
       "zipcode_98003       0.0032      0.003      0.965      0.334      -0.003       0.010\n",
       "zipcode_98004       0.2483      0.003     75.709      0.000       0.242       0.255\n",
       "zipcode_98005       0.1584      0.004     40.838      0.000       0.151       0.166\n",
       "zipcode_98006       0.1418      0.003     47.684      0.000       0.136       0.148\n",
       "zipcode_98007       0.1432      0.004     33.751      0.000       0.135       0.152\n",
       "zipcode_98008       0.1441      0.003     43.150      0.000       0.138       0.151\n",
       "zipcode_98010       0.0541      0.005     11.222      0.000       0.045       0.064\n",
       "zipcode_98011       0.0976      0.004     26.113      0.000       0.090       0.105\n",
       "zipcode_98014       0.0668      0.004     15.055      0.000       0.058       0.076\n",
       "zipcode_98019       0.0715      0.004     18.886      0.000       0.064       0.079\n",
       "zipcode_98022       0.0118      0.004      3.315      0.001       0.005       0.019\n",
       "zipcode_98023      -0.0048      0.003     -1.651      0.099      -0.011       0.001\n",
       "zipcode_98024       0.0941      0.005     18.171      0.000       0.084       0.104\n",
       "zipcode_98027       0.1123      0.003     36.777      0.000       0.106       0.118\n",
       "zipcode_98028       0.0916      0.003     27.505      0.000       0.085       0.098\n",
       "zipcode_98029       0.1330      0.003     40.875      0.000       0.127       0.139\n",
       "zipcode_98030       0.0111      0.003      3.260      0.001       0.004       0.018\n",
       "zipcode_98031       0.0173      0.003      5.135      0.000       0.011       0.024\n",
       "zipcode_98032      -0.0022      0.004     -0.517      0.605      -0.011       0.006\n",
       "zipcode_98033       0.1735      0.003     57.322      0.000       0.168       0.179\n",
       "zipcode_98034       0.1220      0.003     42.681      0.000       0.116       0.128\n",
       "zipcode_98038       0.0385      0.003     13.652      0.000       0.033       0.044\n",
       "zipcode_98039       0.2861      0.006     44.829      0.000       0.274       0.299\n",
       "zipcode_98040       0.1925      0.003     55.914      0.000       0.186       0.199\n",
       "zipcode_98042       0.0159      0.003      5.584      0.000       0.010       0.021\n",
       "zipcode_98045       0.0708      0.004     19.325      0.000       0.064       0.078\n",
       "zipcode_98052       0.1398      0.003     49.120      0.000       0.134       0.145\n",
       "zipcode_98053       0.1281      0.003     41.744      0.000       0.122       0.134\n",
       "zipcode_98055       0.0345      0.003     10.114      0.000       0.028       0.041\n",
       "zipcode_98056       0.0734      0.003     24.179      0.000       0.067       0.079\n",
       "zipcode_98058       0.0374      0.003     12.516      0.000       0.032       0.043\n",
       "zipcode_98059       0.0767      0.003     25.801      0.000       0.071       0.083\n",
       "zipcode_98065       0.0917      0.003     27.952      0.000       0.085       0.098\n",
       "zipcode_98070       0.0649      0.005     14.319      0.000       0.056       0.074\n",
       "zipcode_98072       0.1045      0.003     30.753      0.000       0.098       0.111\n",
       "zipcode_98074       0.1225      0.003     40.279      0.000       0.116       0.128\n",
       "zipcode_98075       0.1225      0.003     38.525      0.000       0.116       0.129\n",
       "zipcode_98077       0.0944      0.004     24.995      0.000       0.087       0.102\n",
       "zipcode_98092       0.0053      0.003      1.678      0.093      -0.001       0.012\n",
       "zipcode_98102       0.2204      0.005     44.886      0.000       0.211       0.230\n",
       "zipcode_98103       0.1895      0.003     64.091      0.000       0.184       0.195\n",
       "zipcode_98105       0.2138      0.004     58.655      0.000       0.207       0.221\n",
       "zipcode_98106       0.0879      0.003     27.125      0.000       0.082       0.094\n",
       "zipcode_98107       0.1956      0.004     55.598      0.000       0.189       0.203\n",
       "zipcode_98108       0.0880      0.004     22.964      0.000       0.081       0.096\n",
       "zipcode_98109       0.2231      0.005     46.599      0.000       0.214       0.232\n",
       "zipcode_98112       0.2388      0.004     67.060      0.000       0.232       0.246\n",
       "zipcode_98115       0.1863      0.003     63.759      0.000       0.181       0.192\n",
       "zipcode_98116       0.1753      0.003     52.928      0.000       0.169       0.182\n",
       "zipcode_98117       0.1867      0.003     63.162      0.000       0.181       0.192\n",
       "zipcode_98118       0.1122      0.003     37.747      0.000       0.106       0.118\n",
       "zipcode_98119       0.2258      0.004     56.458      0.000       0.218       0.234\n",
       "zipcode_98122       0.1875      0.003     53.981      0.000       0.181       0.194\n",
       "zipcode_98125       0.1291      0.003     42.120      0.000       0.123       0.135\n",
       "zipcode_98126       0.1306      0.003     40.205      0.000       0.124       0.137\n",
       "zipcode_98133       0.1070      0.003     36.139      0.000       0.101       0.113\n",
       "zipcode_98136       0.1586      0.004     45.203      0.000       0.152       0.165\n",
       "zipcode_98144       0.1570      0.003     47.556      0.000       0.151       0.163\n",
       "zipcode_98146       0.0671      0.003     20.024      0.000       0.061       0.074\n",
       "zipcode_98148       0.0398      0.006      6.642      0.000       0.028       0.052\n",
       "zipcode_98155       0.0971      0.003     32.487      0.000       0.091       0.103\n",
       "zipcode_98166       0.0687      0.003     19.639      0.000       0.062       0.076\n",
       "zipcode_98168       0.0235      0.003      6.798      0.000       0.017       0.030\n",
       "zipcode_98177       0.1328      0.003     38.578      0.000       0.126       0.140\n",
       "zipcode_98178       0.0402      0.003     11.690      0.000       0.033       0.047\n",
       "zipcode_98188       0.0236      0.004      5.514      0.000       0.015       0.032\n",
       "zipcode_98198       0.0184      0.003      5.408      0.000       0.012       0.025\n",
       "zipcode_98199       0.1954      0.003     58.279      0.000       0.189       0.202\n",
       "==============================================================================\n",
       "Omnibus:                     1365.019   Durbin-Watson:                   1.996\n",
       "Prob(Omnibus):                  0.000   Jarque-Bera (JB):             6172.805\n",
       "Skew:                          -0.210   Prob(JB):                         0.00\n",
       "Kurtosis:                       5.779   Cond. No.                         123.\n",
       "==============================================================================\n",
       "\n",
       "Warnings:\n",
       "[1] Standard Errors assume that the covariance matrix of the errors is correctly specified.\n",
       "\"\"\""
      ]
     },
     "execution_count": 75,
     "metadata": {},
     "output_type": "execute_result"
    }
   ],
   "source": [
    "outcome = 'logprice'\n",
    "predictors = df_final.drop('logprice', axis=1)\n",
    "predictors_int = sm.add_constant(predictors)\n",
    "model = sm.OLS(df_final['logprice'],predictors_int).fit()\n",
    "model.summary()"
   ]
  },
  {
   "cell_type": "code",
   "execution_count": 76,
   "metadata": {},
   "outputs": [],
   "source": [
    "#R Squared is 0.883 which shows good predictive nature of model. "
   ]
  },
  {
   "cell_type": "markdown",
   "metadata": {},
   "source": [
    "### Feature ranking with recursive feature elimination"
   ]
  },
  {
   "cell_type": "code",
   "execution_count": 77,
   "metadata": {},
   "outputs": [],
   "source": [
    "linreg = LinearRegression()\n",
    "predictors = df_final.drop('logprice', axis=1)\n",
    "selector = RFE(linreg, n_features_to_select = 5)\n",
    "selector = selector.fit(predictors, df_final[\"logprice\"])"
   ]
  },
  {
   "cell_type": "code",
   "execution_count": 78,
   "metadata": {},
   "outputs": [
    {
     "data": {
      "text/plain": [
       "array([False, False, False, False, False,  True, False, False, False,\n",
       "        True, False, False, False,  True, False, False,  True, False,\n",
       "       False, False, False, False, False, False, False, False, False,\n",
       "       False, False, False, False, False, False, False, False, False,\n",
       "       False,  True, False, False, False, False, False, False, False,\n",
       "       False, False, False, False, False, False, False, False, False,\n",
       "       False, False, False, False, False, False, False, False, False,\n",
       "       False, False, False, False, False, False, False, False, False,\n",
       "       False, False, False, False, False, False, False, False, False,\n",
       "       False, False])"
      ]
     },
     "execution_count": 78,
     "metadata": {},
     "output_type": "execute_result"
    }
   ],
   "source": [
    "selector.support_"
   ]
  },
  {
   "cell_type": "code",
   "execution_count": 79,
   "metadata": {},
   "outputs": [
    {
     "data": {
      "text/plain": [
       "array([58, 49, 74, 39, 55,  1, 65, 71, 36,  1,  9, 20, 59,  1, 78, 77,  1,\n",
       "       18, 24, 23, 21, 57, 40, 54, 52, 72, 75, 42, 34, 43, 28, 73, 69, 79,\n",
       "       16, 30, 63,  1,  6, 70, 53, 26, 29, 64, 48, 62, 47, 44, 56, 38, 32,\n",
       "       31, 41, 76,  7, 13,  5, 46, 10, 45,  3,  2, 12, 15, 11, 33,  4, 14,\n",
       "       27, 22, 35, 17, 19, 51, 61, 37, 50, 66, 25, 60, 67, 68,  8])"
      ]
     },
     "execution_count": 79,
     "metadata": {},
     "output_type": "execute_result"
    }
   ],
   "source": [
    "selector.ranking_"
   ]
  },
  {
   "cell_type": "code",
   "execution_count": 80,
   "metadata": {},
   "outputs": [
    {
     "name": "stdout",
     "output_type": "stream",
     "text": [
      "[0.42007694 0.31635299 0.15264653 0.14009245 0.18012215]\n",
      "0.04529450923638362\n"
     ]
    }
   ],
   "source": [
    "estimators = selector.estimator_\n",
    "print(estimators.coef_)\n",
    "print(estimators.intercept_)"
   ]
  },
  {
   "cell_type": "code",
   "execution_count": 81,
   "metadata": {},
   "outputs": [],
   "source": [
    "selected_5 = predictors.columns[selector.support_ ]"
   ]
  },
  {
   "cell_type": "code",
   "execution_count": 82,
   "metadata": {},
   "outputs": [
    {
     "data": {
      "text/plain": [
       "Index(['grade', 'logsqftliving', 'waterfront_1.0', 'zipcode_98004',\n",
       "       'zipcode_98039'],\n",
       "      dtype='object')"
      ]
     },
     "execution_count": 82,
     "metadata": {},
     "output_type": "execute_result"
    }
   ],
   "source": [
    "df_final[selected_5].columns"
   ]
  },
  {
   "cell_type": "code",
   "execution_count": 83,
   "metadata": {},
   "outputs": [
    {
     "data": {
      "text/plain": [
       "LinearRegression(copy_X=True, fit_intercept=True, n_jobs=1, normalize=False)"
      ]
     },
     "execution_count": 83,
     "metadata": {},
     "output_type": "execute_result"
    }
   ],
   "source": [
    "linreg.fit(df_final[selected_5],df_final['logprice'])"
   ]
  },
  {
   "cell_type": "code",
   "execution_count": 84,
   "metadata": {},
   "outputs": [],
   "source": [
    "X = predictors\n",
    "y = df_final['logprice']"
   ]
  },
  {
   "cell_type": "code",
   "execution_count": 85,
   "metadata": {},
   "outputs": [],
   "source": [
    "yhat = linreg.predict(df_final[selected_5])"
   ]
  },
  {
   "cell_type": "code",
   "execution_count": 86,
   "metadata": {},
   "outputs": [
    {
     "data": {
      "text/plain": [
       "array([0.38364725, 0.23572247, 0.35983563, ..., 0.41628199, 0.30243866,\n",
       "       0.30243866])"
      ]
     },
     "execution_count": 86,
     "metadata": {},
     "output_type": "execute_result"
    }
   ],
   "source": [
    "yhat"
   ]
  },
  {
   "cell_type": "code",
   "execution_count": 87,
   "metadata": {},
   "outputs": [
    {
     "data": {
      "text/plain": [
       "102.2485955158461"
      ]
     },
     "execution_count": 87,
     "metadata": {},
     "output_type": "execute_result"
    }
   ],
   "source": [
    "SSR = np.sum((y - yhat)**2)\n",
    "SSR"
   ]
  },
  {
   "cell_type": "code",
   "execution_count": 88,
   "metadata": {},
   "outputs": [
    {
     "data": {
      "text/plain": [
       "247.25924119805583"
      ]
     },
     "execution_count": 88,
     "metadata": {},
     "output_type": "execute_result"
    }
   ],
   "source": [
    "SST = np.sum((y - np.mean(y))**2)\n",
    "SST"
   ]
  },
  {
   "cell_type": "code",
   "execution_count": 89,
   "metadata": {},
   "outputs": [
    {
     "data": {
      "text/plain": [
       "0.5864720969763695"
      ]
     },
     "execution_count": 89,
     "metadata": {},
     "output_type": "execute_result"
    }
   ],
   "source": [
    "r_squared = 1 - (SSR/SST)\n",
    "r_squared"
   ]
  },
  {
   "cell_type": "code",
   "execution_count": 90,
   "metadata": {},
   "outputs": [
    {
     "data": {
      "text/plain": [
       "0.5846331119811401"
      ]
     },
     "execution_count": 90,
     "metadata": {},
     "output_type": "execute_result"
    }
   ],
   "source": [
    "r_squared_adj = 1 - (1 - r_squared)*((len(y)-1)/(len(y)-X.shape[1]-1))\n",
    "r_squared_adj"
   ]
  },
  {
   "cell_type": "code",
   "execution_count": 91,
   "metadata": {},
   "outputs": [],
   "source": [
    "#manually computing r squared using only the 5 features selected using Recursive feature elimination lowers value to .585\n",
    "#When using all features in OLS, R squared was 0.883 which is a better model\n",
    "#Adding more features generally increases R squared. Can view how r squared changes using for loop."
   ]
  },
  {
   "cell_type": "code",
   "execution_count": 92,
   "metadata": {},
   "outputs": [
    {
     "data": {
      "text/plain": [
       "(18748, 83)"
      ]
     },
     "execution_count": 92,
     "metadata": {},
     "output_type": "execute_result"
    }
   ],
   "source": [
    "X.shape"
   ]
  },
  {
   "cell_type": "code",
   "execution_count": 93,
   "metadata": {},
   "outputs": [
    {
     "name": "stdout",
     "output_type": "stream",
     "text": [
      "0.5864720969763695\n",
      "0.5846331119811401\n",
      "0.6664612228070514\n",
      "0.6649779545629979\n",
      "0.7530894779503292\n",
      "0.7519914510895211\n",
      "0.8063119829277613\n",
      "0.8054506399457105\n",
      "0.8467706277192291\n",
      "0.8460892069145085\n",
      "0.8700090176983121\n",
      "0.8694309394979778\n",
      "0.8791816600987093\n",
      "0.878644373224952\n",
      "0.8830460234100093\n",
      "0.8825259216066997\n"
     ]
    }
   ],
   "source": [
    "r_list = []\n",
    "adj_r_list = []\n",
    "list_n = list(range(5,76,10))\n",
    "for n in list_n: \n",
    "    select_n = RFE(linreg, n_features_to_select = n)\n",
    "    select_n = select_n.fit(X, np.ravel(y))\n",
    "    selected_columns = X.columns[select_n.support_ ]\n",
    "    linreg.fit(X[selected_columns],y)\n",
    "    yhat = linreg.predict(X[selected_columns])\n",
    "    SS_Residual = np.sum((y-yhat)**2)\n",
    "    SS_Total = np.sum((y-np.mean(y))**2)\n",
    "    r_squared = 1 - (float(SS_Residual))/SS_Total\n",
    "    print(r_squared)\n",
    "    adjusted_r_squared = 1 - (1-r_squared)*(len(y)-1)/(len(y)-X.shape[1]-1)\n",
    "    print(adjusted_r_squared)\n",
    "    r_list.append(r_squared)\n",
    "    adj_r_list.append(adjusted_r_squared)"
   ]
  },
  {
   "cell_type": "code",
   "execution_count": 94,
   "metadata": {},
   "outputs": [
    {
     "name": "stdout",
     "output_type": "stream",
     "text": [
      "[5, 15, 25, 35, 45, 55, 65, 75]\n",
      "[0.5846331119811401, 0.6649779545629979, 0.7519914510895211, 0.8054506399457105, 0.8460892069145085, 0.8694309394979778, 0.878644373224952, 0.8825259216066997]\n"
     ]
    }
   ],
   "source": [
    "print(list_n)\n",
    "print(adj_r_list)"
   ]
  },
  {
   "cell_type": "code",
   "execution_count": 95,
   "metadata": {},
   "outputs": [
    {
     "data": {
      "image/png": "[encoded data removed]",
      "text/plain": [
       "<Figure size 432x288 with 1 Axes>"
      ]
     },
     "metadata": {
      "needs_background": "light"
     },
     "output_type": "display_data"
    }
   ],
   "source": [
    "#As number of features used, r squared increases\n",
    "plt.scatter(list_n, adj_r_list)\n",
    "plt.title('Number of features vs Adj. R Squared')\n",
    "plt.xlabel('Number of features')\n",
    "plt.ylabel('Adjusted R Squared')\n",
    "plt.show()"
   ]
  },
  {
   "cell_type": "markdown",
   "metadata": {},
   "source": [
    "The graph above shows that using 75 features gives the highest r squared value.  As number of features increases, r squared increases. This can be interpreted that the more features used, the more predictive the model. Sometimes, however, adding more features can lead to overfitting of the model. To check for this, train test split and cross validation should be completed."
   ]
  },
  {
   "cell_type": "markdown",
   "metadata": {},
   "source": [
    "### Train test split"
   ]
  },
  {
   "cell_type": "code",
   "execution_count": 96,
   "metadata": {},
   "outputs": [],
   "source": [
    "from sklearn.model_selection import train_test_split\n",
    "X = df_final.drop('logprice', axis=1)\n",
    "y = df_final['logprice']\n",
    "X_train, X_test, y_train, y_test = train_test_split(X, y, test_size = 0.2)"
   ]
  },
  {
   "cell_type": "code",
   "execution_count": 97,
   "metadata": {},
   "outputs": [
    {
     "name": "stdout",
     "output_type": "stream",
     "text": [
      "14998 3750 14998 3750\n"
     ]
    }
   ],
   "source": [
    "print(len(X_train), len(X_test), len(y_train), len(y_test))"
   ]
  },
  {
   "cell_type": "code",
   "execution_count": 98,
   "metadata": {},
   "outputs": [],
   "source": [
    "from sklearn.linear_model import LinearRegression\n",
    "linreg = LinearRegression()"
   ]
  },
  {
   "cell_type": "code",
   "execution_count": 99,
   "metadata": {},
   "outputs": [
    {
     "data": {
      "text/plain": [
       "LinearRegression(copy_X=True, fit_intercept=True, n_jobs=1, normalize=False)"
      ]
     },
     "execution_count": 99,
     "metadata": {},
     "output_type": "execute_result"
    }
   ],
   "source": [
    "linreg.fit(X_train, y_train)"
   ]
  },
  {
   "cell_type": "code",
   "execution_count": 100,
   "metadata": {},
   "outputs": [],
   "source": [
    "y_hat_train = linreg.predict(X_train)\n",
    "y_hat_test = linreg.predict(X_test)"
   ]
  },
  {
   "cell_type": "code",
   "execution_count": 101,
   "metadata": {},
   "outputs": [],
   "source": [
    "train_residuals = y_hat_train - y_train\n",
    "test_residuals = y_hat_test - y_test"
   ]
  },
  {
   "cell_type": "code",
   "execution_count": 102,
   "metadata": {},
   "outputs": [
    {
     "name": "stdout",
     "output_type": "stream",
     "text": [
      "Train Mean Squared Error: 0.0015199430170644442\n",
      "Test Mean Squared Error: 0.0016172820638811294\n"
     ]
    }
   ],
   "source": [
    "from sklearn.metrics import mean_squared_error\n",
    "\n",
    "train_mse = mean_squared_error(y_train, y_hat_train)\n",
    "test_mse = mean_squared_error(y_test, y_hat_test)\n",
    "print('Train Mean Squared Error:', train_mse)\n",
    "print('Test Mean Squared Error:', test_mse)"
   ]
  },
  {
   "cell_type": "markdown",
   "metadata": {},
   "source": [
    "Train and Test MSE using all features are very low, and similar in value which shows the model is predictive of price. MSE will change based on amount of features used which can be viewed using a for loop."
   ]
  },
  {
   "cell_type": "code",
   "execution_count": 103,
   "metadata": {},
   "outputs": [
    {
     "name": "stdout",
     "output_type": "stream",
     "text": [
      "0.005395042849350232\n",
      "0.005692186665068213\n",
      "0.004355027030677799\n",
      "0.004577220057884549\n",
      "0.003221915187418212\n",
      "0.0033983771887616224\n",
      "0.002539005243445489\n",
      "0.0026218123837366933\n",
      "0.001998753933737082\n",
      "0.0021293177374730084\n",
      "0.0016928618389130967\n",
      "0.0018087109895362947\n",
      "0.001572658717475162\n",
      "0.001685968303637272\n",
      "0.0015250530709313627\n",
      "0.0016247947967816287\n"
     ]
    }
   ],
   "source": [
    "MSE_test = []\n",
    "MSE_train = []\n",
    "list_n = list(range(5,76,10))\n",
    "for n in list_n: \n",
    "    select_n = RFE(linreg, n_features_to_select = n)\n",
    "    select_n = select_n.fit(X_train, np.ravel(y_train))\n",
    "    selected_columns = X.columns[select_n.support_ ]\n",
    "    linreg.fit(X_train[selected_columns],y_train)\n",
    "    yhat_train = linreg.predict(X_train[selected_columns])\n",
    "    yhat_test = linreg.predict(X_test[selected_columns])\n",
    "    mse_train = np.sum((y_train-yhat_train)**2)/len(y_train)\n",
    "    mse_test =np.sum((y_test-yhat_test)**2)/len(y_test)\n",
    "    print(mse_train)\n",
    "    print(mse_test)\n",
    "    MSE_test.append(mse_test)\n",
    "    MSE_train.append(mse_train)"
   ]
  },
  {
   "cell_type": "code",
   "execution_count": 104,
   "metadata": {},
   "outputs": [
    {
     "name": "stdout",
     "output_type": "stream",
     "text": [
      "MSE TEST:  0.00294229851535991\n",
      "MSE TRAIN:  0.002787539733993554\n"
     ]
    }
   ],
   "source": [
    "print('MSE TEST: ', np.mean(MSE_test))\n",
    "print('MSE TRAIN: ', np.mean(MSE_train))"
   ]
  },
  {
   "cell_type": "code",
   "execution_count": 105,
   "metadata": {},
   "outputs": [
    {
     "data": {
      "image/png": "[encoded data removed]",
      "text/plain": [
       "<Figure size 432x288 with 1 Axes>"
      ]
     },
     "metadata": {
      "needs_background": "light"
     },
     "output_type": "display_data"
    }
   ],
   "source": [
    "plt.scatter(list_n, MSE_test, label = \"MSE Test\")\n",
    "plt.scatter(list_n, MSE_train, label = \"MSE Train\")\n",
    "plt.legend()\n",
    "plt.title('Number of features vs. MSE Train/Test')\n",
    "plt.xlabel('Number of features')\n",
    "plt.ylabel('Mean Square Error')\n",
    "plt.ylim(ymax = .008, ymin = 0)\n",
    "plt.show()"
   ]
  },
  {
   "cell_type": "markdown",
   "metadata": {},
   "source": [
    "As more features are selected, mean square error decreases. MSE test and MSE train are almost identical, which means the model is working for the data."
   ]
  },
  {
   "cell_type": "markdown",
   "metadata": {},
   "source": [
    "### Cross Validation"
   ]
  },
  {
   "cell_type": "code",
   "execution_count": 106,
   "metadata": {},
   "outputs": [
    {
     "data": {
      "text/plain": [
       "array([-0.00161899, -0.00161973, -0.00153939, -0.00156284, -0.00148775])"
      ]
     },
     "execution_count": 106,
     "metadata": {},
     "output_type": "execute_result"
    }
   ],
   "source": [
    "from sklearn.model_selection import cross_val_score\n",
    "cv_5_results = cross_val_score(linreg,X,y,cv=5, scoring = \"neg_mean_squared_error\")\n",
    "cv_5_results"
   ]
  },
  {
   "cell_type": "code",
   "execution_count": 107,
   "metadata": {},
   "outputs": [],
   "source": [
    "cv_5_results = np.mean(cross_val_score(linreg, X, y, cv=5, scoring=\"neg_mean_squared_error\"))\n",
    "cv_10_results = np.mean(cross_val_score(linreg, X, y, cv=10, scoring=\"neg_mean_squared_error\"))\n",
    "cv_20_results = np.mean(cross_val_score(linreg, X, y, cv=20, scoring=\"neg_mean_squared_error\"))"
   ]
  },
  {
   "cell_type": "code",
   "execution_count": 108,
   "metadata": {},
   "outputs": [
    {
     "name": "stdout",
     "output_type": "stream",
     "text": [
      "-0.0015657376079262555\n",
      "-0.0015641894254556903\n",
      "-0.0015571598227703577\n"
     ]
    }
   ],
   "source": [
    "print(cv_5_results)\n",
    "print(cv_10_results)\n",
    "print(cv_20_results)"
   ]
  },
  {
   "cell_type": "markdown",
   "metadata": {},
   "source": [
    "Mean of cross validation is similar to test/train split results.  This should validate that the model created is predictive of future data."
   ]
  },
  {
   "cell_type": "markdown",
   "metadata": {},
   "source": [
    "### Checking columns/pvalues. Finalizing model"
   ]
  },
  {
   "cell_type": "code",
   "execution_count": 109,
   "metadata": {},
   "outputs": [],
   "source": [
    "df_features = df_final.drop('logprice', axis=1)"
   ]
  },
  {
   "cell_type": "code",
   "execution_count": 110,
   "metadata": {},
   "outputs": [
    {
     "data": {
      "text/html": [
       "<table class=\"simpletable\">\n",
       "<caption>OLS Regression Results</caption>\n",
       "<tr>\n",
       "  <th>Dep. Variable:</th>        <td>logprice</td>     <th>  R-squared:         </th>  <td>   0.883</td> \n",
       "</tr>\n",
       "<tr>\n",
       "  <th>Model:</th>                   <td>OLS</td>       <th>  Adj. R-squared:    </th>  <td>   0.883</td> \n",
       "</tr>\n",
       "<tr>\n",
       "  <th>Method:</th>             <td>Least Squares</td>  <th>  F-statistic:       </th>  <td>   1704.</td> \n",
       "</tr>\n",
       "<tr>\n",
       "  <th>Date:</th>             <td>Tue, 26 Feb 2019</td> <th>  Prob (F-statistic):</th>   <td>  0.00</td>  \n",
       "</tr>\n",
       "<tr>\n",
       "  <th>Time:</th>                 <td>08:36:32</td>     <th>  Log-Likelihood:    </th>  <td>  34120.</td> \n",
       "</tr>\n",
       "<tr>\n",
       "  <th>No. Observations:</th>      <td> 18748</td>      <th>  AIC:               </th> <td>-6.807e+04</td>\n",
       "</tr>\n",
       "<tr>\n",
       "  <th>Df Residuals:</th>          <td> 18664</td>      <th>  BIC:               </th> <td>-6.741e+04</td>\n",
       "</tr>\n",
       "<tr>\n",
       "  <th>Df Model:</th>              <td>    83</td>      <th>                     </th>      <td> </td>    \n",
       "</tr>\n",
       "<tr>\n",
       "  <th>Covariance Type:</th>      <td>nonrobust</td>    <th>                     </th>      <td> </td>    \n",
       "</tr>\n",
       "</table>\n",
       "<table class=\"simpletable\">\n",
       "<tr>\n",
       "         <td></td>            <th>coef</th>     <th>std err</th>      <th>t</th>      <th>P>|t|</th>  <th>[0.025</th>    <th>0.975]</th>  \n",
       "</tr>\n",
       "<tr>\n",
       "  <th>const</th>           <td>   -0.0725</td> <td>    0.004</td> <td>  -20.285</td> <td> 0.000</td> <td>   -0.079</td> <td>   -0.065</td>\n",
       "</tr>\n",
       "<tr>\n",
       "  <th>bedrooms</th>        <td>   -0.0357</td> <td>    0.004</td> <td>   -8.104</td> <td> 0.000</td> <td>   -0.044</td> <td>   -0.027</td>\n",
       "</tr>\n",
       "<tr>\n",
       "  <th>bathrooms</th>       <td>    0.0710</td> <td>    0.005</td> <td>   13.874</td> <td> 0.000</td> <td>    0.061</td> <td>    0.081</td>\n",
       "</tr>\n",
       "<tr>\n",
       "  <th>floors</th>          <td>   -0.0105</td> <td>    0.002</td> <td>   -4.799</td> <td> 0.000</td> <td>   -0.015</td> <td>   -0.006</td>\n",
       "</tr>\n",
       "<tr>\n",
       "  <th>view</th>            <td>    0.0520</td> <td>    0.002</td> <td>   27.955</td> <td> 0.000</td> <td>    0.048</td> <td>    0.056</td>\n",
       "</tr>\n",
       "<tr>\n",
       "  <th>condition</th>       <td>    0.0428</td> <td>    0.002</td> <td>   21.479</td> <td> 0.000</td> <td>    0.039</td> <td>    0.047</td>\n",
       "</tr>\n",
       "<tr>\n",
       "  <th>grade</th>           <td>    0.2068</td> <td>    0.005</td> <td>   44.502</td> <td> 0.000</td> <td>    0.198</td> <td>    0.216</td>\n",
       "</tr>\n",
       "<tr>\n",
       "  <th>sqft_basement</th>   <td>    0.0118</td> <td>    0.009</td> <td>    1.279</td> <td> 0.201</td> <td>   -0.006</td> <td>    0.030</td>\n",
       "</tr>\n",
       "<tr>\n",
       "  <th>yr_built</th>        <td>   -0.0106</td> <td>    0.002</td> <td>   -5.551</td> <td> 0.000</td> <td>   -0.014</td> <td>   -0.007</td>\n",
       "</tr>\n",
       "<tr>\n",
       "  <th>logsqftabove</th>    <td>    0.1210</td> <td>    0.012</td> <td>   10.263</td> <td> 0.000</td> <td>    0.098</td> <td>    0.144</td>\n",
       "</tr>\n",
       "<tr>\n",
       "  <th>logsqftliving</th>   <td>    0.2031</td> <td>    0.014</td> <td>   14.323</td> <td> 0.000</td> <td>    0.175</td> <td>    0.231</td>\n",
       "</tr>\n",
       "<tr>\n",
       "  <th>logsqftliving15</th> <td>    0.0867</td> <td>    0.004</td> <td>   20.306</td> <td> 0.000</td> <td>    0.078</td> <td>    0.095</td>\n",
       "</tr>\n",
       "<tr>\n",
       "  <th>logsqftlot</th>      <td>    0.1208</td> <td>    0.007</td> <td>   17.768</td> <td> 0.000</td> <td>    0.108</td> <td>    0.134</td>\n",
       "</tr>\n",
       "<tr>\n",
       "  <th>logsqftlot15</th>    <td>   -0.0270</td> <td>    0.007</td> <td>   -4.045</td> <td> 0.000</td> <td>   -0.040</td> <td>   -0.014</td>\n",
       "</tr>\n",
       "<tr>\n",
       "  <th>waterfront_1.0</th>  <td>    0.1065</td> <td>    0.004</td> <td>   28.724</td> <td> 0.000</td> <td>    0.099</td> <td>    0.114</td>\n",
       "</tr>\n",
       "<tr>\n",
       "  <th>zipcode_98002</th>   <td>    0.0022</td> <td>    0.004</td> <td>    0.605</td> <td> 0.545</td> <td>   -0.005</td> <td>    0.009</td>\n",
       "</tr>\n",
       "<tr>\n",
       "  <th>zipcode_98003</th>   <td>    0.0032</td> <td>    0.003</td> <td>    0.965</td> <td> 0.334</td> <td>   -0.003</td> <td>    0.010</td>\n",
       "</tr>\n",
       "<tr>\n",
       "  <th>zipcode_98004</th>   <td>    0.2483</td> <td>    0.003</td> <td>   75.709</td> <td> 0.000</td> <td>    0.242</td> <td>    0.255</td>\n",
       "</tr>\n",
       "<tr>\n",
       "  <th>zipcode_98005</th>   <td>    0.1584</td> <td>    0.004</td> <td>   40.838</td> <td> 0.000</td> <td>    0.151</td> <td>    0.166</td>\n",
       "</tr>\n",
       "<tr>\n",
       "  <th>zipcode_98006</th>   <td>    0.1418</td> <td>    0.003</td> <td>   47.684</td> <td> 0.000</td> <td>    0.136</td> <td>    0.148</td>\n",
       "</tr>\n",
       "<tr>\n",
       "  <th>zipcode_98007</th>   <td>    0.1432</td> <td>    0.004</td> <td>   33.751</td> <td> 0.000</td> <td>    0.135</td> <td>    0.152</td>\n",
       "</tr>\n",
       "<tr>\n",
       "  <th>zipcode_98008</th>   <td>    0.1441</td> <td>    0.003</td> <td>   43.150</td> <td> 0.000</td> <td>    0.138</td> <td>    0.151</td>\n",
       "</tr>\n",
       "<tr>\n",
       "  <th>zipcode_98010</th>   <td>    0.0541</td> <td>    0.005</td> <td>   11.222</td> <td> 0.000</td> <td>    0.045</td> <td>    0.064</td>\n",
       "</tr>\n",
       "<tr>\n",
       "  <th>zipcode_98011</th>   <td>    0.0976</td> <td>    0.004</td> <td>   26.113</td> <td> 0.000</td> <td>    0.090</td> <td>    0.105</td>\n",
       "</tr>\n",
       "<tr>\n",
       "  <th>zipcode_98014</th>   <td>    0.0668</td> <td>    0.004</td> <td>   15.055</td> <td> 0.000</td> <td>    0.058</td> <td>    0.076</td>\n",
       "</tr>\n",
       "<tr>\n",
       "  <th>zipcode_98019</th>   <td>    0.0715</td> <td>    0.004</td> <td>   18.886</td> <td> 0.000</td> <td>    0.064</td> <td>    0.079</td>\n",
       "</tr>\n",
       "<tr>\n",
       "  <th>zipcode_98022</th>   <td>    0.0118</td> <td>    0.004</td> <td>    3.315</td> <td> 0.001</td> <td>    0.005</td> <td>    0.019</td>\n",
       "</tr>\n",
       "<tr>\n",
       "  <th>zipcode_98023</th>   <td>   -0.0048</td> <td>    0.003</td> <td>   -1.651</td> <td> 0.099</td> <td>   -0.011</td> <td>    0.001</td>\n",
       "</tr>\n",
       "<tr>\n",
       "  <th>zipcode_98024</th>   <td>    0.0941</td> <td>    0.005</td> <td>   18.171</td> <td> 0.000</td> <td>    0.084</td> <td>    0.104</td>\n",
       "</tr>\n",
       "<tr>\n",
       "  <th>zipcode_98027</th>   <td>    0.1123</td> <td>    0.003</td> <td>   36.777</td> <td> 0.000</td> <td>    0.106</td> <td>    0.118</td>\n",
       "</tr>\n",
       "<tr>\n",
       "  <th>zipcode_98028</th>   <td>    0.0916</td> <td>    0.003</td> <td>   27.505</td> <td> 0.000</td> <td>    0.085</td> <td>    0.098</td>\n",
       "</tr>\n",
       "<tr>\n",
       "  <th>zipcode_98029</th>   <td>    0.1330</td> <td>    0.003</td> <td>   40.875</td> <td> 0.000</td> <td>    0.127</td> <td>    0.139</td>\n",
       "</tr>\n",
       "<tr>\n",
       "  <th>zipcode_98030</th>   <td>    0.0111</td> <td>    0.003</td> <td>    3.260</td> <td> 0.001</td> <td>    0.004</td> <td>    0.018</td>\n",
       "</tr>\n",
       "<tr>\n",
       "  <th>zipcode_98031</th>   <td>    0.0173</td> <td>    0.003</td> <td>    5.135</td> <td> 0.000</td> <td>    0.011</td> <td>    0.024</td>\n",
       "</tr>\n",
       "<tr>\n",
       "  <th>zipcode_98032</th>   <td>   -0.0022</td> <td>    0.004</td> <td>   -0.517</td> <td> 0.605</td> <td>   -0.011</td> <td>    0.006</td>\n",
       "</tr>\n",
       "<tr>\n",
       "  <th>zipcode_98033</th>   <td>    0.1735</td> <td>    0.003</td> <td>   57.322</td> <td> 0.000</td> <td>    0.168</td> <td>    0.179</td>\n",
       "</tr>\n",
       "<tr>\n",
       "  <th>zipcode_98034</th>   <td>    0.1220</td> <td>    0.003</td> <td>   42.681</td> <td> 0.000</td> <td>    0.116</td> <td>    0.128</td>\n",
       "</tr>\n",
       "<tr>\n",
       "  <th>zipcode_98038</th>   <td>    0.0385</td> <td>    0.003</td> <td>   13.652</td> <td> 0.000</td> <td>    0.033</td> <td>    0.044</td>\n",
       "</tr>\n",
       "<tr>\n",
       "  <th>zipcode_98039</th>   <td>    0.2861</td> <td>    0.006</td> <td>   44.829</td> <td> 0.000</td> <td>    0.274</td> <td>    0.299</td>\n",
       "</tr>\n",
       "<tr>\n",
       "  <th>zipcode_98040</th>   <td>    0.1925</td> <td>    0.003</td> <td>   55.914</td> <td> 0.000</td> <td>    0.186</td> <td>    0.199</td>\n",
       "</tr>\n",
       "<tr>\n",
       "  <th>zipcode_98042</th>   <td>    0.0159</td> <td>    0.003</td> <td>    5.584</td> <td> 0.000</td> <td>    0.010</td> <td>    0.021</td>\n",
       "</tr>\n",
       "<tr>\n",
       "  <th>zipcode_98045</th>   <td>    0.0708</td> <td>    0.004</td> <td>   19.325</td> <td> 0.000</td> <td>    0.064</td> <td>    0.078</td>\n",
       "</tr>\n",
       "<tr>\n",
       "  <th>zipcode_98052</th>   <td>    0.1398</td> <td>    0.003</td> <td>   49.120</td> <td> 0.000</td> <td>    0.134</td> <td>    0.145</td>\n",
       "</tr>\n",
       "<tr>\n",
       "  <th>zipcode_98053</th>   <td>    0.1281</td> <td>    0.003</td> <td>   41.744</td> <td> 0.000</td> <td>    0.122</td> <td>    0.134</td>\n",
       "</tr>\n",
       "<tr>\n",
       "  <th>zipcode_98055</th>   <td>    0.0345</td> <td>    0.003</td> <td>   10.114</td> <td> 0.000</td> <td>    0.028</td> <td>    0.041</td>\n",
       "</tr>\n",
       "<tr>\n",
       "  <th>zipcode_98056</th>   <td>    0.0734</td> <td>    0.003</td> <td>   24.179</td> <td> 0.000</td> <td>    0.067</td> <td>    0.079</td>\n",
       "</tr>\n",
       "<tr>\n",
       "  <th>zipcode_98058</th>   <td>    0.0374</td> <td>    0.003</td> <td>   12.516</td> <td> 0.000</td> <td>    0.032</td> <td>    0.043</td>\n",
       "</tr>\n",
       "<tr>\n",
       "  <th>zipcode_98059</th>   <td>    0.0767</td> <td>    0.003</td> <td>   25.801</td> <td> 0.000</td> <td>    0.071</td> <td>    0.083</td>\n",
       "</tr>\n",
       "<tr>\n",
       "  <th>zipcode_98065</th>   <td>    0.0917</td> <td>    0.003</td> <td>   27.952</td> <td> 0.000</td> <td>    0.085</td> <td>    0.098</td>\n",
       "</tr>\n",
       "<tr>\n",
       "  <th>zipcode_98070</th>   <td>    0.0649</td> <td>    0.005</td> <td>   14.319</td> <td> 0.000</td> <td>    0.056</td> <td>    0.074</td>\n",
       "</tr>\n",
       "<tr>\n",
       "  <th>zipcode_98072</th>   <td>    0.1045</td> <td>    0.003</td> <td>   30.753</td> <td> 0.000</td> <td>    0.098</td> <td>    0.111</td>\n",
       "</tr>\n",
       "<tr>\n",
       "  <th>zipcode_98074</th>   <td>    0.1225</td> <td>    0.003</td> <td>   40.279</td> <td> 0.000</td> <td>    0.116</td> <td>    0.128</td>\n",
       "</tr>\n",
       "<tr>\n",
       "  <th>zipcode_98075</th>   <td>    0.1225</td> <td>    0.003</td> <td>   38.525</td> <td> 0.000</td> <td>    0.116</td> <td>    0.129</td>\n",
       "</tr>\n",
       "<tr>\n",
       "  <th>zipcode_98077</th>   <td>    0.0944</td> <td>    0.004</td> <td>   24.995</td> <td> 0.000</td> <td>    0.087</td> <td>    0.102</td>\n",
       "</tr>\n",
       "<tr>\n",
       "  <th>zipcode_98092</th>   <td>    0.0053</td> <td>    0.003</td> <td>    1.678</td> <td> 0.093</td> <td>   -0.001</td> <td>    0.012</td>\n",
       "</tr>\n",
       "<tr>\n",
       "  <th>zipcode_98102</th>   <td>    0.2204</td> <td>    0.005</td> <td>   44.886</td> <td> 0.000</td> <td>    0.211</td> <td>    0.230</td>\n",
       "</tr>\n",
       "<tr>\n",
       "  <th>zipcode_98103</th>   <td>    0.1895</td> <td>    0.003</td> <td>   64.091</td> <td> 0.000</td> <td>    0.184</td> <td>    0.195</td>\n",
       "</tr>\n",
       "<tr>\n",
       "  <th>zipcode_98105</th>   <td>    0.2138</td> <td>    0.004</td> <td>   58.655</td> <td> 0.000</td> <td>    0.207</td> <td>    0.221</td>\n",
       "</tr>\n",
       "<tr>\n",
       "  <th>zipcode_98106</th>   <td>    0.0879</td> <td>    0.003</td> <td>   27.125</td> <td> 0.000</td> <td>    0.082</td> <td>    0.094</td>\n",
       "</tr>\n",
       "<tr>\n",
       "  <th>zipcode_98107</th>   <td>    0.1956</td> <td>    0.004</td> <td>   55.598</td> <td> 0.000</td> <td>    0.189</td> <td>    0.203</td>\n",
       "</tr>\n",
       "<tr>\n",
       "  <th>zipcode_98108</th>   <td>    0.0880</td> <td>    0.004</td> <td>   22.964</td> <td> 0.000</td> <td>    0.081</td> <td>    0.096</td>\n",
       "</tr>\n",
       "<tr>\n",
       "  <th>zipcode_98109</th>   <td>    0.2231</td> <td>    0.005</td> <td>   46.599</td> <td> 0.000</td> <td>    0.214</td> <td>    0.232</td>\n",
       "</tr>\n",
       "<tr>\n",
       "  <th>zipcode_98112</th>   <td>    0.2388</td> <td>    0.004</td> <td>   67.060</td> <td> 0.000</td> <td>    0.232</td> <td>    0.246</td>\n",
       "</tr>\n",
       "<tr>\n",
       "  <th>zipcode_98115</th>   <td>    0.1863</td> <td>    0.003</td> <td>   63.759</td> <td> 0.000</td> <td>    0.181</td> <td>    0.192</td>\n",
       "</tr>\n",
       "<tr>\n",
       "  <th>zipcode_98116</th>   <td>    0.1753</td> <td>    0.003</td> <td>   52.928</td> <td> 0.000</td> <td>    0.169</td> <td>    0.182</td>\n",
       "</tr>\n",
       "<tr>\n",
       "  <th>zipcode_98117</th>   <td>    0.1867</td> <td>    0.003</td> <td>   63.162</td> <td> 0.000</td> <td>    0.181</td> <td>    0.192</td>\n",
       "</tr>\n",
       "<tr>\n",
       "  <th>zipcode_98118</th>   <td>    0.1122</td> <td>    0.003</td> <td>   37.747</td> <td> 0.000</td> <td>    0.106</td> <td>    0.118</td>\n",
       "</tr>\n",
       "<tr>\n",
       "  <th>zipcode_98119</th>   <td>    0.2258</td> <td>    0.004</td> <td>   56.458</td> <td> 0.000</td> <td>    0.218</td> <td>    0.234</td>\n",
       "</tr>\n",
       "<tr>\n",
       "  <th>zipcode_98122</th>   <td>    0.1875</td> <td>    0.003</td> <td>   53.981</td> <td> 0.000</td> <td>    0.181</td> <td>    0.194</td>\n",
       "</tr>\n",
       "<tr>\n",
       "  <th>zipcode_98125</th>   <td>    0.1291</td> <td>    0.003</td> <td>   42.120</td> <td> 0.000</td> <td>    0.123</td> <td>    0.135</td>\n",
       "</tr>\n",
       "<tr>\n",
       "  <th>zipcode_98126</th>   <td>    0.1306</td> <td>    0.003</td> <td>   40.205</td> <td> 0.000</td> <td>    0.124</td> <td>    0.137</td>\n",
       "</tr>\n",
       "<tr>\n",
       "  <th>zipcode_98133</th>   <td>    0.1070</td> <td>    0.003</td> <td>   36.139</td> <td> 0.000</td> <td>    0.101</td> <td>    0.113</td>\n",
       "</tr>\n",
       "<tr>\n",
       "  <th>zipcode_98136</th>   <td>    0.1586</td> <td>    0.004</td> <td>   45.203</td> <td> 0.000</td> <td>    0.152</td> <td>    0.165</td>\n",
       "</tr>\n",
       "<tr>\n",
       "  <th>zipcode_98144</th>   <td>    0.1570</td> <td>    0.003</td> <td>   47.556</td> <td> 0.000</td> <td>    0.151</td> <td>    0.163</td>\n",
       "</tr>\n",
       "<tr>\n",
       "  <th>zipcode_98146</th>   <td>    0.0671</td> <td>    0.003</td> <td>   20.024</td> <td> 0.000</td> <td>    0.061</td> <td>    0.074</td>\n",
       "</tr>\n",
       "<tr>\n",
       "  <th>zipcode_98148</th>   <td>    0.0398</td> <td>    0.006</td> <td>    6.642</td> <td> 0.000</td> <td>    0.028</td> <td>    0.052</td>\n",
       "</tr>\n",
       "<tr>\n",
       "  <th>zipcode_98155</th>   <td>    0.0971</td> <td>    0.003</td> <td>   32.487</td> <td> 0.000</td> <td>    0.091</td> <td>    0.103</td>\n",
       "</tr>\n",
       "<tr>\n",
       "  <th>zipcode_98166</th>   <td>    0.0687</td> <td>    0.003</td> <td>   19.639</td> <td> 0.000</td> <td>    0.062</td> <td>    0.076</td>\n",
       "</tr>\n",
       "<tr>\n",
       "  <th>zipcode_98168</th>   <td>    0.0235</td> <td>    0.003</td> <td>    6.798</td> <td> 0.000</td> <td>    0.017</td> <td>    0.030</td>\n",
       "</tr>\n",
       "<tr>\n",
       "  <th>zipcode_98177</th>   <td>    0.1328</td> <td>    0.003</td> <td>   38.578</td> <td> 0.000</td> <td>    0.126</td> <td>    0.140</td>\n",
       "</tr>\n",
       "<tr>\n",
       "  <th>zipcode_98178</th>   <td>    0.0402</td> <td>    0.003</td> <td>   11.690</td> <td> 0.000</td> <td>    0.033</td> <td>    0.047</td>\n",
       "</tr>\n",
       "<tr>\n",
       "  <th>zipcode_98188</th>   <td>    0.0236</td> <td>    0.004</td> <td>    5.514</td> <td> 0.000</td> <td>    0.015</td> <td>    0.032</td>\n",
       "</tr>\n",
       "<tr>\n",
       "  <th>zipcode_98198</th>   <td>    0.0184</td> <td>    0.003</td> <td>    5.408</td> <td> 0.000</td> <td>    0.012</td> <td>    0.025</td>\n",
       "</tr>\n",
       "<tr>\n",
       "  <th>zipcode_98199</th>   <td>    0.1954</td> <td>    0.003</td> <td>   58.279</td> <td> 0.000</td> <td>    0.189</td> <td>    0.202</td>\n",
       "</tr>\n",
       "</table>\n",
       "<table class=\"simpletable\">\n",
       "<tr>\n",
       "  <th>Omnibus:</th>       <td>1365.019</td> <th>  Durbin-Watson:     </th> <td>   1.996</td>\n",
       "</tr>\n",
       "<tr>\n",
       "  <th>Prob(Omnibus):</th>  <td> 0.000</td>  <th>  Jarque-Bera (JB):  </th> <td>6172.805</td>\n",
       "</tr>\n",
       "<tr>\n",
       "  <th>Skew:</th>           <td>-0.210</td>  <th>  Prob(JB):          </th> <td>    0.00</td>\n",
       "</tr>\n",
       "<tr>\n",
       "  <th>Kurtosis:</th>       <td> 5.779</td>  <th>  Cond. No.          </th> <td>    123.</td>\n",
       "</tr>\n",
       "</table><br/><br/>Warnings:<br/>[1] Standard Errors assume that the covariance matrix of the errors is correctly specified."
      ],
      "text/plain": [
       "<class 'statsmodels.iolib.summary.Summary'>\n",
       "\"\"\"\n",
       "                            OLS Regression Results                            \n",
       "==============================================================================\n",
       "Dep. Variable:               logprice   R-squared:                       0.883\n",
       "Model:                            OLS   Adj. R-squared:                  0.883\n",
       "Method:                 Least Squares   F-statistic:                     1704.\n",
       "Date:                Tue, 26 Feb 2019   Prob (F-statistic):               0.00\n",
       "Time:                        08:36:32   Log-Likelihood:                 34120.\n",
       "No. Observations:               18748   AIC:                        -6.807e+04\n",
       "Df Residuals:                   18664   BIC:                        -6.741e+04\n",
       "Df Model:                          83                                         \n",
       "Covariance Type:            nonrobust                                         \n",
       "===================================================================================\n",
       "                      coef    std err          t      P>|t|      [0.025      0.975]\n",
       "-----------------------------------------------------------------------------------\n",
       "const              -0.0725      0.004    -20.285      0.000      -0.079      -0.065\n",
       "bedrooms           -0.0357      0.004     -8.104      0.000      -0.044      -0.027\n",
       "bathrooms           0.0710      0.005     13.874      0.000       0.061       0.081\n",
       "floors             -0.0105      0.002     -4.799      0.000      -0.015      -0.006\n",
       "view                0.0520      0.002     27.955      0.000       0.048       0.056\n",
       "condition           0.0428      0.002     21.479      0.000       0.039       0.047\n",
       "grade               0.2068      0.005     44.502      0.000       0.198       0.216\n",
       "sqft_basement       0.0118      0.009      1.279      0.201      -0.006       0.030\n",
       "yr_built           -0.0106      0.002     -5.551      0.000      -0.014      -0.007\n",
       "logsqftabove        0.1210      0.012     10.263      0.000       0.098       0.144\n",
       "logsqftliving       0.2031      0.014     14.323      0.000       0.175       0.231\n",
       "logsqftliving15     0.0867      0.004     20.306      0.000       0.078       0.095\n",
       "logsqftlot          0.1208      0.007     17.768      0.000       0.108       0.134\n",
       "logsqftlot15       -0.0270      0.007     -4.045      0.000      -0.040      -0.014\n",
       "waterfront_1.0      0.1065      0.004     28.724      0.000       0.099       0.114\n",
       "zipcode_98002       0.0022      0.004      0.605      0.545      -0.005       0.009\n",
       "zipcode_98003       0.0032      0.003      0.965      0.334      -0.003       0.010\n",
       "zipcode_98004       0.2483      0.003     75.709      0.000       0.242       0.255\n",
       "zipcode_98005       0.1584      0.004     40.838      0.000       0.151       0.166\n",
       "zipcode_98006       0.1418      0.003     47.684      0.000       0.136       0.148\n",
       "zipcode_98007       0.1432      0.004     33.751      0.000       0.135       0.152\n",
       "zipcode_98008       0.1441      0.003     43.150      0.000       0.138       0.151\n",
       "zipcode_98010       0.0541      0.005     11.222      0.000       0.045       0.064\n",
       "zipcode_98011       0.0976      0.004     26.113      0.000       0.090       0.105\n",
       "zipcode_98014       0.0668      0.004     15.055      0.000       0.058       0.076\n",
       "zipcode_98019       0.0715      0.004     18.886      0.000       0.064       0.079\n",
       "zipcode_98022       0.0118      0.004      3.315      0.001       0.005       0.019\n",
       "zipcode_98023      -0.0048      0.003     -1.651      0.099      -0.011       0.001\n",
       "zipcode_98024       0.0941      0.005     18.171      0.000       0.084       0.104\n",
       "zipcode_98027       0.1123      0.003     36.777      0.000       0.106       0.118\n",
       "zipcode_98028       0.0916      0.003     27.505      0.000       0.085       0.098\n",
       "zipcode_98029       0.1330      0.003     40.875      0.000       0.127       0.139\n",
       "zipcode_98030       0.0111      0.003      3.260      0.001       0.004       0.018\n",
       "zipcode_98031       0.0173      0.003      5.135      0.000       0.011       0.024\n",
       "zipcode_98032      -0.0022      0.004     -0.517      0.605      -0.011       0.006\n",
       "zipcode_98033       0.1735      0.003     57.322      0.000       0.168       0.179\n",
       "zipcode_98034       0.1220      0.003     42.681      0.000       0.116       0.128\n",
       "zipcode_98038       0.0385      0.003     13.652      0.000       0.033       0.044\n",
       "zipcode_98039       0.2861      0.006     44.829      0.000       0.274       0.299\n",
       "zipcode_98040       0.1925      0.003     55.914      0.000       0.186       0.199\n",
       "zipcode_98042       0.0159      0.003      5.584      0.000       0.010       0.021\n",
       "zipcode_98045       0.0708      0.004     19.325      0.000       0.064       0.078\n",
       "zipcode_98052       0.1398      0.003     49.120      0.000       0.134       0.145\n",
       "zipcode_98053       0.1281      0.003     41.744      0.000       0.122       0.134\n",
       "zipcode_98055       0.0345      0.003     10.114      0.000       0.028       0.041\n",
       "zipcode_98056       0.0734      0.003     24.179      0.000       0.067       0.079\n",
       "zipcode_98058       0.0374      0.003     12.516      0.000       0.032       0.043\n",
       "zipcode_98059       0.0767      0.003     25.801      0.000       0.071       0.083\n",
       "zipcode_98065       0.0917      0.003     27.952      0.000       0.085       0.098\n",
       "zipcode_98070       0.0649      0.005     14.319      0.000       0.056       0.074\n",
       "zipcode_98072       0.1045      0.003     30.753      0.000       0.098       0.111\n",
       "zipcode_98074       0.1225      0.003     40.279      0.000       0.116       0.128\n",
       "zipcode_98075       0.1225      0.003     38.525      0.000       0.116       0.129\n",
       "zipcode_98077       0.0944      0.004     24.995      0.000       0.087       0.102\n",
       "zipcode_98092       0.0053      0.003      1.678      0.093      -0.001       0.012\n",
       "zipcode_98102       0.2204      0.005     44.886      0.000       0.211       0.230\n",
       "zipcode_98103       0.1895      0.003     64.091      0.000       0.184       0.195\n",
       "zipcode_98105       0.2138      0.004     58.655      0.000       0.207       0.221\n",
       "zipcode_98106       0.0879      0.003     27.125      0.000       0.082       0.094\n",
       "zipcode_98107       0.1956      0.004     55.598      0.000       0.189       0.203\n",
       "zipcode_98108       0.0880      0.004     22.964      0.000       0.081       0.096\n",
       "zipcode_98109       0.2231      0.005     46.599      0.000       0.214       0.232\n",
       "zipcode_98112       0.2388      0.004     67.060      0.000       0.232       0.246\n",
       "zipcode_98115       0.1863      0.003     63.759      0.000       0.181       0.192\n",
       "zipcode_98116       0.1753      0.003     52.928      0.000       0.169       0.182\n",
       "zipcode_98117       0.1867      0.003     63.162      0.000       0.181       0.192\n",
       "zipcode_98118       0.1122      0.003     37.747      0.000       0.106       0.118\n",
       "zipcode_98119       0.2258      0.004     56.458      0.000       0.218       0.234\n",
       "zipcode_98122       0.1875      0.003     53.981      0.000       0.181       0.194\n",
       "zipcode_98125       0.1291      0.003     42.120      0.000       0.123       0.135\n",
       "zipcode_98126       0.1306      0.003     40.205      0.000       0.124       0.137\n",
       "zipcode_98133       0.1070      0.003     36.139      0.000       0.101       0.113\n",
       "zipcode_98136       0.1586      0.004     45.203      0.000       0.152       0.165\n",
       "zipcode_98144       0.1570      0.003     47.556      0.000       0.151       0.163\n",
       "zipcode_98146       0.0671      0.003     20.024      0.000       0.061       0.074\n",
       "zipcode_98148       0.0398      0.006      6.642      0.000       0.028       0.052\n",
       "zipcode_98155       0.0971      0.003     32.487      0.000       0.091       0.103\n",
       "zipcode_98166       0.0687      0.003     19.639      0.000       0.062       0.076\n",
       "zipcode_98168       0.0235      0.003      6.798      0.000       0.017       0.030\n",
       "zipcode_98177       0.1328      0.003     38.578      0.000       0.126       0.140\n",
       "zipcode_98178       0.0402      0.003     11.690      0.000       0.033       0.047\n",
       "zipcode_98188       0.0236      0.004      5.514      0.000       0.015       0.032\n",
       "zipcode_98198       0.0184      0.003      5.408      0.000       0.012       0.025\n",
       "zipcode_98199       0.1954      0.003     58.279      0.000       0.189       0.202\n",
       "==============================================================================\n",
       "Omnibus:                     1365.019   Durbin-Watson:                   1.996\n",
       "Prob(Omnibus):                  0.000   Jarque-Bera (JB):             6172.805\n",
       "Skew:                          -0.210   Prob(JB):                         0.00\n",
       "Kurtosis:                       5.779   Cond. No.                         123.\n",
       "==============================================================================\n",
       "\n",
       "Warnings:\n",
       "[1] Standard Errors assume that the covariance matrix of the errors is correctly specified.\n",
       "\"\"\""
      ]
     },
     "execution_count": 110,
     "metadata": {},
     "output_type": "execute_result"
    }
   ],
   "source": [
    "features_int = sm.add_constant(df_features)\n",
    "model = sm.OLS(df_final['logprice'], features_int).fit()\n",
    "model.summary()"
   ]
  },
  {
   "cell_type": "code",
   "execution_count": 111,
   "metadata": {},
   "outputs": [],
   "source": [
    "#Remove pvalues > 0.05\n",
    "df_selectedfeatures = df_features.drop(['sqft_basement','zipcode_98002','zipcode_98003','zipcode_98023','zipcode_98032',\n",
    "                                                'zipcode_98092'], axis = 1)"
   ]
  },
  {
   "cell_type": "markdown",
   "metadata": {},
   "source": [
    "## Final Model"
   ]
  },
  {
   "cell_type": "code",
   "execution_count": 112,
   "metadata": {
    "scrolled": false
   },
   "outputs": [
    {
     "data": {
      "text/html": [
       "<table class=\"simpletable\">\n",
       "<caption>OLS Regression Results</caption>\n",
       "<tr>\n",
       "  <th>Dep. Variable:</th>        <td>logprice</td>     <th>  R-squared:         </th>  <td>   0.883</td> \n",
       "</tr>\n",
       "<tr>\n",
       "  <th>Model:</th>                   <td>OLS</td>       <th>  Adj. R-squared:    </th>  <td>   0.883</td> \n",
       "</tr>\n",
       "<tr>\n",
       "  <th>Method:</th>             <td>Least Squares</td>  <th>  F-statistic:       </th>  <td>   1836.</td> \n",
       "</tr>\n",
       "<tr>\n",
       "  <th>Date:</th>             <td>Tue, 26 Feb 2019</td> <th>  Prob (F-statistic):</th>   <td>  0.00</td>  \n",
       "</tr>\n",
       "<tr>\n",
       "  <th>Time:</th>                 <td>08:36:33</td>     <th>  Log-Likelihood:    </th>  <td>  34112.</td> \n",
       "</tr>\n",
       "<tr>\n",
       "  <th>No. Observations:</th>      <td> 18748</td>      <th>  AIC:               </th> <td>-6.807e+04</td>\n",
       "</tr>\n",
       "<tr>\n",
       "  <th>Df Residuals:</th>          <td> 18670</td>      <th>  BIC:               </th> <td>-6.746e+04</td>\n",
       "</tr>\n",
       "<tr>\n",
       "  <th>Df Model:</th>              <td>    77</td>      <th>                     </th>      <td> </td>    \n",
       "</tr>\n",
       "<tr>\n",
       "  <th>Covariance Type:</th>      <td>nonrobust</td>    <th>                     </th>      <td> </td>    \n",
       "</tr>\n",
       "</table>\n",
       "<table class=\"simpletable\">\n",
       "<tr>\n",
       "         <td></td>            <th>coef</th>     <th>std err</th>      <th>t</th>      <th>P>|t|</th>  <th>[0.025</th>    <th>0.975]</th>  \n",
       "</tr>\n",
       "<tr>\n",
       "  <th>const</th>           <td>   -0.0731</td> <td>    0.003</td> <td>  -25.028</td> <td> 0.000</td> <td>   -0.079</td> <td>   -0.067</td>\n",
       "</tr>\n",
       "<tr>\n",
       "  <th>bedrooms</th>        <td>   -0.0357</td> <td>    0.004</td> <td>   -8.116</td> <td> 0.000</td> <td>   -0.044</td> <td>   -0.027</td>\n",
       "</tr>\n",
       "<tr>\n",
       "  <th>bathrooms</th>       <td>    0.0721</td> <td>    0.005</td> <td>   14.207</td> <td> 0.000</td> <td>    0.062</td> <td>    0.082</td>\n",
       "</tr>\n",
       "<tr>\n",
       "  <th>floors</th>          <td>   -0.0106</td> <td>    0.002</td> <td>   -4.821</td> <td> 0.000</td> <td>   -0.015</td> <td>   -0.006</td>\n",
       "</tr>\n",
       "<tr>\n",
       "  <th>view</th>            <td>    0.0525</td> <td>    0.002</td> <td>   28.774</td> <td> 0.000</td> <td>    0.049</td> <td>    0.056</td>\n",
       "</tr>\n",
       "<tr>\n",
       "  <th>condition</th>       <td>    0.0429</td> <td>    0.002</td> <td>   21.527</td> <td> 0.000</td> <td>    0.039</td> <td>    0.047</td>\n",
       "</tr>\n",
       "<tr>\n",
       "  <th>grade</th>           <td>    0.2066</td> <td>    0.005</td> <td>   44.640</td> <td> 0.000</td> <td>    0.198</td> <td>    0.216</td>\n",
       "</tr>\n",
       "<tr>\n",
       "  <th>yr_built</th>        <td>   -0.0105</td> <td>    0.002</td> <td>   -5.554</td> <td> 0.000</td> <td>   -0.014</td> <td>   -0.007</td>\n",
       "</tr>\n",
       "<tr>\n",
       "  <th>logsqftabove</th>    <td>    0.1088</td> <td>    0.006</td> <td>   18.575</td> <td> 0.000</td> <td>    0.097</td> <td>    0.120</td>\n",
       "</tr>\n",
       "<tr>\n",
       "  <th>logsqftliving</th>   <td>    0.2183</td> <td>    0.007</td> <td>   31.716</td> <td> 0.000</td> <td>    0.205</td> <td>    0.232</td>\n",
       "</tr>\n",
       "<tr>\n",
       "  <th>logsqftliving15</th> <td>    0.0863</td> <td>    0.004</td> <td>   20.292</td> <td> 0.000</td> <td>    0.078</td> <td>    0.095</td>\n",
       "</tr>\n",
       "<tr>\n",
       "  <th>logsqftlot</th>      <td>    0.1214</td> <td>    0.007</td> <td>   17.864</td> <td> 0.000</td> <td>    0.108</td> <td>    0.135</td>\n",
       "</tr>\n",
       "<tr>\n",
       "  <th>logsqftlot15</th>    <td>   -0.0266</td> <td>    0.007</td> <td>   -3.985</td> <td> 0.000</td> <td>   -0.040</td> <td>   -0.014</td>\n",
       "</tr>\n",
       "<tr>\n",
       "  <th>waterfront_1.0</th>  <td>    0.1064</td> <td>    0.004</td> <td>   28.691</td> <td> 0.000</td> <td>    0.099</td> <td>    0.114</td>\n",
       "</tr>\n",
       "<tr>\n",
       "  <th>zipcode_98004</th>   <td>    0.2482</td> <td>    0.003</td> <td>   95.447</td> <td> 0.000</td> <td>    0.243</td> <td>    0.253</td>\n",
       "</tr>\n",
       "<tr>\n",
       "  <th>zipcode_98005</th>   <td>    0.1582</td> <td>    0.003</td> <td>   47.547</td> <td> 0.000</td> <td>    0.152</td> <td>    0.165</td>\n",
       "</tr>\n",
       "<tr>\n",
       "  <th>zipcode_98006</th>   <td>    0.1417</td> <td>    0.002</td> <td>   64.314</td> <td> 0.000</td> <td>    0.137</td> <td>    0.146</td>\n",
       "</tr>\n",
       "<tr>\n",
       "  <th>zipcode_98007</th>   <td>    0.1430</td> <td>    0.004</td> <td>   38.121</td> <td> 0.000</td> <td>    0.136</td> <td>    0.150</td>\n",
       "</tr>\n",
       "<tr>\n",
       "  <th>zipcode_98008</th>   <td>    0.1439</td> <td>    0.003</td> <td>   53.596</td> <td> 0.000</td> <td>    0.139</td> <td>    0.149</td>\n",
       "</tr>\n",
       "<tr>\n",
       "  <th>zipcode_98010</th>   <td>    0.0537</td> <td>    0.004</td> <td>   12.171</td> <td> 0.000</td> <td>    0.045</td> <td>    0.062</td>\n",
       "</tr>\n",
       "<tr>\n",
       "  <th>zipcode_98011</th>   <td>    0.0974</td> <td>    0.003</td> <td>   30.666</td> <td> 0.000</td> <td>    0.091</td> <td>    0.104</td>\n",
       "</tr>\n",
       "<tr>\n",
       "  <th>zipcode_98014</th>   <td>    0.0663</td> <td>    0.004</td> <td>   16.636</td> <td> 0.000</td> <td>    0.059</td> <td>    0.074</td>\n",
       "</tr>\n",
       "<tr>\n",
       "  <th>zipcode_98019</th>   <td>    0.0711</td> <td>    0.003</td> <td>   21.952</td> <td> 0.000</td> <td>    0.065</td> <td>    0.077</td>\n",
       "</tr>\n",
       "<tr>\n",
       "  <th>zipcode_98022</th>   <td>    0.0114</td> <td>    0.003</td> <td>    3.840</td> <td> 0.000</td> <td>    0.006</td> <td>    0.017</td>\n",
       "</tr>\n",
       "<tr>\n",
       "  <th>zipcode_98024</th>   <td>    0.0936</td> <td>    0.005</td> <td>   19.519</td> <td> 0.000</td> <td>    0.084</td> <td>    0.103</td>\n",
       "</tr>\n",
       "<tr>\n",
       "  <th>zipcode_98027</th>   <td>    0.1121</td> <td>    0.002</td> <td>   48.200</td> <td> 0.000</td> <td>    0.108</td> <td>    0.117</td>\n",
       "</tr>\n",
       "<tr>\n",
       "  <th>zipcode_98028</th>   <td>    0.0913</td> <td>    0.003</td> <td>   34.076</td> <td> 0.000</td> <td>    0.086</td> <td>    0.097</td>\n",
       "</tr>\n",
       "<tr>\n",
       "  <th>zipcode_98029</th>   <td>    0.1327</td> <td>    0.003</td> <td>   51.400</td> <td> 0.000</td> <td>    0.128</td> <td>    0.138</td>\n",
       "</tr>\n",
       "<tr>\n",
       "  <th>zipcode_98030</th>   <td>    0.0108</td> <td>    0.003</td> <td>    3.884</td> <td> 0.000</td> <td>    0.005</td> <td>    0.016</td>\n",
       "</tr>\n",
       "<tr>\n",
       "  <th>zipcode_98031</th>   <td>    0.0170</td> <td>    0.003</td> <td>    6.210</td> <td> 0.000</td> <td>    0.012</td> <td>    0.022</td>\n",
       "</tr>\n",
       "<tr>\n",
       "  <th>zipcode_98033</th>   <td>    0.1733</td> <td>    0.002</td> <td>   75.794</td> <td> 0.000</td> <td>    0.169</td> <td>    0.178</td>\n",
       "</tr>\n",
       "<tr>\n",
       "  <th>zipcode_98034</th>   <td>    0.1217</td> <td>    0.002</td> <td>   59.038</td> <td> 0.000</td> <td>    0.118</td> <td>    0.126</td>\n",
       "</tr>\n",
       "<tr>\n",
       "  <th>zipcode_98038</th>   <td>    0.0381</td> <td>    0.002</td> <td>   18.832</td> <td> 0.000</td> <td>    0.034</td> <td>    0.042</td>\n",
       "</tr>\n",
       "<tr>\n",
       "  <th>zipcode_98039</th>   <td>    0.2859</td> <td>    0.006</td> <td>   47.191</td> <td> 0.000</td> <td>    0.274</td> <td>    0.298</td>\n",
       "</tr>\n",
       "<tr>\n",
       "  <th>zipcode_98040</th>   <td>    0.1925</td> <td>    0.003</td> <td>   68.741</td> <td> 0.000</td> <td>    0.187</td> <td>    0.198</td>\n",
       "</tr>\n",
       "<tr>\n",
       "  <th>zipcode_98042</th>   <td>    0.0156</td> <td>    0.002</td> <td>    7.580</td> <td> 0.000</td> <td>    0.012</td> <td>    0.020</td>\n",
       "</tr>\n",
       "<tr>\n",
       "  <th>zipcode_98045</th>   <td>    0.0704</td> <td>    0.003</td> <td>   22.739</td> <td> 0.000</td> <td>    0.064</td> <td>    0.076</td>\n",
       "</tr>\n",
       "<tr>\n",
       "  <th>zipcode_98052</th>   <td>    0.1395</td> <td>    0.002</td> <td>   68.257</td> <td> 0.000</td> <td>    0.135</td> <td>    0.143</td>\n",
       "</tr>\n",
       "<tr>\n",
       "  <th>zipcode_98053</th>   <td>    0.1276</td> <td>    0.002</td> <td>   54.225</td> <td> 0.000</td> <td>    0.123</td> <td>    0.132</td>\n",
       "</tr>\n",
       "<tr>\n",
       "  <th>zipcode_98055</th>   <td>    0.0342</td> <td>    0.003</td> <td>   12.325</td> <td> 0.000</td> <td>    0.029</td> <td>    0.040</td>\n",
       "</tr>\n",
       "<tr>\n",
       "  <th>zipcode_98056</th>   <td>    0.0731</td> <td>    0.002</td> <td>   31.756</td> <td> 0.000</td> <td>    0.069</td> <td>    0.078</td>\n",
       "</tr>\n",
       "<tr>\n",
       "  <th>zipcode_98058</th>   <td>    0.0371</td> <td>    0.002</td> <td>   16.534</td> <td> 0.000</td> <td>    0.033</td> <td>    0.042</td>\n",
       "</tr>\n",
       "<tr>\n",
       "  <th>zipcode_98059</th>   <td>    0.0763</td> <td>    0.002</td> <td>   34.322</td> <td> 0.000</td> <td>    0.072</td> <td>    0.081</td>\n",
       "</tr>\n",
       "<tr>\n",
       "  <th>zipcode_98065</th>   <td>    0.0913</td> <td>    0.003</td> <td>   34.786</td> <td> 0.000</td> <td>    0.086</td> <td>    0.096</td>\n",
       "</tr>\n",
       "<tr>\n",
       "  <th>zipcode_98070</th>   <td>    0.0644</td> <td>    0.004</td> <td>   15.740</td> <td> 0.000</td> <td>    0.056</td> <td>    0.072</td>\n",
       "</tr>\n",
       "<tr>\n",
       "  <th>zipcode_98072</th>   <td>    0.1041</td> <td>    0.003</td> <td>   37.636</td> <td> 0.000</td> <td>    0.099</td> <td>    0.110</td>\n",
       "</tr>\n",
       "<tr>\n",
       "  <th>zipcode_98074</th>   <td>    0.1221</td> <td>    0.002</td> <td>   52.968</td> <td> 0.000</td> <td>    0.118</td> <td>    0.127</td>\n",
       "</tr>\n",
       "<tr>\n",
       "  <th>zipcode_98075</th>   <td>    0.1220</td> <td>    0.002</td> <td>   49.130</td> <td> 0.000</td> <td>    0.117</td> <td>    0.127</td>\n",
       "</tr>\n",
       "<tr>\n",
       "  <th>zipcode_98077</th>   <td>    0.0940</td> <td>    0.003</td> <td>   29.155</td> <td> 0.000</td> <td>    0.088</td> <td>    0.100</td>\n",
       "</tr>\n",
       "<tr>\n",
       "  <th>zipcode_98102</th>   <td>    0.2205</td> <td>    0.004</td> <td>   49.197</td> <td> 0.000</td> <td>    0.212</td> <td>    0.229</td>\n",
       "</tr>\n",
       "<tr>\n",
       "  <th>zipcode_98103</th>   <td>    0.1894</td> <td>    0.002</td> <td>   86.768</td> <td> 0.000</td> <td>    0.185</td> <td>    0.194</td>\n",
       "</tr>\n",
       "<tr>\n",
       "  <th>zipcode_98105</th>   <td>    0.2138</td> <td>    0.003</td> <td>   70.174</td> <td> 0.000</td> <td>    0.208</td> <td>    0.220</td>\n",
       "</tr>\n",
       "<tr>\n",
       "  <th>zipcode_98106</th>   <td>    0.0877</td> <td>    0.003</td> <td>   34.177</td> <td> 0.000</td> <td>    0.083</td> <td>    0.093</td>\n",
       "</tr>\n",
       "<tr>\n",
       "  <th>zipcode_98107</th>   <td>    0.1955</td> <td>    0.003</td> <td>   67.431</td> <td> 0.000</td> <td>    0.190</td> <td>    0.201</td>\n",
       "</tr>\n",
       "<tr>\n",
       "  <th>zipcode_98108</th>   <td>    0.0878</td> <td>    0.003</td> <td>   26.782</td> <td> 0.000</td> <td>    0.081</td> <td>    0.094</td>\n",
       "</tr>\n",
       "<tr>\n",
       "  <th>zipcode_98109</th>   <td>    0.2230</td> <td>    0.004</td> <td>   51.295</td> <td> 0.000</td> <td>    0.214</td> <td>    0.232</td>\n",
       "</tr>\n",
       "<tr>\n",
       "  <th>zipcode_98112</th>   <td>    0.2389</td> <td>    0.003</td> <td>   81.280</td> <td> 0.000</td> <td>    0.233</td> <td>    0.245</td>\n",
       "</tr>\n",
       "<tr>\n",
       "  <th>zipcode_98115</th>   <td>    0.1862</td> <td>    0.002</td> <td>   87.111</td> <td> 0.000</td> <td>    0.182</td> <td>    0.190</td>\n",
       "</tr>\n",
       "<tr>\n",
       "  <th>zipcode_98116</th>   <td>    0.1751</td> <td>    0.003</td> <td>   66.237</td> <td> 0.000</td> <td>    0.170</td> <td>    0.180</td>\n",
       "</tr>\n",
       "<tr>\n",
       "  <th>zipcode_98117</th>   <td>    0.1865</td> <td>    0.002</td> <td>   85.540</td> <td> 0.000</td> <td>    0.182</td> <td>    0.191</td>\n",
       "</tr>\n",
       "<tr>\n",
       "  <th>zipcode_98118</th>   <td>    0.1121</td> <td>    0.002</td> <td>   50.665</td> <td> 0.000</td> <td>    0.108</td> <td>    0.116</td>\n",
       "</tr>\n",
       "<tr>\n",
       "  <th>zipcode_98119</th>   <td>    0.2257</td> <td>    0.003</td> <td>   65.208</td> <td> 0.000</td> <td>    0.219</td> <td>    0.232</td>\n",
       "</tr>\n",
       "<tr>\n",
       "  <th>zipcode_98122</th>   <td>    0.1874</td> <td>    0.003</td> <td>   65.986</td> <td> 0.000</td> <td>    0.182</td> <td>    0.193</td>\n",
       "</tr>\n",
       "<tr>\n",
       "  <th>zipcode_98125</th>   <td>    0.1289</td> <td>    0.002</td> <td>   55.106</td> <td> 0.000</td> <td>    0.124</td> <td>    0.134</td>\n",
       "</tr>\n",
       "<tr>\n",
       "  <th>zipcode_98126</th>   <td>    0.1304</td> <td>    0.003</td> <td>   50.768</td> <td> 0.000</td> <td>    0.125</td> <td>    0.135</td>\n",
       "</tr>\n",
       "<tr>\n",
       "  <th>zipcode_98133</th>   <td>    0.1068</td> <td>    0.002</td> <td>   48.584</td> <td> 0.000</td> <td>    0.102</td> <td>    0.111</td>\n",
       "</tr>\n",
       "<tr>\n",
       "  <th>zipcode_98136</th>   <td>    0.1584</td> <td>    0.003</td> <td>   54.814</td> <td> 0.000</td> <td>    0.153</td> <td>    0.164</td>\n",
       "</tr>\n",
       "<tr>\n",
       "  <th>zipcode_98144</th>   <td>    0.1569</td> <td>    0.003</td> <td>   59.647</td> <td> 0.000</td> <td>    0.152</td> <td>    0.162</td>\n",
       "</tr>\n",
       "<tr>\n",
       "  <th>zipcode_98146</th>   <td>    0.0669</td> <td>    0.003</td> <td>   24.703</td> <td> 0.000</td> <td>    0.062</td> <td>    0.072</td>\n",
       "</tr>\n",
       "<tr>\n",
       "  <th>zipcode_98148</th>   <td>    0.0395</td> <td>    0.006</td> <td>    6.989</td> <td> 0.000</td> <td>    0.028</td> <td>    0.051</td>\n",
       "</tr>\n",
       "<tr>\n",
       "  <th>zipcode_98155</th>   <td>    0.0969</td> <td>    0.002</td> <td>   43.253</td> <td> 0.000</td> <td>    0.093</td> <td>    0.101</td>\n",
       "</tr>\n",
       "<tr>\n",
       "  <th>zipcode_98166</th>   <td>    0.0684</td> <td>    0.003</td> <td>   23.732</td> <td> 0.000</td> <td>    0.063</td> <td>    0.074</td>\n",
       "</tr>\n",
       "<tr>\n",
       "  <th>zipcode_98168</th>   <td>    0.0233</td> <td>    0.003</td> <td>    8.204</td> <td> 0.000</td> <td>    0.018</td> <td>    0.029</td>\n",
       "</tr>\n",
       "<tr>\n",
       "  <th>zipcode_98177</th>   <td>    0.1326</td> <td>    0.003</td> <td>   47.210</td> <td> 0.000</td> <td>    0.127</td> <td>    0.138</td>\n",
       "</tr>\n",
       "<tr>\n",
       "  <th>zipcode_98178</th>   <td>    0.0400</td> <td>    0.003</td> <td>   14.196</td> <td> 0.000</td> <td>    0.034</td> <td>    0.046</td>\n",
       "</tr>\n",
       "<tr>\n",
       "  <th>zipcode_98188</th>   <td>    0.0234</td> <td>    0.004</td> <td>    6.154</td> <td> 0.000</td> <td>    0.016</td> <td>    0.031</td>\n",
       "</tr>\n",
       "<tr>\n",
       "  <th>zipcode_98198</th>   <td>    0.0182</td> <td>    0.003</td> <td>    6.549</td> <td> 0.000</td> <td>    0.013</td> <td>    0.024</td>\n",
       "</tr>\n",
       "<tr>\n",
       "  <th>zipcode_98199</th>   <td>    0.1953</td> <td>    0.003</td> <td>   72.595</td> <td> 0.000</td> <td>    0.190</td> <td>    0.201</td>\n",
       "</tr>\n",
       "</table>\n",
       "<table class=\"simpletable\">\n",
       "<tr>\n",
       "  <th>Omnibus:</th>       <td>1361.436</td> <th>  Durbin-Watson:     </th> <td>   1.996</td>\n",
       "</tr>\n",
       "<tr>\n",
       "  <th>Prob(Omnibus):</th>  <td> 0.000</td>  <th>  Jarque-Bera (JB):  </th> <td>6163.092</td>\n",
       "</tr>\n",
       "<tr>\n",
       "  <th>Skew:</th>           <td>-0.208</td>  <th>  Prob(JB):          </th> <td>    0.00</td>\n",
       "</tr>\n",
       "<tr>\n",
       "  <th>Kurtosis:</th>       <td> 5.778</td>  <th>  Cond. No.          </th> <td>    56.6</td>\n",
       "</tr>\n",
       "</table><br/><br/>Warnings:<br/>[1] Standard Errors assume that the covariance matrix of the errors is correctly specified."
      ],
      "text/plain": [
       "<class 'statsmodels.iolib.summary.Summary'>\n",
       "\"\"\"\n",
       "                            OLS Regression Results                            \n",
       "==============================================================================\n",
       "Dep. Variable:               logprice   R-squared:                       0.883\n",
       "Model:                            OLS   Adj. R-squared:                  0.883\n",
       "Method:                 Least Squares   F-statistic:                     1836.\n",
       "Date:                Tue, 26 Feb 2019   Prob (F-statistic):               0.00\n",
       "Time:                        08:36:33   Log-Likelihood:                 34112.\n",
       "No. Observations:               18748   AIC:                        -6.807e+04\n",
       "Df Residuals:                   18670   BIC:                        -6.746e+04\n",
       "Df Model:                          77                                         \n",
       "Covariance Type:            nonrobust                                         \n",
       "===================================================================================\n",
       "                      coef    std err          t      P>|t|      [0.025      0.975]\n",
       "-----------------------------------------------------------------------------------\n",
       "const              -0.0731      0.003    -25.028      0.000      -0.079      -0.067\n",
       "bedrooms           -0.0357      0.004     -8.116      0.000      -0.044      -0.027\n",
       "bathrooms           0.0721      0.005     14.207      0.000       0.062       0.082\n",
       "floors             -0.0106      0.002     -4.821      0.000      -0.015      -0.006\n",
       "view                0.0525      0.002     28.774      0.000       0.049       0.056\n",
       "condition           0.0429      0.002     21.527      0.000       0.039       0.047\n",
       "grade               0.2066      0.005     44.640      0.000       0.198       0.216\n",
       "yr_built           -0.0105      0.002     -5.554      0.000      -0.014      -0.007\n",
       "logsqftabove        0.1088      0.006     18.575      0.000       0.097       0.120\n",
       "logsqftliving       0.2183      0.007     31.716      0.000       0.205       0.232\n",
       "logsqftliving15     0.0863      0.004     20.292      0.000       0.078       0.095\n",
       "logsqftlot          0.1214      0.007     17.864      0.000       0.108       0.135\n",
       "logsqftlot15       -0.0266      0.007     -3.985      0.000      -0.040      -0.014\n",
       "waterfront_1.0      0.1064      0.004     28.691      0.000       0.099       0.114\n",
       "zipcode_98004       0.2482      0.003     95.447      0.000       0.243       0.253\n",
       "zipcode_98005       0.1582      0.003     47.547      0.000       0.152       0.165\n",
       "zipcode_98006       0.1417      0.002     64.314      0.000       0.137       0.146\n",
       "zipcode_98007       0.1430      0.004     38.121      0.000       0.136       0.150\n",
       "zipcode_98008       0.1439      0.003     53.596      0.000       0.139       0.149\n",
       "zipcode_98010       0.0537      0.004     12.171      0.000       0.045       0.062\n",
       "zipcode_98011       0.0974      0.003     30.666      0.000       0.091       0.104\n",
       "zipcode_98014       0.0663      0.004     16.636      0.000       0.059       0.074\n",
       "zipcode_98019       0.0711      0.003     21.952      0.000       0.065       0.077\n",
       "zipcode_98022       0.0114      0.003      3.840      0.000       0.006       0.017\n",
       "zipcode_98024       0.0936      0.005     19.519      0.000       0.084       0.103\n",
       "zipcode_98027       0.1121      0.002     48.200      0.000       0.108       0.117\n",
       "zipcode_98028       0.0913      0.003     34.076      0.000       0.086       0.097\n",
       "zipcode_98029       0.1327      0.003     51.400      0.000       0.128       0.138\n",
       "zipcode_98030       0.0108      0.003      3.884      0.000       0.005       0.016\n",
       "zipcode_98031       0.0170      0.003      6.210      0.000       0.012       0.022\n",
       "zipcode_98033       0.1733      0.002     75.794      0.000       0.169       0.178\n",
       "zipcode_98034       0.1217      0.002     59.038      0.000       0.118       0.126\n",
       "zipcode_98038       0.0381      0.002     18.832      0.000       0.034       0.042\n",
       "zipcode_98039       0.2859      0.006     47.191      0.000       0.274       0.298\n",
       "zipcode_98040       0.1925      0.003     68.741      0.000       0.187       0.198\n",
       "zipcode_98042       0.0156      0.002      7.580      0.000       0.012       0.020\n",
       "zipcode_98045       0.0704      0.003     22.739      0.000       0.064       0.076\n",
       "zipcode_98052       0.1395      0.002     68.257      0.000       0.135       0.143\n",
       "zipcode_98053       0.1276      0.002     54.225      0.000       0.123       0.132\n",
       "zipcode_98055       0.0342      0.003     12.325      0.000       0.029       0.040\n",
       "zipcode_98056       0.0731      0.002     31.756      0.000       0.069       0.078\n",
       "zipcode_98058       0.0371      0.002     16.534      0.000       0.033       0.042\n",
       "zipcode_98059       0.0763      0.002     34.322      0.000       0.072       0.081\n",
       "zipcode_98065       0.0913      0.003     34.786      0.000       0.086       0.096\n",
       "zipcode_98070       0.0644      0.004     15.740      0.000       0.056       0.072\n",
       "zipcode_98072       0.1041      0.003     37.636      0.000       0.099       0.110\n",
       "zipcode_98074       0.1221      0.002     52.968      0.000       0.118       0.127\n",
       "zipcode_98075       0.1220      0.002     49.130      0.000       0.117       0.127\n",
       "zipcode_98077       0.0940      0.003     29.155      0.000       0.088       0.100\n",
       "zipcode_98102       0.2205      0.004     49.197      0.000       0.212       0.229\n",
       "zipcode_98103       0.1894      0.002     86.768      0.000       0.185       0.194\n",
       "zipcode_98105       0.2138      0.003     70.174      0.000       0.208       0.220\n",
       "zipcode_98106       0.0877      0.003     34.177      0.000       0.083       0.093\n",
       "zipcode_98107       0.1955      0.003     67.431      0.000       0.190       0.201\n",
       "zipcode_98108       0.0878      0.003     26.782      0.000       0.081       0.094\n",
       "zipcode_98109       0.2230      0.004     51.295      0.000       0.214       0.232\n",
       "zipcode_98112       0.2389      0.003     81.280      0.000       0.233       0.245\n",
       "zipcode_98115       0.1862      0.002     87.111      0.000       0.182       0.190\n",
       "zipcode_98116       0.1751      0.003     66.237      0.000       0.170       0.180\n",
       "zipcode_98117       0.1865      0.002     85.540      0.000       0.182       0.191\n",
       "zipcode_98118       0.1121      0.002     50.665      0.000       0.108       0.116\n",
       "zipcode_98119       0.2257      0.003     65.208      0.000       0.219       0.232\n",
       "zipcode_98122       0.1874      0.003     65.986      0.000       0.182       0.193\n",
       "zipcode_98125       0.1289      0.002     55.106      0.000       0.124       0.134\n",
       "zipcode_98126       0.1304      0.003     50.768      0.000       0.125       0.135\n",
       "zipcode_98133       0.1068      0.002     48.584      0.000       0.102       0.111\n",
       "zipcode_98136       0.1584      0.003     54.814      0.000       0.153       0.164\n",
       "zipcode_98144       0.1569      0.003     59.647      0.000       0.152       0.162\n",
       "zipcode_98146       0.0669      0.003     24.703      0.000       0.062       0.072\n",
       "zipcode_98148       0.0395      0.006      6.989      0.000       0.028       0.051\n",
       "zipcode_98155       0.0969      0.002     43.253      0.000       0.093       0.101\n",
       "zipcode_98166       0.0684      0.003     23.732      0.000       0.063       0.074\n",
       "zipcode_98168       0.0233      0.003      8.204      0.000       0.018       0.029\n",
       "zipcode_98177       0.1326      0.003     47.210      0.000       0.127       0.138\n",
       "zipcode_98178       0.0400      0.003     14.196      0.000       0.034       0.046\n",
       "zipcode_98188       0.0234      0.004      6.154      0.000       0.016       0.031\n",
       "zipcode_98198       0.0182      0.003      6.549      0.000       0.013       0.024\n",
       "zipcode_98199       0.1953      0.003     72.595      0.000       0.190       0.201\n",
       "==============================================================================\n",
       "Omnibus:                     1361.436   Durbin-Watson:                   1.996\n",
       "Prob(Omnibus):                  0.000   Jarque-Bera (JB):             6163.092\n",
       "Skew:                          -0.208   Prob(JB):                         0.00\n",
       "Kurtosis:                       5.778   Cond. No.                         56.6\n",
       "==============================================================================\n",
       "\n",
       "Warnings:\n",
       "[1] Standard Errors assume that the covariance matrix of the errors is correctly specified.\n",
       "\"\"\""
      ]
     },
     "execution_count": 112,
     "metadata": {},
     "output_type": "execute_result"
    }
   ],
   "source": [
    "selectedfeatures = sm.add_constant(df_selectedfeatures)\n",
    "model1 = sm.OLS(df_final['logprice'], selectedfeatures).fit()\n",
    "model1.summary()"
   ]
  },
  {
   "cell_type": "markdown",
   "metadata": {},
   "source": [
    "  Looking at the final model summary, it is important to point out the r squared of 0.883. This r squared shows good predictive nature of model. All features have p value less than 0.05 which shows correlation between the feature and the dependent variable, and we are able to throw out null hypothesis which states the feature does not have correlation.\n",
    "  \n",
    "  The coefficients for each feature indicate the importance of each feature to the overall model. The highest coeffients are zipcode_98004 at 0.2482 and zipcode_98039 at 0.2859. These coefficients can be intertpreted by saying that homes in these zipcodes will increase the price by 24.82% and 28.59%, respectively. This makes sense because location of a home is very important when talking about price.  The other features of high importance include sqft_living at 0.2183, bathrooms at .0721 and grade at 0.2066. The coefficient for sqft_living is showing a 1% increase in sqft_living will increase price by 0.2183%. An increase in 1 bathroom equals a 7.21% increase in price. A 1 point increase in grade increases the price by 20.66%. These three variables were shown at the beginning of analysis of having high positive correlation with the price."
   ]
  },
  {
   "cell_type": "code",
   "execution_count": 113,
   "metadata": {},
   "outputs": [
    {
     "data": {
      "text/plain": [
       "logprice           1.000000\n",
       "grade              0.704557\n",
       "logsqftliving      0.674714\n",
       "logsqftliving15    0.605177\n",
       "logsqftabove       0.588293\n",
       "bathrooms          0.551485\n",
       "bedrooms           0.352325\n",
       "view               0.346698\n",
       "floors             0.314043\n",
       "sqft_basement      0.313946\n",
       "zipcode_98004      0.226390\n",
       "zipcode_98040      0.183128\n",
       "waterfront_1.0     0.178653\n",
       "zipcode_98112      0.161493\n",
       "zipcode_98006      0.153170\n",
       "logsqftlot         0.138116\n",
       "zipcode_98039      0.128978\n",
       "logsqftlot15       0.123951\n",
       "zipcode_98075      0.121471\n",
       "zipcode_98033      0.116235\n",
       "zipcode_98105      0.101597\n",
       "zipcode_98199      0.100727\n",
       "zipcode_98119      0.093478\n",
       "zipcode_98074      0.091569\n",
       "zipcode_98005      0.089809\n",
       "zipcode_98052      0.087889\n",
       "yr_built           0.082768\n",
       "zipcode_98053      0.080099\n",
       "zipcode_98115      0.070525\n",
       "zipcode_98109      0.069306\n",
       "                     ...   \n",
       "zipcode_98014     -0.016260\n",
       "zipcode_98019     -0.021245\n",
       "zipcode_98045     -0.024350\n",
       "zipcode_98010     -0.025832\n",
       "zipcode_98166     -0.027287\n",
       "zipcode_98126     -0.040062\n",
       "zipcode_98155     -0.048393\n",
       "zipcode_98056     -0.049947\n",
       "zipcode_98148     -0.051545\n",
       "zipcode_98108     -0.056135\n",
       "zipcode_98118     -0.056802\n",
       "zipcode_98133     -0.060507\n",
       "zipcode_98188     -0.079620\n",
       "zipcode_98058     -0.087928\n",
       "zipcode_98146     -0.088260\n",
       "zipcode_98022     -0.089700\n",
       "zipcode_98092     -0.092023\n",
       "zipcode_98038     -0.093207\n",
       "zipcode_98032     -0.096962\n",
       "zipcode_98055     -0.098635\n",
       "zipcode_98031     -0.100166\n",
       "zipcode_98178     -0.100480\n",
       "zipcode_98106     -0.101898\n",
       "zipcode_98030     -0.102453\n",
       "zipcode_98198     -0.109205\n",
       "zipcode_98003     -0.114988\n",
       "zipcode_98002     -0.131127\n",
       "zipcode_98042     -0.138170\n",
       "zipcode_98168     -0.142086\n",
       "zipcode_98023     -0.158164\n",
       "Name: logprice, Length: 84, dtype: float64"
      ]
     },
     "execution_count": 113,
     "metadata": {},
     "output_type": "execute_result"
    }
   ],
   "source": [
    "df_final.corr()['logprice'].sort_values(ascending=False)"
   ]
  },
  {
   "cell_type": "markdown",
   "metadata": {},
   "source": [
    "### Top Features to determine price of home\n",
    "1. Grade\n",
    "2. Sqft_living\n",
    "3. Sqft_above\n",
    "4. Sqft_living15\n",
    "5. Bathrooms\n",
    "6. *Zipcode - Some influence more than others!"
   ]
  },
  {
   "cell_type": "code",
   "execution_count": 114,
   "metadata": {},
   "outputs": [
    {
     "data": {
      "image/png": "[encoded data removed]",
      "text/plain": [
       "<Figure size 432x288 with 2 Axes>"
      ]
     },
     "metadata": {},
     "output_type": "display_data"
    }
   ],
   "source": [
    "corrmat = df_final.corr()\n",
    "k = 6 \n",
    "cols = corrmat.nlargest(k, 'logprice')['logprice'].index\n",
    "cm = np.corrcoef(df_final[cols].values.T)\n",
    "sns.set(font_scale=1.25)\n",
    "hm = sns.heatmap(cm, cbar=True, annot=True, square=True, fmt='.2f', annot_kws={'size': 10}, yticklabels=cols.values, xticklabels=cols.values)\n",
    "plt.show()"
   ]
  },
  {
   "cell_type": "markdown",
   "metadata": {},
   "source": [
    "Heatmap is visualizing the correlation between price and top 5 features"
   ]
  },
  {
   "cell_type": "markdown",
   "metadata": {},
   "source": [
    "## Revisiting original data questions\n",
    " #### Does number of bedrooms and bathrooms have affect on Price?\n",
    "    - Based on the data, the number of bathrooms has more of an affect on price of a home than the bedrooms. The correlation between bathrooms and price is positive, meaning as the number of bathrooms increases, the price increases. \n",
    " #### Does the grade that the county gives the listing correlate with the Price?\n",
    "    - It appears that the grade given to the county is highly correlated to price. The higher the grade of the property, the higher the price of the home.  It is not clear from the data which features are included when county is grading the property or how often the grade is updated for the property.\n",
    "#### Does location (zipcode) increase Price of home?\n",
    "    - The location does have an influence on the price of the home. Some zipcodes are shown to greatly influence the final price. This is can be seen in the model summary where the coefficients are higher on some zipcodes. The higher the coefficient, the higher percentage increase in price is seen in the zipcode."
   ]
  },
  {
   "cell_type": "markdown",
   "metadata": {},
   "source": []
  }
 ],
 "metadata": {
  "kernelspec": {
   "display_name": "learn-env",
   "language": "python",
   "name": "learn-env"
  },
  "language_info": {
   "codemirror_mode": {
    "name": "ipython",
    "version": 3
   },
   "file_extension": ".py",
   "mimetype": "text/x-python",
   "name": "python",
   "nbconvert_exporter": "python",
   "pygments_lexer": "ipython3",
   "version": "3.7.0"
  }
 },
 "nbformat": 4,
 "nbformat_minor": 2
}
